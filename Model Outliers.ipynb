{
 "cells": [
  {
   "cell_type": "code",
   "execution_count": 1,
   "metadata": {},
   "outputs": [],
   "source": [
    "import numpy as np\n",
    "import pandas as pd\n",
    "import matplotlib.pyplot as plt\n",
    "import seaborn as sns\n",
    "\n",
    "from sklearn.preprocessing import StandardScaler\n",
    "from imblearn.over_sampling import SMOTE\n",
    "from sklearn.model_selection import train_test_split\n",
    "from sklearn.linear_model import LogisticRegression\n",
    "from sklearn.neighbors import KNeighborsClassifier\n",
    "from sklearn.tree import DecisionTreeClassifier\n",
    "from sklearn.ensemble import RandomForestClassifier\n",
    "from sklearn.ensemble import AdaBoostClassifier\n",
    "from sklearn.ensemble import GradientBoostingClassifier\n",
    "from sklearn.metrics import plot_confusion_matrix, confusion_matrix, classification_report, f1_score, precision_score, recall_score, roc_curve, roc_auc_score, auc\n",
    "\n",
    "from sklearn.model_selection import RandomizedSearchCV\n",
    "\n",
    "sns.set_style('darkgrid')\n",
    "%matplotlib inline"
   ]
  },
  {
   "cell_type": "markdown",
   "metadata": {},
   "source": [
    "# Import Data (data with outliers)"
   ]
  },
  {
   "cell_type": "code",
   "execution_count": 2,
   "metadata": {},
   "outputs": [
    {
     "data": {
      "text/html": [
       "<div>\n",
       "<style scoped>\n",
       "    .dataframe tbody tr th:only-of-type {\n",
       "        vertical-align: middle;\n",
       "    }\n",
       "\n",
       "    .dataframe tbody tr th {\n",
       "        vertical-align: top;\n",
       "    }\n",
       "\n",
       "    .dataframe thead th {\n",
       "        text-align: right;\n",
       "    }\n",
       "</style>\n",
       "<table border=\"1\" class=\"dataframe\">\n",
       "  <thead>\n",
       "    <tr style=\"text-align: right;\">\n",
       "      <th></th>\n",
       "      <th>user</th>\n",
       "      <th>first_open</th>\n",
       "      <th>dayofweek</th>\n",
       "      <th>hour</th>\n",
       "      <th>age</th>\n",
       "      <th>screen_list</th>\n",
       "      <th>numscreens</th>\n",
       "      <th>minigame</th>\n",
       "      <th>used_premium_feature</th>\n",
       "      <th>enrolled</th>\n",
       "      <th>...</th>\n",
       "      <th>verifyhousing</th>\n",
       "      <th>verifyhousingamount</th>\n",
       "      <th>verifyincometype</th>\n",
       "      <th>verifymobile</th>\n",
       "      <th>verifyphone</th>\n",
       "      <th>verifyssn</th>\n",
       "      <th>verifytoken</th>\n",
       "      <th>webview</th>\n",
       "      <th>welcomebankverification</th>\n",
       "      <th>yournetwork</th>\n",
       "    </tr>\n",
       "  </thead>\n",
       "  <tbody>\n",
       "    <tr>\n",
       "      <th>0</th>\n",
       "      <td>235136</td>\n",
       "      <td>2012-12-27 02:14:51</td>\n",
       "      <td>3</td>\n",
       "      <td>2</td>\n",
       "      <td>23</td>\n",
       "      <td>idscreen,joinscreen,Cycle,product_review,ScanP...</td>\n",
       "      <td>15</td>\n",
       "      <td>0</td>\n",
       "      <td>0</td>\n",
       "      <td>0</td>\n",
       "      <td>...</td>\n",
       "      <td>0</td>\n",
       "      <td>0</td>\n",
       "      <td>0</td>\n",
       "      <td>0</td>\n",
       "      <td>1</td>\n",
       "      <td>0</td>\n",
       "      <td>1</td>\n",
       "      <td>0</td>\n",
       "      <td>0</td>\n",
       "      <td>0</td>\n",
       "    </tr>\n",
       "    <tr>\n",
       "      <th>1</th>\n",
       "      <td>333588</td>\n",
       "      <td>2012-12-02 01:16:00</td>\n",
       "      <td>6</td>\n",
       "      <td>1</td>\n",
       "      <td>24</td>\n",
       "      <td>joinscreen,product_review,product_review2,Scan...</td>\n",
       "      <td>13</td>\n",
       "      <td>0</td>\n",
       "      <td>0</td>\n",
       "      <td>0</td>\n",
       "      <td>...</td>\n",
       "      <td>0</td>\n",
       "      <td>0</td>\n",
       "      <td>0</td>\n",
       "      <td>0</td>\n",
       "      <td>1</td>\n",
       "      <td>0</td>\n",
       "      <td>1</td>\n",
       "      <td>0</td>\n",
       "      <td>0</td>\n",
       "      <td>0</td>\n",
       "    </tr>\n",
       "    <tr>\n",
       "      <th>2</th>\n",
       "      <td>254414</td>\n",
       "      <td>2013-03-19 19:19:09</td>\n",
       "      <td>1</td>\n",
       "      <td>19</td>\n",
       "      <td>23</td>\n",
       "      <td>Splash,Cycle,Loan</td>\n",
       "      <td>3</td>\n",
       "      <td>0</td>\n",
       "      <td>1</td>\n",
       "      <td>0</td>\n",
       "      <td>...</td>\n",
       "      <td>0</td>\n",
       "      <td>0</td>\n",
       "      <td>0</td>\n",
       "      <td>0</td>\n",
       "      <td>0</td>\n",
       "      <td>0</td>\n",
       "      <td>0</td>\n",
       "      <td>0</td>\n",
       "      <td>0</td>\n",
       "      <td>0</td>\n",
       "    </tr>\n",
       "    <tr>\n",
       "      <th>3</th>\n",
       "      <td>234192</td>\n",
       "      <td>2013-07-05 16:08:46</td>\n",
       "      <td>4</td>\n",
       "      <td>16</td>\n",
       "      <td>28</td>\n",
       "      <td>product_review,Home,product_review,Loan3,Finan...</td>\n",
       "      <td>40</td>\n",
       "      <td>0</td>\n",
       "      <td>0</td>\n",
       "      <td>1</td>\n",
       "      <td>...</td>\n",
       "      <td>0</td>\n",
       "      <td>0</td>\n",
       "      <td>0</td>\n",
       "      <td>0</td>\n",
       "      <td>1</td>\n",
       "      <td>1</td>\n",
       "      <td>0</td>\n",
       "      <td>0</td>\n",
       "      <td>0</td>\n",
       "      <td>0</td>\n",
       "    </tr>\n",
       "    <tr>\n",
       "      <th>4</th>\n",
       "      <td>51549</td>\n",
       "      <td>2013-02-26 18:50:48</td>\n",
       "      <td>1</td>\n",
       "      <td>18</td>\n",
       "      <td>31</td>\n",
       "      <td>idscreen,joinscreen,Cycle,Credit3Container,Sca...</td>\n",
       "      <td>32</td>\n",
       "      <td>0</td>\n",
       "      <td>0</td>\n",
       "      <td>1</td>\n",
       "      <td>...</td>\n",
       "      <td>0</td>\n",
       "      <td>0</td>\n",
       "      <td>0</td>\n",
       "      <td>0</td>\n",
       "      <td>1</td>\n",
       "      <td>1</td>\n",
       "      <td>1</td>\n",
       "      <td>0</td>\n",
       "      <td>0</td>\n",
       "      <td>0</td>\n",
       "    </tr>\n",
       "    <tr>\n",
       "      <th>...</th>\n",
       "      <td>...</td>\n",
       "      <td>...</td>\n",
       "      <td>...</td>\n",
       "      <td>...</td>\n",
       "      <td>...</td>\n",
       "      <td>...</td>\n",
       "      <td>...</td>\n",
       "      <td>...</td>\n",
       "      <td>...</td>\n",
       "      <td>...</td>\n",
       "      <td>...</td>\n",
       "      <td>...</td>\n",
       "      <td>...</td>\n",
       "      <td>...</td>\n",
       "      <td>...</td>\n",
       "      <td>...</td>\n",
       "      <td>...</td>\n",
       "      <td>...</td>\n",
       "      <td>...</td>\n",
       "      <td>...</td>\n",
       "      <td>...</td>\n",
       "    </tr>\n",
       "    <tr>\n",
       "      <th>49995</th>\n",
       "      <td>222774</td>\n",
       "      <td>2013-05-09 13:46:17</td>\n",
       "      <td>3</td>\n",
       "      <td>13</td>\n",
       "      <td>32</td>\n",
       "      <td>Splash,Home,ScanPreview,VerifyPhone,VerifySSN,...</td>\n",
       "      <td>13</td>\n",
       "      <td>0</td>\n",
       "      <td>0</td>\n",
       "      <td>1</td>\n",
       "      <td>...</td>\n",
       "      <td>0</td>\n",
       "      <td>0</td>\n",
       "      <td>0</td>\n",
       "      <td>0</td>\n",
       "      <td>1</td>\n",
       "      <td>1</td>\n",
       "      <td>0</td>\n",
       "      <td>0</td>\n",
       "      <td>0</td>\n",
       "      <td>0</td>\n",
       "    </tr>\n",
       "    <tr>\n",
       "      <th>49996</th>\n",
       "      <td>169179</td>\n",
       "      <td>2013-04-09 00:05:17</td>\n",
       "      <td>1</td>\n",
       "      <td>0</td>\n",
       "      <td>35</td>\n",
       "      <td>Cycle,Splash,Home,RewardsContainer</td>\n",
       "      <td>4</td>\n",
       "      <td>0</td>\n",
       "      <td>1</td>\n",
       "      <td>0</td>\n",
       "      <td>...</td>\n",
       "      <td>0</td>\n",
       "      <td>0</td>\n",
       "      <td>0</td>\n",
       "      <td>0</td>\n",
       "      <td>0</td>\n",
       "      <td>0</td>\n",
       "      <td>0</td>\n",
       "      <td>0</td>\n",
       "      <td>0</td>\n",
       "      <td>0</td>\n",
       "    </tr>\n",
       "    <tr>\n",
       "      <th>49997</th>\n",
       "      <td>302367</td>\n",
       "      <td>2013-02-20 22:41:51</td>\n",
       "      <td>2</td>\n",
       "      <td>22</td>\n",
       "      <td>39</td>\n",
       "      <td>joinscreen,product_review,product_review2,Scan...</td>\n",
       "      <td>25</td>\n",
       "      <td>0</td>\n",
       "      <td>0</td>\n",
       "      <td>0</td>\n",
       "      <td>...</td>\n",
       "      <td>0</td>\n",
       "      <td>0</td>\n",
       "      <td>0</td>\n",
       "      <td>0</td>\n",
       "      <td>1</td>\n",
       "      <td>0</td>\n",
       "      <td>1</td>\n",
       "      <td>0</td>\n",
       "      <td>0</td>\n",
       "      <td>0</td>\n",
       "    </tr>\n",
       "    <tr>\n",
       "      <th>49998</th>\n",
       "      <td>324905</td>\n",
       "      <td>2013-04-28 12:33:04</td>\n",
       "      <td>6</td>\n",
       "      <td>12</td>\n",
       "      <td>27</td>\n",
       "      <td>Cycle,Home,product_review,product_review,produ...</td>\n",
       "      <td>26</td>\n",
       "      <td>0</td>\n",
       "      <td>0</td>\n",
       "      <td>1</td>\n",
       "      <td>...</td>\n",
       "      <td>0</td>\n",
       "      <td>0</td>\n",
       "      <td>0</td>\n",
       "      <td>0</td>\n",
       "      <td>1</td>\n",
       "      <td>1</td>\n",
       "      <td>1</td>\n",
       "      <td>0</td>\n",
       "      <td>0</td>\n",
       "      <td>0</td>\n",
       "    </tr>\n",
       "    <tr>\n",
       "      <th>49999</th>\n",
       "      <td>27047</td>\n",
       "      <td>2012-12-14 01:22:44</td>\n",
       "      <td>4</td>\n",
       "      <td>1</td>\n",
       "      <td>25</td>\n",
       "      <td>product_review,ScanPreview,VerifyDateOfBirth,V...</td>\n",
       "      <td>26</td>\n",
       "      <td>0</td>\n",
       "      <td>0</td>\n",
       "      <td>0</td>\n",
       "      <td>...</td>\n",
       "      <td>0</td>\n",
       "      <td>0</td>\n",
       "      <td>0</td>\n",
       "      <td>0</td>\n",
       "      <td>0</td>\n",
       "      <td>0</td>\n",
       "      <td>0</td>\n",
       "      <td>0</td>\n",
       "      <td>0</td>\n",
       "      <td>0</td>\n",
       "    </tr>\n",
       "  </tbody>\n",
       "</table>\n",
       "<p>50000 rows × 150 columns</p>\n",
       "</div>"
      ],
      "text/plain": [
       "         user           first_open  dayofweek  hour  age  \\\n",
       "0      235136  2012-12-27 02:14:51          3     2   23   \n",
       "1      333588  2012-12-02 01:16:00          6     1   24   \n",
       "2      254414  2013-03-19 19:19:09          1    19   23   \n",
       "3      234192  2013-07-05 16:08:46          4    16   28   \n",
       "4       51549  2013-02-26 18:50:48          1    18   31   \n",
       "...       ...                  ...        ...   ...  ...   \n",
       "49995  222774  2013-05-09 13:46:17          3    13   32   \n",
       "49996  169179  2013-04-09 00:05:17          1     0   35   \n",
       "49997  302367  2013-02-20 22:41:51          2    22   39   \n",
       "49998  324905  2013-04-28 12:33:04          6    12   27   \n",
       "49999   27047  2012-12-14 01:22:44          4     1   25   \n",
       "\n",
       "                                             screen_list  numscreens  \\\n",
       "0      idscreen,joinscreen,Cycle,product_review,ScanP...          15   \n",
       "1      joinscreen,product_review,product_review2,Scan...          13   \n",
       "2                                      Splash,Cycle,Loan           3   \n",
       "3      product_review,Home,product_review,Loan3,Finan...          40   \n",
       "4      idscreen,joinscreen,Cycle,Credit3Container,Sca...          32   \n",
       "...                                                  ...         ...   \n",
       "49995  Splash,Home,ScanPreview,VerifyPhone,VerifySSN,...          13   \n",
       "49996                 Cycle,Splash,Home,RewardsContainer           4   \n",
       "49997  joinscreen,product_review,product_review2,Scan...          25   \n",
       "49998  Cycle,Home,product_review,product_review,produ...          26   \n",
       "49999  product_review,ScanPreview,VerifyDateOfBirth,V...          26   \n",
       "\n",
       "       minigame  used_premium_feature  enrolled  ... verifyhousing  \\\n",
       "0             0                     0         0  ...             0   \n",
       "1             0                     0         0  ...             0   \n",
       "2             0                     1         0  ...             0   \n",
       "3             0                     0         1  ...             0   \n",
       "4             0                     0         1  ...             0   \n",
       "...         ...                   ...       ...  ...           ...   \n",
       "49995         0                     0         1  ...             0   \n",
       "49996         0                     1         0  ...             0   \n",
       "49997         0                     0         0  ...             0   \n",
       "49998         0                     0         1  ...             0   \n",
       "49999         0                     0         0  ...             0   \n",
       "\n",
       "       verifyhousingamount  verifyincometype  verifymobile  verifyphone  \\\n",
       "0                        0                 0             0            1   \n",
       "1                        0                 0             0            1   \n",
       "2                        0                 0             0            0   \n",
       "3                        0                 0             0            1   \n",
       "4                        0                 0             0            1   \n",
       "...                    ...               ...           ...          ...   \n",
       "49995                    0                 0             0            1   \n",
       "49996                    0                 0             0            0   \n",
       "49997                    0                 0             0            1   \n",
       "49998                    0                 0             0            1   \n",
       "49999                    0                 0             0            0   \n",
       "\n",
       "       verifyssn  verifytoken  webview  welcomebankverification  yournetwork  \n",
       "0              0            1        0                        0            0  \n",
       "1              0            1        0                        0            0  \n",
       "2              0            0        0                        0            0  \n",
       "3              1            0        0                        0            0  \n",
       "4              1            1        0                        0            0  \n",
       "...          ...          ...      ...                      ...          ...  \n",
       "49995          1            0        0                        0            0  \n",
       "49996          0            0        0                        0            0  \n",
       "49997          0            1        0                        0            0  \n",
       "49998          1            1        0                        0            0  \n",
       "49999          0            0        0                        0            0  \n",
       "\n",
       "[50000 rows x 150 columns]"
      ]
     },
     "execution_count": 2,
     "metadata": {},
     "output_type": "execute_result"
    }
   ],
   "source": [
    "data = pd.read_csv('clean-data.csv')\n",
    "data"
   ]
  },
  {
   "cell_type": "code",
   "execution_count": 3,
   "metadata": {},
   "outputs": [
    {
     "name": "stdout",
     "output_type": "stream",
     "text": [
      "['user', 'first_open', 'dayofweek', 'hour', 'age', 'screen_list', 'numscreens', 'minigame', 'used_premium_feature', 'enrolled', 'enrolled_date', 'liked', 'fo_to_enrolled', 'about', 'accountview', 'addproperty', 'addvehicle', 'adverseactions', 'alerts', 'bankverification', 'boostfriendslist', 'bvplaidlinkcontainer', 'bvstats', 'camerascreen', 'cc1', 'cc1category', 'cc3', 'communityandinvites', 'contactinfoconfirm', 'credit1', 'credit2', 'credit3', 'credit3alerts', 'credit3container', 'credit3cta', 'credit3dashboard', 'credits', 'cycle', 'editprofile', 'employmentinfo', 'employmentsummary', 'finances', 'findfriendscycle', 'forgotpassword', 'groupedinstitutions', 'history', 'home', 'idandselfiecamerascreen', 'identityverification', 'idscreen', 'instantloanssn', 'instantoffercreateaccount', 'institutions', 'joinscreen', 'landingscreen', 'leaderboard', 'listpicker', 'llloanamount', 'loan', 'loan1', 'loan2', 'loan3', 'loan4', 'loanappagreement', 'loanappbankinfo', 'loanappconfirmwithdrawal', 'loanappdenied', 'loanappesign', 'loanapploan4', 'loanapppaymentschedule', 'loanapppromocode', 'loanappreasons', 'loanapprequestamount', 'loanappschedulecall', 'loanappsuccess', 'loanappverifybankinfo', 'loanappwithdrawn', 'location', 'login', 'loginform', 'managefinances', 'mlwebview', 'networkfailure', 'networkuser', 'newcontactlistinvite', 'payoff', 'product_review', 'product_review2', 'product_review3', 'product_review4', 'product_review5', 'profileannualincome', 'profilechildren', 'profilecompanyname', 'profileeducation', 'profileeducationmajor', 'profileemploymentlength', 'profilejobtitle', 'profilemaritalstatus', 'profilepage', 'profileproduct_review', 'profileverifyincometype', 'profileverifyssn', 'providerlist', 'referralcontainer', 'referrals', 'referralscreen', 'resendtoken', 'reviewcreditcard', 'rewarddetail', 'rewardjoinscreen', 'rewards', 'rewardscontainer', 'saving1', 'saving10', 'saving2', 'saving2amount', 'saving4', 'saving5', 'saving6', 'saving7', 'saving8', 'saving9', 'savinggoaledit', 'savinggoalincomesalary', 'savinggoalother', 'savinggoalpreview', 'scanpreview', 'securitymodal', 'selectinstitution', 'settings', 'signup', 'signupemail', 'signupname', 'splash', 'transactionlist', 'verifyannualincome', 'verifybankinfo', 'verifycountry', 'verifydateofbirth', 'verifyhousing', 'verifyhousingamount', 'verifyincometype', 'verifymobile', 'verifyphone', 'verifyssn', 'verifytoken', 'webview', 'welcomebankverification', 'yournetwork']\n",
      "150\n"
     ]
    }
   ],
   "source": [
    "print(list(data.columns))\n",
    "print(len(list(data.columns)))"
   ]
  },
  {
   "cell_type": "markdown",
   "metadata": {},
   "source": [
    "# Data with outliers - No Standardize - No SMOTE"
   ]
  },
  {
   "cell_type": "code",
   "execution_count": 4,
   "metadata": {},
   "outputs": [],
   "source": [
    "features = data.drop(['user', 'first_open', 'screen_list', 'enrolled_date', 'fo_to_enrolled', 'enrolled'],axis=1)"
   ]
  },
  {
   "cell_type": "code",
   "execution_count": 5,
   "metadata": {},
   "outputs": [],
   "source": [
    "features = pd.concat([features,data['enrolled']],axis=1)"
   ]
  },
  {
   "cell_type": "code",
   "execution_count": 6,
   "metadata": {},
   "outputs": [
    {
     "data": {
      "text/html": [
       "<div>\n",
       "<style scoped>\n",
       "    .dataframe tbody tr th:only-of-type {\n",
       "        vertical-align: middle;\n",
       "    }\n",
       "\n",
       "    .dataframe tbody tr th {\n",
       "        vertical-align: top;\n",
       "    }\n",
       "\n",
       "    .dataframe thead th {\n",
       "        text-align: right;\n",
       "    }\n",
       "</style>\n",
       "<table border=\"1\" class=\"dataframe\">\n",
       "  <thead>\n",
       "    <tr style=\"text-align: right;\">\n",
       "      <th></th>\n",
       "      <th>dayofweek</th>\n",
       "      <th>hour</th>\n",
       "      <th>age</th>\n",
       "      <th>numscreens</th>\n",
       "      <th>minigame</th>\n",
       "      <th>used_premium_feature</th>\n",
       "      <th>liked</th>\n",
       "      <th>about</th>\n",
       "      <th>accountview</th>\n",
       "      <th>addproperty</th>\n",
       "      <th>...</th>\n",
       "      <th>verifyhousingamount</th>\n",
       "      <th>verifyincometype</th>\n",
       "      <th>verifymobile</th>\n",
       "      <th>verifyphone</th>\n",
       "      <th>verifyssn</th>\n",
       "      <th>verifytoken</th>\n",
       "      <th>webview</th>\n",
       "      <th>welcomebankverification</th>\n",
       "      <th>yournetwork</th>\n",
       "      <th>enrolled</th>\n",
       "    </tr>\n",
       "  </thead>\n",
       "  <tbody>\n",
       "    <tr>\n",
       "      <th>0</th>\n",
       "      <td>3</td>\n",
       "      <td>2</td>\n",
       "      <td>23</td>\n",
       "      <td>15</td>\n",
       "      <td>0</td>\n",
       "      <td>0</td>\n",
       "      <td>0</td>\n",
       "      <td>0</td>\n",
       "      <td>0</td>\n",
       "      <td>0</td>\n",
       "      <td>...</td>\n",
       "      <td>0</td>\n",
       "      <td>0</td>\n",
       "      <td>0</td>\n",
       "      <td>1</td>\n",
       "      <td>0</td>\n",
       "      <td>1</td>\n",
       "      <td>0</td>\n",
       "      <td>0</td>\n",
       "      <td>0</td>\n",
       "      <td>0</td>\n",
       "    </tr>\n",
       "    <tr>\n",
       "      <th>1</th>\n",
       "      <td>6</td>\n",
       "      <td>1</td>\n",
       "      <td>24</td>\n",
       "      <td>13</td>\n",
       "      <td>0</td>\n",
       "      <td>0</td>\n",
       "      <td>0</td>\n",
       "      <td>0</td>\n",
       "      <td>0</td>\n",
       "      <td>0</td>\n",
       "      <td>...</td>\n",
       "      <td>0</td>\n",
       "      <td>0</td>\n",
       "      <td>0</td>\n",
       "      <td>1</td>\n",
       "      <td>0</td>\n",
       "      <td>1</td>\n",
       "      <td>0</td>\n",
       "      <td>0</td>\n",
       "      <td>0</td>\n",
       "      <td>0</td>\n",
       "    </tr>\n",
       "    <tr>\n",
       "      <th>2</th>\n",
       "      <td>1</td>\n",
       "      <td>19</td>\n",
       "      <td>23</td>\n",
       "      <td>3</td>\n",
       "      <td>0</td>\n",
       "      <td>1</td>\n",
       "      <td>1</td>\n",
       "      <td>0</td>\n",
       "      <td>0</td>\n",
       "      <td>0</td>\n",
       "      <td>...</td>\n",
       "      <td>0</td>\n",
       "      <td>0</td>\n",
       "      <td>0</td>\n",
       "      <td>0</td>\n",
       "      <td>0</td>\n",
       "      <td>0</td>\n",
       "      <td>0</td>\n",
       "      <td>0</td>\n",
       "      <td>0</td>\n",
       "      <td>0</td>\n",
       "    </tr>\n",
       "    <tr>\n",
       "      <th>3</th>\n",
       "      <td>4</td>\n",
       "      <td>16</td>\n",
       "      <td>28</td>\n",
       "      <td>40</td>\n",
       "      <td>0</td>\n",
       "      <td>0</td>\n",
       "      <td>0</td>\n",
       "      <td>0</td>\n",
       "      <td>0</td>\n",
       "      <td>0</td>\n",
       "      <td>...</td>\n",
       "      <td>0</td>\n",
       "      <td>0</td>\n",
       "      <td>0</td>\n",
       "      <td>1</td>\n",
       "      <td>1</td>\n",
       "      <td>0</td>\n",
       "      <td>0</td>\n",
       "      <td>0</td>\n",
       "      <td>0</td>\n",
       "      <td>1</td>\n",
       "    </tr>\n",
       "    <tr>\n",
       "      <th>4</th>\n",
       "      <td>1</td>\n",
       "      <td>18</td>\n",
       "      <td>31</td>\n",
       "      <td>32</td>\n",
       "      <td>0</td>\n",
       "      <td>0</td>\n",
       "      <td>1</td>\n",
       "      <td>0</td>\n",
       "      <td>0</td>\n",
       "      <td>0</td>\n",
       "      <td>...</td>\n",
       "      <td>0</td>\n",
       "      <td>0</td>\n",
       "      <td>0</td>\n",
       "      <td>1</td>\n",
       "      <td>1</td>\n",
       "      <td>1</td>\n",
       "      <td>0</td>\n",
       "      <td>0</td>\n",
       "      <td>0</td>\n",
       "      <td>1</td>\n",
       "    </tr>\n",
       "    <tr>\n",
       "      <th>...</th>\n",
       "      <td>...</td>\n",
       "      <td>...</td>\n",
       "      <td>...</td>\n",
       "      <td>...</td>\n",
       "      <td>...</td>\n",
       "      <td>...</td>\n",
       "      <td>...</td>\n",
       "      <td>...</td>\n",
       "      <td>...</td>\n",
       "      <td>...</td>\n",
       "      <td>...</td>\n",
       "      <td>...</td>\n",
       "      <td>...</td>\n",
       "      <td>...</td>\n",
       "      <td>...</td>\n",
       "      <td>...</td>\n",
       "      <td>...</td>\n",
       "      <td>...</td>\n",
       "      <td>...</td>\n",
       "      <td>...</td>\n",
       "      <td>...</td>\n",
       "    </tr>\n",
       "    <tr>\n",
       "      <th>49995</th>\n",
       "      <td>3</td>\n",
       "      <td>13</td>\n",
       "      <td>32</td>\n",
       "      <td>13</td>\n",
       "      <td>0</td>\n",
       "      <td>0</td>\n",
       "      <td>0</td>\n",
       "      <td>0</td>\n",
       "      <td>0</td>\n",
       "      <td>0</td>\n",
       "      <td>...</td>\n",
       "      <td>0</td>\n",
       "      <td>0</td>\n",
       "      <td>0</td>\n",
       "      <td>1</td>\n",
       "      <td>1</td>\n",
       "      <td>0</td>\n",
       "      <td>0</td>\n",
       "      <td>0</td>\n",
       "      <td>0</td>\n",
       "      <td>1</td>\n",
       "    </tr>\n",
       "    <tr>\n",
       "      <th>49996</th>\n",
       "      <td>1</td>\n",
       "      <td>0</td>\n",
       "      <td>35</td>\n",
       "      <td>4</td>\n",
       "      <td>0</td>\n",
       "      <td>1</td>\n",
       "      <td>0</td>\n",
       "      <td>0</td>\n",
       "      <td>0</td>\n",
       "      <td>0</td>\n",
       "      <td>...</td>\n",
       "      <td>0</td>\n",
       "      <td>0</td>\n",
       "      <td>0</td>\n",
       "      <td>0</td>\n",
       "      <td>0</td>\n",
       "      <td>0</td>\n",
       "      <td>0</td>\n",
       "      <td>0</td>\n",
       "      <td>0</td>\n",
       "      <td>0</td>\n",
       "    </tr>\n",
       "    <tr>\n",
       "      <th>49997</th>\n",
       "      <td>2</td>\n",
       "      <td>22</td>\n",
       "      <td>39</td>\n",
       "      <td>25</td>\n",
       "      <td>0</td>\n",
       "      <td>0</td>\n",
       "      <td>0</td>\n",
       "      <td>0</td>\n",
       "      <td>0</td>\n",
       "      <td>0</td>\n",
       "      <td>...</td>\n",
       "      <td>0</td>\n",
       "      <td>0</td>\n",
       "      <td>0</td>\n",
       "      <td>1</td>\n",
       "      <td>0</td>\n",
       "      <td>1</td>\n",
       "      <td>0</td>\n",
       "      <td>0</td>\n",
       "      <td>0</td>\n",
       "      <td>0</td>\n",
       "    </tr>\n",
       "    <tr>\n",
       "      <th>49998</th>\n",
       "      <td>6</td>\n",
       "      <td>12</td>\n",
       "      <td>27</td>\n",
       "      <td>26</td>\n",
       "      <td>0</td>\n",
       "      <td>0</td>\n",
       "      <td>0</td>\n",
       "      <td>0</td>\n",
       "      <td>0</td>\n",
       "      <td>0</td>\n",
       "      <td>...</td>\n",
       "      <td>0</td>\n",
       "      <td>0</td>\n",
       "      <td>0</td>\n",
       "      <td>1</td>\n",
       "      <td>1</td>\n",
       "      <td>1</td>\n",
       "      <td>0</td>\n",
       "      <td>0</td>\n",
       "      <td>0</td>\n",
       "      <td>1</td>\n",
       "    </tr>\n",
       "    <tr>\n",
       "      <th>49999</th>\n",
       "      <td>4</td>\n",
       "      <td>1</td>\n",
       "      <td>25</td>\n",
       "      <td>26</td>\n",
       "      <td>0</td>\n",
       "      <td>0</td>\n",
       "      <td>1</td>\n",
       "      <td>0</td>\n",
       "      <td>0</td>\n",
       "      <td>0</td>\n",
       "      <td>...</td>\n",
       "      <td>0</td>\n",
       "      <td>0</td>\n",
       "      <td>0</td>\n",
       "      <td>0</td>\n",
       "      <td>0</td>\n",
       "      <td>0</td>\n",
       "      <td>0</td>\n",
       "      <td>0</td>\n",
       "      <td>0</td>\n",
       "      <td>0</td>\n",
       "    </tr>\n",
       "  </tbody>\n",
       "</table>\n",
       "<p>50000 rows × 145 columns</p>\n",
       "</div>"
      ],
      "text/plain": [
       "       dayofweek  hour  age  numscreens  minigame  used_premium_feature  \\\n",
       "0              3     2   23          15         0                     0   \n",
       "1              6     1   24          13         0                     0   \n",
       "2              1    19   23           3         0                     1   \n",
       "3              4    16   28          40         0                     0   \n",
       "4              1    18   31          32         0                     0   \n",
       "...          ...   ...  ...         ...       ...                   ...   \n",
       "49995          3    13   32          13         0                     0   \n",
       "49996          1     0   35           4         0                     1   \n",
       "49997          2    22   39          25         0                     0   \n",
       "49998          6    12   27          26         0                     0   \n",
       "49999          4     1   25          26         0                     0   \n",
       "\n",
       "       liked  about  accountview  addproperty  ...  verifyhousingamount  \\\n",
       "0          0      0            0            0  ...                    0   \n",
       "1          0      0            0            0  ...                    0   \n",
       "2          1      0            0            0  ...                    0   \n",
       "3          0      0            0            0  ...                    0   \n",
       "4          1      0            0            0  ...                    0   \n",
       "...      ...    ...          ...          ...  ...                  ...   \n",
       "49995      0      0            0            0  ...                    0   \n",
       "49996      0      0            0            0  ...                    0   \n",
       "49997      0      0            0            0  ...                    0   \n",
       "49998      0      0            0            0  ...                    0   \n",
       "49999      1      0            0            0  ...                    0   \n",
       "\n",
       "       verifyincometype  verifymobile  verifyphone  verifyssn  verifytoken  \\\n",
       "0                     0             0            1          0            1   \n",
       "1                     0             0            1          0            1   \n",
       "2                     0             0            0          0            0   \n",
       "3                     0             0            1          1            0   \n",
       "4                     0             0            1          1            1   \n",
       "...                 ...           ...          ...        ...          ...   \n",
       "49995                 0             0            1          1            0   \n",
       "49996                 0             0            0          0            0   \n",
       "49997                 0             0            1          0            1   \n",
       "49998                 0             0            1          1            1   \n",
       "49999                 0             0            0          0            0   \n",
       "\n",
       "       webview  welcomebankverification  yournetwork  enrolled  \n",
       "0            0                        0            0         0  \n",
       "1            0                        0            0         0  \n",
       "2            0                        0            0         0  \n",
       "3            0                        0            0         1  \n",
       "4            0                        0            0         1  \n",
       "...        ...                      ...          ...       ...  \n",
       "49995        0                        0            0         1  \n",
       "49996        0                        0            0         0  \n",
       "49997        0                        0            0         0  \n",
       "49998        0                        0            0         1  \n",
       "49999        0                        0            0         0  \n",
       "\n",
       "[50000 rows x 145 columns]"
      ]
     },
     "execution_count": 6,
     "metadata": {},
     "output_type": "execute_result"
    }
   ],
   "source": [
    "features"
   ]
  },
  {
   "cell_type": "code",
   "execution_count": 7,
   "metadata": {},
   "outputs": [
    {
     "data": {
      "image/png": "[encoded data removed]",
      "text/plain": [
       "<Figure size 432x288 with 1 Axes>"
      ]
     },
     "metadata": {},
     "output_type": "display_data"
    }
   ],
   "source": [
    "sizes_feat = [len(features[features['enrolled']==0]), len(features[features['enrolled']==1])]\n",
    "labels = ['not_enrolled', 'enrolled']\n",
    "\n",
    "plt.title('All data point (enrolled vs not enrolled)')\n",
    "plt.pie(sizes_feat, labels=labels, autopct='%2.2f%%', startangle=90)\n",
    "plt.show()"
   ]
  },
  {
   "cell_type": "markdown",
   "metadata": {},
   "source": [
    "## Train Test Split"
   ]
  },
  {
   "cell_type": "code",
   "execution_count": 8,
   "metadata": {},
   "outputs": [],
   "source": [
    "X = features.drop('enrolled',axis=1)\n",
    "y = features['enrolled']"
   ]
  },
  {
   "cell_type": "code",
   "execution_count": 9,
   "metadata": {},
   "outputs": [],
   "source": [
    "X_train, X_test, y_train, y_test = train_test_split(X, y, test_size=.3, random_state=42)"
   ]
  },
  {
   "cell_type": "code",
   "execution_count": 10,
   "metadata": {},
   "outputs": [
    {
     "data": {
      "text/plain": [
       "1    21859\n",
       "0    13141\n",
       "Name: enrolled, dtype: int64"
      ]
     },
     "execution_count": 10,
     "metadata": {},
     "output_type": "execute_result"
    }
   ],
   "source": [
    "y_train.value_counts()"
   ]
  },
  {
   "cell_type": "code",
   "execution_count": 11,
   "metadata": {},
   "outputs": [
    {
     "data": {
      "text/plain": [
       "21859"
      ]
     },
     "execution_count": 11,
     "metadata": {},
     "output_type": "execute_result"
    }
   ],
   "source": [
    "len(y_train[y_train==1])"
   ]
  },
  {
   "cell_type": "code",
   "execution_count": 12,
   "metadata": {},
   "outputs": [
    {
     "data": {
      "image/png": "[encoded data removed]",
      "text/plain": [
       "<Figure size 432x288 with 1 Axes>"
      ]
     },
     "metadata": {},
     "output_type": "display_data"
    }
   ],
   "source": [
    "sizes = [len(y_train[y_train==0]), len(y_train[y_train==1])]\n",
    "labels = ['not_enroled', 'enrolled']\n",
    "\n",
    "\n",
    "plt.title('Train Data')\n",
    "plt.pie(sizes, labels=labels, autopct='%2.2f%%', startangle=90)\n",
    "\n",
    "plt.show()"
   ]
  },
  {
   "cell_type": "markdown",
   "metadata": {},
   "source": [
    "## Modelling"
   ]
  },
  {
   "cell_type": "markdown",
   "metadata": {},
   "source": [
    "### Logistic Regression"
   ]
  },
  {
   "cell_type": "code",
   "execution_count": 13,
   "metadata": {},
   "outputs": [
    {
     "data": {
      "text/plain": [
       "LogisticRegression(C=1.0, class_weight=None, dual=False, fit_intercept=True,\n",
       "                   intercept_scaling=1, l1_ratio=None, max_iter=100,\n",
       "                   multi_class='auto', n_jobs=None, penalty='l2',\n",
       "                   random_state=None, solver='lbfgs', tol=0.0001, verbose=0,\n",
       "                   warm_start=False)"
      ]
     },
     "execution_count": 13,
     "metadata": {},
     "output_type": "execute_result"
    }
   ],
   "source": [
    "logreg = LogisticRegression()\n",
    "logreg"
   ]
  },
  {
   "cell_type": "code",
   "execution_count": 14,
   "metadata": {},
   "outputs": [
    {
     "name": "stderr",
     "output_type": "stream",
     "text": [
      "C:\\Users\\Admin\\Anaconda3\\lib\\site-packages\\sklearn\\linear_model\\_logistic.py:940: ConvergenceWarning: lbfgs failed to converge (status=1):\n",
      "STOP: TOTAL NO. of ITERATIONS REACHED LIMIT.\n",
      "\n",
      "Increase the number of iterations (max_iter) or scale the data as shown in:\n",
      "    https://scikit-learn.org/stable/modules/preprocessing.html\n",
      "Please also refer to the documentation for alternative solver options:\n",
      "    https://scikit-learn.org/stable/modules/linear_model.html#logistic-regression\n",
      "  extra_warning_msg=_LOGISTIC_SOLVER_CONVERGENCE_MSG)\n"
     ]
    },
    {
     "data": {
      "text/plain": [
       "LogisticRegression(C=1.0, class_weight=None, dual=False, fit_intercept=True,\n",
       "                   intercept_scaling=1, l1_ratio=None, max_iter=100,\n",
       "                   multi_class='auto', n_jobs=None, penalty='l2',\n",
       "                   random_state=None, solver='lbfgs', tol=0.0001, verbose=0,\n",
       "                   warm_start=False)"
      ]
     },
     "execution_count": 14,
     "metadata": {},
     "output_type": "execute_result"
    }
   ],
   "source": [
    "logreg.fit(X_train,y_train)"
   ]
  },
  {
   "cell_type": "code",
   "execution_count": 15,
   "metadata": {},
   "outputs": [],
   "source": [
    "pred_logreg = logreg.predict(X_test)\n",
    "proba_logreg = logreg.predict_proba(X_test)"
   ]
  },
  {
   "cell_type": "code",
   "execution_count": 16,
   "metadata": {},
   "outputs": [
    {
     "name": "stdout",
     "output_type": "stream",
     "text": [
      "<sklearn.metrics._plot.confusion_matrix.ConfusionMatrixDisplay object at 0x000002570A6AEF08>\n"
     ]
    },
    {
     "data": {
      "image/png": "[encoded data removed]",
      "text/plain": [
       "<Figure size 432x288 with 2 Axes>"
      ]
     },
     "metadata": {
      "needs_background": "light"
     },
     "output_type": "display_data"
    }
   ],
   "source": [
    "print(plot_confusion_matrix(logreg, X_test, y_test))"
   ]
  },
  {
   "cell_type": "code",
   "execution_count": 17,
   "metadata": {},
   "outputs": [
    {
     "name": "stdout",
     "output_type": "stream",
     "text": [
      "[[5111  674]\n",
      " [1592 7623]]\n"
     ]
    }
   ],
   "source": [
    "print(confusion_matrix(y_test, pred_logreg))"
   ]
  },
  {
   "cell_type": "code",
   "execution_count": 18,
   "metadata": {},
   "outputs": [
    {
     "name": "stdout",
     "output_type": "stream",
     "text": [
      "              precision    recall  f1-score   support\n",
      "\n",
      "           0       0.76      0.88      0.82      5785\n",
      "           1       0.92      0.83      0.87      9215\n",
      "\n",
      "    accuracy                           0.85     15000\n",
      "   macro avg       0.84      0.86      0.84     15000\n",
      "weighted avg       0.86      0.85      0.85     15000\n",
      "\n"
     ]
    }
   ],
   "source": [
    "print(classification_report(y_test, pred_logreg))"
   ]
  },
  {
   "cell_type": "code",
   "execution_count": 19,
   "metadata": {},
   "outputs": [
    {
     "name": "stdout",
     "output_type": "stream",
     "text": [
      "F1 Score : 0.8706030150753769\n",
      "Precision Score : 0.9187658189707123\n",
      "Recall Score : 0.8272381985892566\n"
     ]
    }
   ],
   "source": [
    "print(f'F1 Score : {f1_score(y_test, pred_logreg)}')\n",
    "print(f'Precision Score : {precision_score(y_test, pred_logreg)}')\n",
    "print(f'Recall Score : {recall_score(y_test, pred_logreg)}')"
   ]
  },
  {
   "cell_type": "code",
   "execution_count": 20,
   "metadata": {},
   "outputs": [
    {
     "data": {
      "text/plain": [
       "array([0.31808153, 0.59339452, 0.99609234, ..., 0.99895169, 0.08138809,\n",
       "       0.99487239])"
      ]
     },
     "execution_count": 20,
     "metadata": {},
     "output_type": "execute_result"
    }
   ],
   "source": [
    "proba_logreg[:,1]"
   ]
  },
  {
   "cell_type": "markdown",
   "metadata": {},
   "source": [
    "### Cross Validation"
   ]
  },
  {
   "cell_type": "code",
   "execution_count": 21,
   "metadata": {},
   "outputs": [],
   "source": [
    "from sklearn.model_selection import cross_val_score"
   ]
  },
  {
   "cell_type": "code",
   "execution_count": 22,
   "metadata": {},
   "outputs": [
    {
     "name": "stderr",
     "output_type": "stream",
     "text": [
      "C:\\Users\\Admin\\Anaconda3\\lib\\site-packages\\sklearn\\linear_model\\_logistic.py:940: ConvergenceWarning: lbfgs failed to converge (status=1):\n",
      "STOP: TOTAL NO. of ITERATIONS REACHED LIMIT.\n",
      "\n",
      "Increase the number of iterations (max_iter) or scale the data as shown in:\n",
      "    https://scikit-learn.org/stable/modules/preprocessing.html\n",
      "Please also refer to the documentation for alternative solver options:\n",
      "    https://scikit-learn.org/stable/modules/linear_model.html#logistic-regression\n",
      "  extra_warning_msg=_LOGISTIC_SOLVER_CONVERGENCE_MSG)\n",
      "C:\\Users\\Admin\\Anaconda3\\lib\\site-packages\\sklearn\\linear_model\\_logistic.py:940: ConvergenceWarning: lbfgs failed to converge (status=1):\n",
      "STOP: TOTAL NO. of ITERATIONS REACHED LIMIT.\n",
      "\n",
      "Increase the number of iterations (max_iter) or scale the data as shown in:\n",
      "    https://scikit-learn.org/stable/modules/preprocessing.html\n",
      "Please also refer to the documentation for alternative solver options:\n",
      "    https://scikit-learn.org/stable/modules/linear_model.html#logistic-regression\n",
      "  extra_warning_msg=_LOGISTIC_SOLVER_CONVERGENCE_MSG)\n",
      "C:\\Users\\Admin\\Anaconda3\\lib\\site-packages\\sklearn\\linear_model\\_logistic.py:940: ConvergenceWarning: lbfgs failed to converge (status=1):\n",
      "STOP: TOTAL NO. of ITERATIONS REACHED LIMIT.\n",
      "\n",
      "Increase the number of iterations (max_iter) or scale the data as shown in:\n",
      "    https://scikit-learn.org/stable/modules/preprocessing.html\n",
      "Please also refer to the documentation for alternative solver options:\n",
      "    https://scikit-learn.org/stable/modules/linear_model.html#logistic-regression\n",
      "  extra_warning_msg=_LOGISTIC_SOLVER_CONVERGENCE_MSG)\n",
      "C:\\Users\\Admin\\Anaconda3\\lib\\site-packages\\sklearn\\linear_model\\_logistic.py:940: ConvergenceWarning: lbfgs failed to converge (status=1):\n",
      "STOP: TOTAL NO. of ITERATIONS REACHED LIMIT.\n",
      "\n",
      "Increase the number of iterations (max_iter) or scale the data as shown in:\n",
      "    https://scikit-learn.org/stable/modules/preprocessing.html\n",
      "Please also refer to the documentation for alternative solver options:\n",
      "    https://scikit-learn.org/stable/modules/linear_model.html#logistic-regression\n",
      "  extra_warning_msg=_LOGISTIC_SOLVER_CONVERGENCE_MSG)\n",
      "C:\\Users\\Admin\\Anaconda3\\lib\\site-packages\\sklearn\\linear_model\\_logistic.py:940: ConvergenceWarning: lbfgs failed to converge (status=1):\n",
      "STOP: TOTAL NO. of ITERATIONS REACHED LIMIT.\n",
      "\n",
      "Increase the number of iterations (max_iter) or scale the data as shown in:\n",
      "    https://scikit-learn.org/stable/modules/preprocessing.html\n",
      "Please also refer to the documentation for alternative solver options:\n",
      "    https://scikit-learn.org/stable/modules/linear_model.html#logistic-regression\n",
      "  extra_warning_msg=_LOGISTIC_SOLVER_CONVERGENCE_MSG)\n",
      "C:\\Users\\Admin\\Anaconda3\\lib\\site-packages\\sklearn\\linear_model\\_logistic.py:940: ConvergenceWarning: lbfgs failed to converge (status=1):\n",
      "STOP: TOTAL NO. of ITERATIONS REACHED LIMIT.\n",
      "\n",
      "Increase the number of iterations (max_iter) or scale the data as shown in:\n",
      "    https://scikit-learn.org/stable/modules/preprocessing.html\n",
      "Please also refer to the documentation for alternative solver options:\n",
      "    https://scikit-learn.org/stable/modules/linear_model.html#logistic-regression\n",
      "  extra_warning_msg=_LOGISTIC_SOLVER_CONVERGENCE_MSG)\n",
      "C:\\Users\\Admin\\Anaconda3\\lib\\site-packages\\sklearn\\linear_model\\_logistic.py:940: ConvergenceWarning: lbfgs failed to converge (status=1):\n",
      "STOP: TOTAL NO. of ITERATIONS REACHED LIMIT.\n",
      "\n",
      "Increase the number of iterations (max_iter) or scale the data as shown in:\n",
      "    https://scikit-learn.org/stable/modules/preprocessing.html\n",
      "Please also refer to the documentation for alternative solver options:\n",
      "    https://scikit-learn.org/stable/modules/linear_model.html#logistic-regression\n",
      "  extra_warning_msg=_LOGISTIC_SOLVER_CONVERGENCE_MSG)\n",
      "C:\\Users\\Admin\\Anaconda3\\lib\\site-packages\\sklearn\\linear_model\\_logistic.py:940: ConvergenceWarning: lbfgs failed to converge (status=1):\n",
      "STOP: TOTAL NO. of ITERATIONS REACHED LIMIT.\n",
      "\n",
      "Increase the number of iterations (max_iter) or scale the data as shown in:\n",
      "    https://scikit-learn.org/stable/modules/preprocessing.html\n",
      "Please also refer to the documentation for alternative solver options:\n",
      "    https://scikit-learn.org/stable/modules/linear_model.html#logistic-regression\n",
      "  extra_warning_msg=_LOGISTIC_SOLVER_CONVERGENCE_MSG)\n",
      "C:\\Users\\Admin\\Anaconda3\\lib\\site-packages\\sklearn\\linear_model\\_logistic.py:940: ConvergenceWarning: lbfgs failed to converge (status=1):\n",
      "STOP: TOTAL NO. of ITERATIONS REACHED LIMIT.\n",
      "\n",
      "Increase the number of iterations (max_iter) or scale the data as shown in:\n",
      "    https://scikit-learn.org/stable/modules/preprocessing.html\n",
      "Please also refer to the documentation for alternative solver options:\n",
      "    https://scikit-learn.org/stable/modules/linear_model.html#logistic-regression\n",
      "  extra_warning_msg=_LOGISTIC_SOLVER_CONVERGENCE_MSG)\n",
      "C:\\Users\\Admin\\Anaconda3\\lib\\site-packages\\sklearn\\linear_model\\_logistic.py:940: ConvergenceWarning: lbfgs failed to converge (status=1):\n",
      "STOP: TOTAL NO. of ITERATIONS REACHED LIMIT.\n",
      "\n",
      "Increase the number of iterations (max_iter) or scale the data as shown in:\n",
      "    https://scikit-learn.org/stable/modules/preprocessing.html\n",
      "Please also refer to the documentation for alternative solver options:\n",
      "    https://scikit-learn.org/stable/modules/linear_model.html#logistic-regression\n",
      "  extra_warning_msg=_LOGISTIC_SOLVER_CONVERGENCE_MSG)\n"
     ]
    },
    {
     "data": {
      "text/plain": [
       "0.8461333333333332"
      ]
     },
     "execution_count": 22,
     "metadata": {},
     "output_type": "execute_result"
    }
   ],
   "source": [
    "cross_val_score(logreg, X_test, y_test, cv = 10).mean()"
   ]
  },
  {
   "cell_type": "code",
   "execution_count": null,
   "metadata": {},
   "outputs": [],
   "source": []
  },
  {
   "cell_type": "markdown",
   "metadata": {},
   "source": [
    "### KNN"
   ]
  },
  {
   "cell_type": "code",
   "execution_count": 23,
   "metadata": {},
   "outputs": [
    {
     "data": {
      "text/plain": [
       "KNeighborsClassifier(algorithm='auto', leaf_size=30, metric='minkowski',\n",
       "                     metric_params=None, n_jobs=None, n_neighbors=5, p=2,\n",
       "                     weights='uniform')"
      ]
     },
     "execution_count": 23,
     "metadata": {},
     "output_type": "execute_result"
    }
   ],
   "source": [
    "knn = KNeighborsClassifier()\n",
    "knn"
   ]
  },
  {
   "cell_type": "code",
   "execution_count": 24,
   "metadata": {},
   "outputs": [
    {
     "data": {
      "text/plain": [
       "KNeighborsClassifier(algorithm='auto', leaf_size=30, metric='minkowski',\n",
       "                     metric_params=None, n_jobs=None, n_neighbors=5, p=2,\n",
       "                     weights='uniform')"
      ]
     },
     "execution_count": 24,
     "metadata": {},
     "output_type": "execute_result"
    }
   ],
   "source": [
    "knn.fit(X_train,y_train)"
   ]
  },
  {
   "cell_type": "code",
   "execution_count": 25,
   "metadata": {},
   "outputs": [],
   "source": [
    "pred_knn = knn.predict(X_test)\n",
    "proba_knn = knn.predict_proba(X_test)"
   ]
  },
  {
   "cell_type": "code",
   "execution_count": 26,
   "metadata": {},
   "outputs": [
    {
     "name": "stdout",
     "output_type": "stream",
     "text": [
      "<sklearn.metrics._plot.confusion_matrix.ConfusionMatrixDisplay object at 0x000002570A7C4348>\n"
     ]
    },
    {
     "data": {
      "image/png": "[encoded data removed]",
      "text/plain": [
       "<Figure size 432x288 with 2 Axes>"
      ]
     },
     "metadata": {
      "needs_background": "light"
     },
     "output_type": "display_data"
    }
   ],
   "source": [
    "print(plot_confusion_matrix(knn, X_test, y_test))"
   ]
  },
  {
   "cell_type": "code",
   "execution_count": 27,
   "metadata": {},
   "outputs": [
    {
     "name": "stdout",
     "output_type": "stream",
     "text": [
      "[[3018 2767]\n",
      " [1681 7534]]\n"
     ]
    }
   ],
   "source": [
    "print(confusion_matrix(y_test, pred_knn))"
   ]
  },
  {
   "cell_type": "code",
   "execution_count": 28,
   "metadata": {},
   "outputs": [
    {
     "name": "stdout",
     "output_type": "stream",
     "text": [
      "              precision    recall  f1-score   support\n",
      "\n",
      "           0       0.64      0.52      0.58      5785\n",
      "           1       0.73      0.82      0.77      9215\n",
      "\n",
      "    accuracy                           0.70     15000\n",
      "   macro avg       0.69      0.67      0.67     15000\n",
      "weighted avg       0.70      0.70      0.70     15000\n",
      "\n"
     ]
    }
   ],
   "source": [
    "print(classification_report(y_test, pred_knn))"
   ]
  },
  {
   "cell_type": "code",
   "execution_count": 29,
   "metadata": {},
   "outputs": [
    {
     "name": "stdout",
     "output_type": "stream",
     "text": [
      "F1 Score : 0.7720844435335109\n",
      "Precision Score : 0.7313853023978254\n",
      "Recall Score : 0.8175800325556158\n"
     ]
    }
   ],
   "source": [
    "print(f'F1 Score : {f1_score(y_test, pred_knn)}')\n",
    "print(f'Precision Score : {precision_score(y_test, pred_knn)}')\n",
    "print(f'Recall Score : {recall_score(y_test, pred_knn)}')"
   ]
  },
  {
   "cell_type": "code",
   "execution_count": 30,
   "metadata": {},
   "outputs": [
    {
     "data": {
      "text/plain": [
       "0.6803333333333333"
      ]
     },
     "execution_count": 30,
     "metadata": {},
     "output_type": "execute_result"
    }
   ],
   "source": [
    "cross_val_score(knn, X_test, y_test, cv = 10).mean()"
   ]
  },
  {
   "cell_type": "markdown",
   "metadata": {},
   "source": [
    "### Decision Tree Classifier"
   ]
  },
  {
   "cell_type": "code",
   "execution_count": 31,
   "metadata": {},
   "outputs": [
    {
     "data": {
      "text/plain": [
       "DecisionTreeClassifier(ccp_alpha=0.0, class_weight=None, criterion='gini',\n",
       "                       max_depth=None, max_features=None, max_leaf_nodes=None,\n",
       "                       min_impurity_decrease=0.0, min_impurity_split=None,\n",
       "                       min_samples_leaf=1, min_samples_split=2,\n",
       "                       min_weight_fraction_leaf=0.0, presort='deprecated',\n",
       "                       random_state=None, splitter='best')"
      ]
     },
     "execution_count": 31,
     "metadata": {},
     "output_type": "execute_result"
    }
   ],
   "source": [
    "dtree = DecisionTreeClassifier()\n",
    "dtree"
   ]
  },
  {
   "cell_type": "code",
   "execution_count": 32,
   "metadata": {},
   "outputs": [
    {
     "data": {
      "text/plain": [
       "DecisionTreeClassifier(ccp_alpha=0.0, class_weight=None, criterion='gini',\n",
       "                       max_depth=None, max_features=None, max_leaf_nodes=None,\n",
       "                       min_impurity_decrease=0.0, min_impurity_split=None,\n",
       "                       min_samples_leaf=1, min_samples_split=2,\n",
       "                       min_weight_fraction_leaf=0.0, presort='deprecated',\n",
       "                       random_state=None, splitter='best')"
      ]
     },
     "execution_count": 32,
     "metadata": {},
     "output_type": "execute_result"
    }
   ],
   "source": [
    "dtree.fit(X_train,y_train)"
   ]
  },
  {
   "cell_type": "code",
   "execution_count": 33,
   "metadata": {},
   "outputs": [],
   "source": [
    "pred_dt = dtree.predict(X_test)\n",
    "proba_dt = dtree.predict_proba(X_test)"
   ]
  },
  {
   "cell_type": "code",
   "execution_count": 34,
   "metadata": {},
   "outputs": [
    {
     "name": "stdout",
     "output_type": "stream",
     "text": [
      "<sklearn.metrics._plot.confusion_matrix.ConfusionMatrixDisplay object at 0x000002570ACF7B08>\n"
     ]
    },
    {
     "data": {
      "image/png": "[encoded data removed]",
      "text/plain": [
       "<Figure size 432x288 with 2 Axes>"
      ]
     },
     "metadata": {
      "needs_background": "light"
     },
     "output_type": "display_data"
    }
   ],
   "source": [
    "print(plot_confusion_matrix(dtree, X_test, y_test))"
   ]
  },
  {
   "cell_type": "code",
   "execution_count": 35,
   "metadata": {},
   "outputs": [
    {
     "name": "stdout",
     "output_type": "stream",
     "text": [
      "[[4199 1586]\n",
      " [1412 7803]]\n"
     ]
    }
   ],
   "source": [
    "print(confusion_matrix(y_test, pred_dt))"
   ]
  },
  {
   "cell_type": "code",
   "execution_count": 36,
   "metadata": {},
   "outputs": [
    {
     "name": "stdout",
     "output_type": "stream",
     "text": [
      "              precision    recall  f1-score   support\n",
      "\n",
      "           0       0.75      0.73      0.74      5785\n",
      "           1       0.83      0.85      0.84      9215\n",
      "\n",
      "    accuracy                           0.80     15000\n",
      "   macro avg       0.79      0.79      0.79     15000\n",
      "weighted avg       0.80      0.80      0.80     15000\n",
      "\n"
     ]
    }
   ],
   "source": [
    "print(classification_report(y_test, pred_dt))"
   ]
  },
  {
   "cell_type": "code",
   "execution_count": 37,
   "metadata": {},
   "outputs": [
    {
     "name": "stdout",
     "output_type": "stream",
     "text": [
      "F1 Score : 0.8388518598150935\n",
      "Precision Score : 0.8310789221429332\n",
      "Recall Score : 0.8467715680954965\n"
     ]
    }
   ],
   "source": [
    "print(f'F1 Score : {f1_score(y_test, pred_dt)}')\n",
    "print(f'Precision Score : {precision_score(y_test, pred_dt)}')\n",
    "print(f'Recall Score : {recall_score(y_test, pred_dt)}')"
   ]
  },
  {
   "cell_type": "code",
   "execution_count": 38,
   "metadata": {},
   "outputs": [
    {
     "data": {
      "text/plain": [
       "0.8040666666666667"
      ]
     },
     "execution_count": 38,
     "metadata": {},
     "output_type": "execute_result"
    }
   ],
   "source": [
    "cross_val_score(dtree, X_test, y_test, cv = 10).mean()"
   ]
  },
  {
   "cell_type": "markdown",
   "metadata": {},
   "source": [
    "### Random Forest Classifier"
   ]
  },
  {
   "cell_type": "code",
   "execution_count": 39,
   "metadata": {},
   "outputs": [
    {
     "data": {
      "text/plain": [
       "RandomForestClassifier(bootstrap=True, ccp_alpha=0.0, class_weight=None,\n",
       "                       criterion='gini', max_depth=None, max_features='auto',\n",
       "                       max_leaf_nodes=None, max_samples=None,\n",
       "                       min_impurity_decrease=0.0, min_impurity_split=None,\n",
       "                       min_samples_leaf=1, min_samples_split=2,\n",
       "                       min_weight_fraction_leaf=0.0, n_estimators=100,\n",
       "                       n_jobs=None, oob_score=False, random_state=None,\n",
       "                       verbose=0, warm_start=False)"
      ]
     },
     "execution_count": 39,
     "metadata": {},
     "output_type": "execute_result"
    }
   ],
   "source": [
    "rfc = RandomForestClassifier()\n",
    "rfc"
   ]
  },
  {
   "cell_type": "code",
   "execution_count": 40,
   "metadata": {},
   "outputs": [
    {
     "data": {
      "text/plain": [
       "RandomForestClassifier(bootstrap=True, ccp_alpha=0.0, class_weight=None,\n",
       "                       criterion='gini', max_depth=None, max_features='auto',\n",
       "                       max_leaf_nodes=None, max_samples=None,\n",
       "                       min_impurity_decrease=0.0, min_impurity_split=None,\n",
       "                       min_samples_leaf=1, min_samples_split=2,\n",
       "                       min_weight_fraction_leaf=0.0, n_estimators=100,\n",
       "                       n_jobs=None, oob_score=False, random_state=None,\n",
       "                       verbose=0, warm_start=False)"
      ]
     },
     "execution_count": 40,
     "metadata": {},
     "output_type": "execute_result"
    }
   ],
   "source": [
    "rfc.fit(X_train,y_train)"
   ]
  },
  {
   "cell_type": "code",
   "execution_count": 41,
   "metadata": {},
   "outputs": [],
   "source": [
    "pred_rfc = rfc.predict(X_test)\n",
    "proba_rfc = rfc.predict_proba(X_test)"
   ]
  },
  {
   "cell_type": "code",
   "execution_count": 42,
   "metadata": {},
   "outputs": [
    {
     "name": "stdout",
     "output_type": "stream",
     "text": [
      "<sklearn.metrics._plot.confusion_matrix.ConfusionMatrixDisplay object at 0x0000025776E289C8>\n"
     ]
    },
    {
     "data": {
      "image/png": "[encoded data removed]",
      "text/plain": [
       "<Figure size 432x288 with 2 Axes>"
      ]
     },
     "metadata": {
      "needs_background": "light"
     },
     "output_type": "display_data"
    }
   ],
   "source": [
    "print(plot_confusion_matrix(rfc, X_test, y_test))"
   ]
  },
  {
   "cell_type": "code",
   "execution_count": 43,
   "metadata": {},
   "outputs": [
    {
     "name": "stdout",
     "output_type": "stream",
     "text": [
      "[[5067  718]\n",
      " [1443 7772]]\n"
     ]
    }
   ],
   "source": [
    "print(confusion_matrix(y_test, pred_rfc))"
   ]
  },
  {
   "cell_type": "code",
   "execution_count": 44,
   "metadata": {},
   "outputs": [
    {
     "name": "stdout",
     "output_type": "stream",
     "text": [
      "              precision    recall  f1-score   support\n",
      "\n",
      "           0       0.78      0.88      0.82      5785\n",
      "           1       0.92      0.84      0.88      9215\n",
      "\n",
      "    accuracy                           0.86     15000\n",
      "   macro avg       0.85      0.86      0.85     15000\n",
      "weighted avg       0.86      0.86      0.86     15000\n",
      "\n"
     ]
    }
   ],
   "source": [
    "print(classification_report(y_test, pred_rfc))"
   ]
  },
  {
   "cell_type": "code",
   "execution_count": 45,
   "metadata": {},
   "outputs": [
    {
     "name": "stdout",
     "output_type": "stream",
     "text": [
      "F1 Score : 0.8779440835922055\n",
      "Precision Score : 0.9154299175500589\n",
      "Recall Score : 0.8434074877916441\n"
     ]
    }
   ],
   "source": [
    "print(f'F1 Score : {f1_score(y_test, pred_rfc)}')\n",
    "print(f'Precision Score : {precision_score(y_test, pred_rfc)}')\n",
    "print(f'Recall Score : {recall_score(y_test, pred_rfc)}')"
   ]
  },
  {
   "cell_type": "code",
   "execution_count": 46,
   "metadata": {},
   "outputs": [
    {
     "data": {
      "text/plain": [
       "0.8519333333333334"
      ]
     },
     "execution_count": 46,
     "metadata": {},
     "output_type": "execute_result"
    }
   ],
   "source": [
    "cross_val_score(rfc, X_test, y_test, cv = 10).mean()"
   ]
  },
  {
   "cell_type": "markdown",
   "metadata": {},
   "source": [
    "### Ada Boost - dtree"
   ]
  },
  {
   "cell_type": "code",
   "execution_count": 47,
   "metadata": {},
   "outputs": [],
   "source": [
    "ada_dt = AdaBoostClassifier(base_estimator=dtree)"
   ]
  },
  {
   "cell_type": "code",
   "execution_count": 48,
   "metadata": {},
   "outputs": [
    {
     "data": {
      "text/plain": [
       "AdaBoostClassifier(algorithm='SAMME.R',\n",
       "                   base_estimator=DecisionTreeClassifier(ccp_alpha=0.0,\n",
       "                                                         class_weight=None,\n",
       "                                                         criterion='gini',\n",
       "                                                         max_depth=None,\n",
       "                                                         max_features=None,\n",
       "                                                         max_leaf_nodes=None,\n",
       "                                                         min_impurity_decrease=0.0,\n",
       "                                                         min_impurity_split=None,\n",
       "                                                         min_samples_leaf=1,\n",
       "                                                         min_samples_split=2,\n",
       "                                                         min_weight_fraction_leaf=0.0,\n",
       "                                                         presort='deprecated',\n",
       "                                                         random_state=None,\n",
       "                                                         splitter='best'),\n",
       "                   learning_rate=1.0, n_estimators=50, random_state=None)"
      ]
     },
     "execution_count": 48,
     "metadata": {},
     "output_type": "execute_result"
    }
   ],
   "source": [
    "ada_dt.fit(X_train, y_train)"
   ]
  },
  {
   "cell_type": "code",
   "execution_count": 49,
   "metadata": {},
   "outputs": [],
   "source": [
    "pred_ada_dt = ada_dt.predict(X_test)\n",
    "proba_ada_dt = ada_dt.predict_proba(X_test)"
   ]
  },
  {
   "cell_type": "code",
   "execution_count": 50,
   "metadata": {},
   "outputs": [
    {
     "name": "stdout",
     "output_type": "stream",
     "text": [
      "<sklearn.metrics._plot.confusion_matrix.ConfusionMatrixDisplay object at 0x000002570A6FC508>\n"
     ]
    },
    {
     "data": {
      "image/png": "[encoded data removed]",
      "text/plain": [
       "<Figure size 432x288 with 2 Axes>"
      ]
     },
     "metadata": {
      "needs_background": "light"
     },
     "output_type": "display_data"
    }
   ],
   "source": [
    "print(plot_confusion_matrix(ada_dt, X_test, y_test))"
   ]
  },
  {
   "cell_type": "code",
   "execution_count": 51,
   "metadata": {},
   "outputs": [
    {
     "name": "stdout",
     "output_type": "stream",
     "text": [
      "[[4608 1177]\n",
      " [1576 7639]]\n"
     ]
    }
   ],
   "source": [
    "print(confusion_matrix(y_test, pred_ada_dt))"
   ]
  },
  {
   "cell_type": "code",
   "execution_count": 52,
   "metadata": {},
   "outputs": [
    {
     "name": "stdout",
     "output_type": "stream",
     "text": [
      "              precision    recall  f1-score   support\n",
      "\n",
      "           0       0.75      0.80      0.77      5785\n",
      "           1       0.87      0.83      0.85      9215\n",
      "\n",
      "    accuracy                           0.82     15000\n",
      "   macro avg       0.81      0.81      0.81     15000\n",
      "weighted avg       0.82      0.82      0.82     15000\n",
      "\n"
     ]
    }
   ],
   "source": [
    "print(classification_report(y_test, pred_ada_dt))"
   ]
  },
  {
   "cell_type": "code",
   "execution_count": 53,
   "metadata": {},
   "outputs": [
    {
     "name": "stdout",
     "output_type": "stream",
     "text": [
      "F1 Score : 0.8473185070156952\n",
      "Precision Score : 0.8664927404718693\n",
      "Recall Score : 0.8289744981009224\n"
     ]
    }
   ],
   "source": [
    "print(f'F1 Score : {f1_score(y_test, pred_ada_dt)}')\n",
    "print(f'Precision Score : {precision_score(y_test, pred_ada_dt)}')\n",
    "print(f'Recall Score : {recall_score(y_test, pred_ada_dt)}')"
   ]
  },
  {
   "cell_type": "code",
   "execution_count": 54,
   "metadata": {},
   "outputs": [
    {
     "data": {
      "text/plain": [
       "0.8015333333333334"
      ]
     },
     "execution_count": 54,
     "metadata": {},
     "output_type": "execute_result"
    }
   ],
   "source": [
    "cross_val_score(ada_dt, X_test, y_test, cv = 10).mean()"
   ]
  },
  {
   "cell_type": "markdown",
   "metadata": {},
   "source": [
    "### Gradient Boosting Classifier"
   ]
  },
  {
   "cell_type": "code",
   "execution_count": 55,
   "metadata": {},
   "outputs": [
    {
     "data": {
      "text/plain": [
       "GradientBoostingClassifier(ccp_alpha=0.0, criterion='friedman_mse', init=None,\n",
       "                           learning_rate=0.1, loss='deviance', max_depth=3,\n",
       "                           max_features=None, max_leaf_nodes=None,\n",
       "                           min_impurity_decrease=0.0, min_impurity_split=None,\n",
       "                           min_samples_leaf=1, min_samples_split=2,\n",
       "                           min_weight_fraction_leaf=0.0, n_estimators=100,\n",
       "                           n_iter_no_change=None, presort='deprecated',\n",
       "                           random_state=None, subsample=1.0, tol=0.0001,\n",
       "                           validation_fraction=0.1, verbose=0,\n",
       "                           warm_start=False)"
      ]
     },
     "execution_count": 55,
     "metadata": {},
     "output_type": "execute_result"
    }
   ],
   "source": [
    "gradient = GradientBoostingClassifier()\n",
    "gradient"
   ]
  },
  {
   "cell_type": "code",
   "execution_count": 56,
   "metadata": {},
   "outputs": [
    {
     "data": {
      "text/plain": [
       "GradientBoostingClassifier(ccp_alpha=0.0, criterion='friedman_mse', init=None,\n",
       "                           learning_rate=0.1, loss='deviance', max_depth=3,\n",
       "                           max_features=None, max_leaf_nodes=None,\n",
       "                           min_impurity_decrease=0.0, min_impurity_split=None,\n",
       "                           min_samples_leaf=1, min_samples_split=2,\n",
       "                           min_weight_fraction_leaf=0.0, n_estimators=100,\n",
       "                           n_iter_no_change=None, presort='deprecated',\n",
       "                           random_state=None, subsample=1.0, tol=0.0001,\n",
       "                           validation_fraction=0.1, verbose=0,\n",
       "                           warm_start=False)"
      ]
     },
     "execution_count": 56,
     "metadata": {},
     "output_type": "execute_result"
    }
   ],
   "source": [
    "gradient.fit(X_train, y_train)"
   ]
  },
  {
   "cell_type": "code",
   "execution_count": 57,
   "metadata": {},
   "outputs": [],
   "source": [
    "pred_gradient = gradient.predict(X_test)\n",
    "proba_gradient = gradient.predict_proba(X_test)"
   ]
  },
  {
   "cell_type": "code",
   "execution_count": 58,
   "metadata": {},
   "outputs": [
    {
     "name": "stdout",
     "output_type": "stream",
     "text": [
      "<sklearn.metrics._plot.confusion_matrix.ConfusionMatrixDisplay object at 0x0000025777D8C988>\n"
     ]
    },
    {
     "data": {
      "image/png": "[encoded data removed]",
      "text/plain": [
       "<Figure size 432x288 with 2 Axes>"
      ]
     },
     "metadata": {
      "needs_background": "light"
     },
     "output_type": "display_data"
    }
   ],
   "source": [
    "print(plot_confusion_matrix(gradient, X_test, y_test))"
   ]
  },
  {
   "cell_type": "code",
   "execution_count": 59,
   "metadata": {},
   "outputs": [
    {
     "name": "stdout",
     "output_type": "stream",
     "text": [
      "[[5192  593]\n",
      " [1577 7638]]\n"
     ]
    }
   ],
   "source": [
    "print(confusion_matrix(y_test, pred_gradient))"
   ]
  },
  {
   "cell_type": "code",
   "execution_count": 60,
   "metadata": {},
   "outputs": [
    {
     "name": "stdout",
     "output_type": "stream",
     "text": [
      "              precision    recall  f1-score   support\n",
      "\n",
      "           0       0.77      0.90      0.83      5785\n",
      "           1       0.93      0.83      0.88      9215\n",
      "\n",
      "    accuracy                           0.86     15000\n",
      "   macro avg       0.85      0.86      0.85     15000\n",
      "weighted avg       0.87      0.86      0.86     15000\n",
      "\n"
     ]
    }
   ],
   "source": [
    "print(classification_report(y_test, pred_gradient))"
   ]
  },
  {
   "cell_type": "code",
   "execution_count": 61,
   "metadata": {},
   "outputs": [
    {
     "name": "stdout",
     "output_type": "stream",
     "text": [
      "F1 Score : 0.8756161870915969\n",
      "Precision Score : 0.9279552909731503\n",
      "Recall Score : 0.8288659793814434\n"
     ]
    }
   ],
   "source": [
    "print(f'F1 Score : {f1_score(y_test, pred_gradient)}')\n",
    "print(f'Precision Score : {precision_score(y_test, pred_gradient)}')\n",
    "print(f'Recall Score : {recall_score(y_test, pred_gradient)}')"
   ]
  },
  {
   "cell_type": "code",
   "execution_count": 62,
   "metadata": {},
   "outputs": [
    {
     "data": {
      "text/plain": [
       "0.8523333333333334"
      ]
     },
     "execution_count": 62,
     "metadata": {},
     "output_type": "execute_result"
    }
   ],
   "source": [
    "cross_val_score(gradient, X_test, y_test, cv = 10).mean()"
   ]
  },
  {
   "cell_type": "markdown",
   "metadata": {},
   "source": [
    "### Eval Metric Summary (No Scale - No SMOTE)"
   ]
  },
  {
   "cell_type": "code",
   "execution_count": 63,
   "metadata": {},
   "outputs": [
    {
     "name": "stdout",
     "output_type": "stream",
     "text": [
      "[87.06, 77.21, 83.89, 87.79, 84.73, 87.56]\n",
      "[91.88, 73.14, 83.11, 91.54, 86.65, 92.8]\n",
      "[82.72, 81.76, 84.68, 84.34, 82.9, 82.89]\n"
     ]
    }
   ],
   "source": [
    "pred_model = [pred_logreg, pred_knn, pred_dt, pred_rfc, pred_ada_dt, pred_gradient]\n",
    "f1 = []\n",
    "prec = []\n",
    "rec = []\n",
    "\n",
    "for mod in pred_model:\n",
    "    f1.append(round(f1_score(y_test, mod)*100,2))\n",
    "    prec.append(round(precision_score(y_test, mod)*100,2))\n",
    "    rec.append(round(recall_score(y_test, mod)*100,2))\n",
    "    \n",
    "print(f1)\n",
    "print(prec)\n",
    "print(rec)"
   ]
  },
  {
   "cell_type": "code",
   "execution_count": 64,
   "metadata": {},
   "outputs": [
    {
     "data": {
      "text/html": [
       "<div>\n",
       "<style scoped>\n",
       "    .dataframe tbody tr th:only-of-type {\n",
       "        vertical-align: middle;\n",
       "    }\n",
       "\n",
       "    .dataframe tbody tr th {\n",
       "        vertical-align: top;\n",
       "    }\n",
       "\n",
       "    .dataframe thead th {\n",
       "        text-align: right;\n",
       "    }\n",
       "</style>\n",
       "<table border=\"1\" class=\"dataframe\">\n",
       "  <thead>\n",
       "    <tr style=\"text-align: right;\">\n",
       "      <th></th>\n",
       "      <th>f1_score</th>\n",
       "      <th>precision_score</th>\n",
       "      <th>recall_score</th>\n",
       "    </tr>\n",
       "  </thead>\n",
       "  <tbody>\n",
       "    <tr>\n",
       "      <th>rfc</th>\n",
       "      <td>87.79</td>\n",
       "      <td>91.54</td>\n",
       "      <td>84.34</td>\n",
       "    </tr>\n",
       "    <tr>\n",
       "      <th>gradient_boost</th>\n",
       "      <td>87.56</td>\n",
       "      <td>92.80</td>\n",
       "      <td>82.89</td>\n",
       "    </tr>\n",
       "    <tr>\n",
       "      <th>logistic_reg</th>\n",
       "      <td>87.06</td>\n",
       "      <td>91.88</td>\n",
       "      <td>82.72</td>\n",
       "    </tr>\n",
       "    <tr>\n",
       "      <th>ada_boost_dt</th>\n",
       "      <td>84.73</td>\n",
       "      <td>86.65</td>\n",
       "      <td>82.90</td>\n",
       "    </tr>\n",
       "    <tr>\n",
       "      <th>dtree</th>\n",
       "      <td>83.89</td>\n",
       "      <td>83.11</td>\n",
       "      <td>84.68</td>\n",
       "    </tr>\n",
       "    <tr>\n",
       "      <th>knn</th>\n",
       "      <td>77.21</td>\n",
       "      <td>73.14</td>\n",
       "      <td>81.76</td>\n",
       "    </tr>\n",
       "  </tbody>\n",
       "</table>\n",
       "</div>"
      ],
      "text/plain": [
       "                f1_score  precision_score  recall_score\n",
       "rfc                87.79            91.54         84.34\n",
       "gradient_boost     87.56            92.80         82.89\n",
       "logistic_reg       87.06            91.88         82.72\n",
       "ada_boost_dt       84.73            86.65         82.90\n",
       "dtree              83.89            83.11         84.68\n",
       "knn                77.21            73.14         81.76"
      ]
     },
     "execution_count": 64,
     "metadata": {},
     "output_type": "execute_result"
    }
   ],
   "source": [
    "mtrc_summary = pd.DataFrame([f1,prec,rec], index=['f1_score', 'precision_score', 'recall_score'],\n",
    "                           columns=['logistic_reg','knn', 'dtree', 'rfc', 'ada_boost_dt', 'gradient_boost'])\n",
    "mtrc_summary =mtrc_summary.T\n",
    "mtrc_summary.sort_values('f1_score', ascending=False)"
   ]
  },
  {
   "cell_type": "markdown",
   "metadata": {},
   "source": [
    "#### 3 Best Model\n",
    "1. Random Forest Classifier\n",
    "2. Gradient Boost Classifier\n",
    "3. Logistic Regression\n"
   ]
  },
  {
   "cell_type": "markdown",
   "metadata": {},
   "source": [
    "## ROC AUC - No Standardize - No SMOTE"
   ]
  },
  {
   "cell_type": "code",
   "execution_count": 65,
   "metadata": {},
   "outputs": [],
   "source": [
    "prob_rfc = proba_rfc[:,1]\n",
    "fpr_rfc, tpr_rfc, threshold_rfc = roc_curve(y_test, prob_rfc)\n",
    "roc_auc_rfc = auc(fpr_rfc, tpr_rfc)\n",
    "\n",
    "prob_gradient = proba_gradient[:,1]\n",
    "fpr_gradient, tpr_gradient, threshold_gradient = roc_curve(y_test, prob_gradient)\n",
    "roc_auc_gradient = auc(fpr_gradient, tpr_gradient)\n",
    "\n",
    "prob_logreg = proba_logreg[:,1]\n",
    "fpr_logreg, tpr_logreg, threshold_logreg = roc_curve(y_test, prob_logreg)\n",
    "roc_auc_logreg = auc(fpr_logreg, tpr_logreg)"
   ]
  },
  {
   "cell_type": "code",
   "execution_count": 66,
   "metadata": {},
   "outputs": [
    {
     "data": {
      "text/plain": [
       "<matplotlib.legend.Legend at 0x2570ae1e1c8>"
      ]
     },
     "execution_count": 66,
     "metadata": {},
     "output_type": "execute_result"
    },
    {
     "data": {
      "image/png": "[encoded data removed]",
      "text/plain": [
       "<Figure size 1440x504 with 3 Axes>"
      ]
     },
     "metadata": {
      "needs_background": "light"
     },
     "output_type": "display_data"
    }
   ],
   "source": [
    "plt.figure(figsize=(20,7))\n",
    "plt.suptitle('ROC AUC with No Standardized Data')\n",
    "\n",
    "plt.subplot(131)\n",
    "plt.title('ROC AUC Random Forest Classifier')\n",
    "plt.plot(fpr_rfc, tpr_rfc, 'green', label='AUC RFC = {}'.format(round(roc_auc_rfc,2)))\n",
    "plt.plot([0,1],[0,1], 'r--')\n",
    "plt.xlim([0,1])\n",
    "plt.ylim([0,1])\n",
    "plt.xlabel('False Positive Rate')\n",
    "plt.ylabel('True Positive Rate')\n",
    "plt.fill_between(fpr_rfc,tpr_rfc, 0, facecolor='azure', alpha=0.5)\n",
    "plt.legend(loc = 'lower right')\n",
    "\n",
    "plt.subplot(132)\n",
    "plt.title('ROC AUC Gradient')\n",
    "plt.plot(fpr_gradient, tpr_gradient, 'green', label='AUC Gradient = {}'.format(round(roc_auc_gradient,2)))\n",
    "plt.plot([0,1],[0,1], 'r--')\n",
    "plt.xlim([0,1])\n",
    "plt.ylim([0,1])\n",
    "plt.xlabel('False Positive Rate')\n",
    "plt.ylabel('True Positive Rate')\n",
    "plt.fill_between(fpr_gradient,tpr_gradient, 0, facecolor='azure', alpha=0.5)\n",
    "plt.legend(loc = 'lower right')\n",
    "\n",
    "plt.subplot(133)\n",
    "plt.title('ROC AUC Logistic Regression')\n",
    "plt.plot(fpr_logreg, tpr_logreg, 'green', label='AUC Logistic = {}'.format(round(roc_auc_logreg,2)))\n",
    "plt.plot([0,1],[0,1], 'r--')\n",
    "plt.xlim([0,1])\n",
    "plt.ylim([0,1])\n",
    "plt.xlabel('False Positive Rate')\n",
    "plt.ylabel('True Positive Rate')\n",
    "plt.fill_between(fpr_logreg,tpr_logreg, 0, facecolor='azure', alpha=0.5)\n",
    "plt.legend(loc = 'lower right')"
   ]
  },
  {
   "cell_type": "code",
   "execution_count": 67,
   "metadata": {},
   "outputs": [
    {
     "name": "stdout",
     "output_type": "stream",
     "text": [
      "0.93\n",
      "0.93\n",
      "0.92\n"
     ]
    }
   ],
   "source": [
    "print(round(auc(fpr_rfc, tpr_rfc),2))\n",
    "print(round(auc(fpr_gradient, tpr_gradient),2))\n",
    "print(round(auc(fpr_logreg, tpr_logreg),2))"
   ]
  },
  {
   "cell_type": "markdown",
   "metadata": {},
   "source": [
    "# Data with outliers - Standardize - No SMOTE"
   ]
  },
  {
   "cell_type": "code",
   "execution_count": 68,
   "metadata": {},
   "outputs": [
    {
     "data": {
      "text/plain": [
       "StandardScaler(copy=True, with_mean=True, with_std=True)"
      ]
     },
     "execution_count": 68,
     "metadata": {},
     "output_type": "execute_result"
    }
   ],
   "source": [
    "scaler = StandardScaler()\n",
    "scaler"
   ]
  },
  {
   "cell_type": "code",
   "execution_count": 69,
   "metadata": {},
   "outputs": [
    {
     "data": {
      "text/plain": [
       "array([[-0.01469505, -1.41936322, -0.80757165, ..., -0.14285714,\n",
       "        -0.09783011, -0.06571583],\n",
       "       [ 1.4617    , -1.55380801, -0.7150065 , ..., -0.14285714,\n",
       "        -0.09783011, -0.06571583],\n",
       "       [-0.99895842,  0.8661982 , -0.80757165, ..., -0.14285714,\n",
       "        -0.09783011, -0.06571583],\n",
       "       ...,\n",
       "       [-0.50682673,  1.26953257,  0.67347067, ..., -0.14285714,\n",
       "        -0.09783011, -0.06571583],\n",
       "       [ 1.4617    , -0.07491533, -0.43731107, ..., -0.14285714,\n",
       "        -0.09783011, -0.06571583],\n",
       "       [ 0.47743663, -1.55380801, -0.62244136, ..., -0.14285714,\n",
       "        -0.09783011, -0.06571583]])"
      ]
     },
     "execution_count": 69,
     "metadata": {},
     "output_type": "execute_result"
    }
   ],
   "source": [
    "scaled_features = scaler.fit_transform(features.drop('enrolled',axis=1))\n",
    "scaled_features"
   ]
  },
  {
   "cell_type": "code",
   "execution_count": 70,
   "metadata": {},
   "outputs": [
    {
     "data": {
      "text/html": [
       "<div>\n",
       "<style scoped>\n",
       "    .dataframe tbody tr th:only-of-type {\n",
       "        vertical-align: middle;\n",
       "    }\n",
       "\n",
       "    .dataframe tbody tr th {\n",
       "        vertical-align: top;\n",
       "    }\n",
       "\n",
       "    .dataframe thead th {\n",
       "        text-align: right;\n",
       "    }\n",
       "</style>\n",
       "<table border=\"1\" class=\"dataframe\">\n",
       "  <thead>\n",
       "    <tr style=\"text-align: right;\">\n",
       "      <th></th>\n",
       "      <th>dayofweek</th>\n",
       "      <th>hour</th>\n",
       "      <th>age</th>\n",
       "      <th>numscreens</th>\n",
       "      <th>minigame</th>\n",
       "      <th>used_premium_feature</th>\n",
       "      <th>liked</th>\n",
       "      <th>about</th>\n",
       "      <th>accountview</th>\n",
       "      <th>addproperty</th>\n",
       "      <th>...</th>\n",
       "      <th>verifyhousing</th>\n",
       "      <th>verifyhousingamount</th>\n",
       "      <th>verifyincometype</th>\n",
       "      <th>verifymobile</th>\n",
       "      <th>verifyphone</th>\n",
       "      <th>verifyssn</th>\n",
       "      <th>verifytoken</th>\n",
       "      <th>webview</th>\n",
       "      <th>welcomebankverification</th>\n",
       "      <th>yournetwork</th>\n",
       "    </tr>\n",
       "  </thead>\n",
       "  <tbody>\n",
       "    <tr>\n",
       "      <th>0</th>\n",
       "      <td>-0.014695</td>\n",
       "      <td>-1.419363</td>\n",
       "      <td>-0.807572</td>\n",
       "      <td>-0.387567</td>\n",
       "      <td>-0.347635</td>\n",
       "      <td>-0.455805</td>\n",
       "      <td>-0.444528</td>\n",
       "      <td>-0.105753</td>\n",
       "      <td>-0.164091</td>\n",
       "      <td>-0.008945</td>\n",
       "      <td>...</td>\n",
       "      <td>-0.21192</td>\n",
       "      <td>-0.20787</td>\n",
       "      <td>-0.158013</td>\n",
       "      <td>-0.238592</td>\n",
       "      <td>0.951953</td>\n",
       "      <td>-0.870185</td>\n",
       "      <td>1.207964</td>\n",
       "      <td>-0.142857</td>\n",
       "      <td>-0.09783</td>\n",
       "      <td>-0.065716</td>\n",
       "    </tr>\n",
       "    <tr>\n",
       "      <th>1</th>\n",
       "      <td>1.461700</td>\n",
       "      <td>-1.553808</td>\n",
       "      <td>-0.715007</td>\n",
       "      <td>-0.514723</td>\n",
       "      <td>-0.347635</td>\n",
       "      <td>-0.455805</td>\n",
       "      <td>-0.444528</td>\n",
       "      <td>-0.105753</td>\n",
       "      <td>-0.164091</td>\n",
       "      <td>-0.008945</td>\n",
       "      <td>...</td>\n",
       "      <td>-0.21192</td>\n",
       "      <td>-0.20787</td>\n",
       "      <td>-0.158013</td>\n",
       "      <td>-0.238592</td>\n",
       "      <td>0.951953</td>\n",
       "      <td>-0.870185</td>\n",
       "      <td>1.207964</td>\n",
       "      <td>-0.142857</td>\n",
       "      <td>-0.09783</td>\n",
       "      <td>-0.065716</td>\n",
       "    </tr>\n",
       "    <tr>\n",
       "      <th>2</th>\n",
       "      <td>-0.998958</td>\n",
       "      <td>0.866198</td>\n",
       "      <td>-0.807572</td>\n",
       "      <td>-1.150505</td>\n",
       "      <td>-0.347635</td>\n",
       "      <td>2.193918</td>\n",
       "      <td>2.249579</td>\n",
       "      <td>-0.105753</td>\n",
       "      <td>-0.164091</td>\n",
       "      <td>-0.008945</td>\n",
       "      <td>...</td>\n",
       "      <td>-0.21192</td>\n",
       "      <td>-0.20787</td>\n",
       "      <td>-0.158013</td>\n",
       "      <td>-0.238592</td>\n",
       "      <td>-1.050472</td>\n",
       "      <td>-0.870185</td>\n",
       "      <td>-0.827839</td>\n",
       "      <td>-0.142857</td>\n",
       "      <td>-0.09783</td>\n",
       "      <td>-0.065716</td>\n",
       "    </tr>\n",
       "    <tr>\n",
       "      <th>3</th>\n",
       "      <td>0.477437</td>\n",
       "      <td>0.462864</td>\n",
       "      <td>-0.344746</td>\n",
       "      <td>1.201889</td>\n",
       "      <td>-0.347635</td>\n",
       "      <td>-0.455805</td>\n",
       "      <td>-0.444528</td>\n",
       "      <td>-0.105753</td>\n",
       "      <td>-0.164091</td>\n",
       "      <td>-0.008945</td>\n",
       "      <td>...</td>\n",
       "      <td>-0.21192</td>\n",
       "      <td>-0.20787</td>\n",
       "      <td>-0.158013</td>\n",
       "      <td>-0.238592</td>\n",
       "      <td>0.951953</td>\n",
       "      <td>1.149181</td>\n",
       "      <td>-0.827839</td>\n",
       "      <td>-0.142857</td>\n",
       "      <td>-0.09783</td>\n",
       "      <td>-0.065716</td>\n",
       "    </tr>\n",
       "    <tr>\n",
       "      <th>4</th>\n",
       "      <td>-0.998958</td>\n",
       "      <td>0.731753</td>\n",
       "      <td>-0.067050</td>\n",
       "      <td>0.693263</td>\n",
       "      <td>-0.347635</td>\n",
       "      <td>-0.455805</td>\n",
       "      <td>2.249579</td>\n",
       "      <td>-0.105753</td>\n",
       "      <td>-0.164091</td>\n",
       "      <td>-0.008945</td>\n",
       "      <td>...</td>\n",
       "      <td>-0.21192</td>\n",
       "      <td>-0.20787</td>\n",
       "      <td>-0.158013</td>\n",
       "      <td>-0.238592</td>\n",
       "      <td>0.951953</td>\n",
       "      <td>1.149181</td>\n",
       "      <td>1.207964</td>\n",
       "      <td>-0.142857</td>\n",
       "      <td>-0.09783</td>\n",
       "      <td>-0.065716</td>\n",
       "    </tr>\n",
       "    <tr>\n",
       "      <th>...</th>\n",
       "      <td>...</td>\n",
       "      <td>...</td>\n",
       "      <td>...</td>\n",
       "      <td>...</td>\n",
       "      <td>...</td>\n",
       "      <td>...</td>\n",
       "      <td>...</td>\n",
       "      <td>...</td>\n",
       "      <td>...</td>\n",
       "      <td>...</td>\n",
       "      <td>...</td>\n",
       "      <td>...</td>\n",
       "      <td>...</td>\n",
       "      <td>...</td>\n",
       "      <td>...</td>\n",
       "      <td>...</td>\n",
       "      <td>...</td>\n",
       "      <td>...</td>\n",
       "      <td>...</td>\n",
       "      <td>...</td>\n",
       "      <td>...</td>\n",
       "    </tr>\n",
       "    <tr>\n",
       "      <th>49995</th>\n",
       "      <td>-0.014695</td>\n",
       "      <td>0.059529</td>\n",
       "      <td>0.025515</td>\n",
       "      <td>-0.514723</td>\n",
       "      <td>-0.347635</td>\n",
       "      <td>-0.455805</td>\n",
       "      <td>-0.444528</td>\n",
       "      <td>-0.105753</td>\n",
       "      <td>-0.164091</td>\n",
       "      <td>-0.008945</td>\n",
       "      <td>...</td>\n",
       "      <td>-0.21192</td>\n",
       "      <td>-0.20787</td>\n",
       "      <td>-0.158013</td>\n",
       "      <td>-0.238592</td>\n",
       "      <td>0.951953</td>\n",
       "      <td>1.149181</td>\n",
       "      <td>-0.827839</td>\n",
       "      <td>-0.142857</td>\n",
       "      <td>-0.09783</td>\n",
       "      <td>-0.065716</td>\n",
       "    </tr>\n",
       "    <tr>\n",
       "      <th>49996</th>\n",
       "      <td>-0.998958</td>\n",
       "      <td>-1.688253</td>\n",
       "      <td>0.303210</td>\n",
       "      <td>-1.086927</td>\n",
       "      <td>-0.347635</td>\n",
       "      <td>2.193918</td>\n",
       "      <td>-0.444528</td>\n",
       "      <td>-0.105753</td>\n",
       "      <td>-0.164091</td>\n",
       "      <td>-0.008945</td>\n",
       "      <td>...</td>\n",
       "      <td>-0.21192</td>\n",
       "      <td>-0.20787</td>\n",
       "      <td>-0.158013</td>\n",
       "      <td>-0.238592</td>\n",
       "      <td>-1.050472</td>\n",
       "      <td>-0.870185</td>\n",
       "      <td>-0.827839</td>\n",
       "      <td>-0.142857</td>\n",
       "      <td>-0.09783</td>\n",
       "      <td>-0.065716</td>\n",
       "    </tr>\n",
       "    <tr>\n",
       "      <th>49997</th>\n",
       "      <td>-0.506827</td>\n",
       "      <td>1.269533</td>\n",
       "      <td>0.673471</td>\n",
       "      <td>0.248216</td>\n",
       "      <td>-0.347635</td>\n",
       "      <td>-0.455805</td>\n",
       "      <td>-0.444528</td>\n",
       "      <td>-0.105753</td>\n",
       "      <td>-0.164091</td>\n",
       "      <td>-0.008945</td>\n",
       "      <td>...</td>\n",
       "      <td>-0.21192</td>\n",
       "      <td>-0.20787</td>\n",
       "      <td>-0.158013</td>\n",
       "      <td>-0.238592</td>\n",
       "      <td>0.951953</td>\n",
       "      <td>-0.870185</td>\n",
       "      <td>1.207964</td>\n",
       "      <td>-0.142857</td>\n",
       "      <td>-0.09783</td>\n",
       "      <td>-0.065716</td>\n",
       "    </tr>\n",
       "    <tr>\n",
       "      <th>49998</th>\n",
       "      <td>1.461700</td>\n",
       "      <td>-0.074915</td>\n",
       "      <td>-0.437311</td>\n",
       "      <td>0.311794</td>\n",
       "      <td>-0.347635</td>\n",
       "      <td>-0.455805</td>\n",
       "      <td>-0.444528</td>\n",
       "      <td>-0.105753</td>\n",
       "      <td>-0.164091</td>\n",
       "      <td>-0.008945</td>\n",
       "      <td>...</td>\n",
       "      <td>-0.21192</td>\n",
       "      <td>-0.20787</td>\n",
       "      <td>-0.158013</td>\n",
       "      <td>-0.238592</td>\n",
       "      <td>0.951953</td>\n",
       "      <td>1.149181</td>\n",
       "      <td>1.207964</td>\n",
       "      <td>-0.142857</td>\n",
       "      <td>-0.09783</td>\n",
       "      <td>-0.065716</td>\n",
       "    </tr>\n",
       "    <tr>\n",
       "      <th>49999</th>\n",
       "      <td>0.477437</td>\n",
       "      <td>-1.553808</td>\n",
       "      <td>-0.622441</td>\n",
       "      <td>0.311794</td>\n",
       "      <td>-0.347635</td>\n",
       "      <td>-0.455805</td>\n",
       "      <td>2.249579</td>\n",
       "      <td>-0.105753</td>\n",
       "      <td>-0.164091</td>\n",
       "      <td>-0.008945</td>\n",
       "      <td>...</td>\n",
       "      <td>-0.21192</td>\n",
       "      <td>-0.20787</td>\n",
       "      <td>-0.158013</td>\n",
       "      <td>-0.238592</td>\n",
       "      <td>-1.050472</td>\n",
       "      <td>-0.870185</td>\n",
       "      <td>-0.827839</td>\n",
       "      <td>-0.142857</td>\n",
       "      <td>-0.09783</td>\n",
       "      <td>-0.065716</td>\n",
       "    </tr>\n",
       "  </tbody>\n",
       "</table>\n",
       "<p>50000 rows × 144 columns</p>\n",
       "</div>"
      ],
      "text/plain": [
       "       dayofweek      hour       age  numscreens  minigame  \\\n",
       "0      -0.014695 -1.419363 -0.807572   -0.387567 -0.347635   \n",
       "1       1.461700 -1.553808 -0.715007   -0.514723 -0.347635   \n",
       "2      -0.998958  0.866198 -0.807572   -1.150505 -0.347635   \n",
       "3       0.477437  0.462864 -0.344746    1.201889 -0.347635   \n",
       "4      -0.998958  0.731753 -0.067050    0.693263 -0.347635   \n",
       "...          ...       ...       ...         ...       ...   \n",
       "49995  -0.014695  0.059529  0.025515   -0.514723 -0.347635   \n",
       "49996  -0.998958 -1.688253  0.303210   -1.086927 -0.347635   \n",
       "49997  -0.506827  1.269533  0.673471    0.248216 -0.347635   \n",
       "49998   1.461700 -0.074915 -0.437311    0.311794 -0.347635   \n",
       "49999   0.477437 -1.553808 -0.622441    0.311794 -0.347635   \n",
       "\n",
       "       used_premium_feature     liked     about  accountview  addproperty  \\\n",
       "0                 -0.455805 -0.444528 -0.105753    -0.164091    -0.008945   \n",
       "1                 -0.455805 -0.444528 -0.105753    -0.164091    -0.008945   \n",
       "2                  2.193918  2.249579 -0.105753    -0.164091    -0.008945   \n",
       "3                 -0.455805 -0.444528 -0.105753    -0.164091    -0.008945   \n",
       "4                 -0.455805  2.249579 -0.105753    -0.164091    -0.008945   \n",
       "...                     ...       ...       ...          ...          ...   \n",
       "49995             -0.455805 -0.444528 -0.105753    -0.164091    -0.008945   \n",
       "49996              2.193918 -0.444528 -0.105753    -0.164091    -0.008945   \n",
       "49997             -0.455805 -0.444528 -0.105753    -0.164091    -0.008945   \n",
       "49998             -0.455805 -0.444528 -0.105753    -0.164091    -0.008945   \n",
       "49999             -0.455805  2.249579 -0.105753    -0.164091    -0.008945   \n",
       "\n",
       "       ...  verifyhousing  verifyhousingamount  verifyincometype  \\\n",
       "0      ...       -0.21192             -0.20787         -0.158013   \n",
       "1      ...       -0.21192             -0.20787         -0.158013   \n",
       "2      ...       -0.21192             -0.20787         -0.158013   \n",
       "3      ...       -0.21192             -0.20787         -0.158013   \n",
       "4      ...       -0.21192             -0.20787         -0.158013   \n",
       "...    ...            ...                  ...               ...   \n",
       "49995  ...       -0.21192             -0.20787         -0.158013   \n",
       "49996  ...       -0.21192             -0.20787         -0.158013   \n",
       "49997  ...       -0.21192             -0.20787         -0.158013   \n",
       "49998  ...       -0.21192             -0.20787         -0.158013   \n",
       "49999  ...       -0.21192             -0.20787         -0.158013   \n",
       "\n",
       "       verifymobile  verifyphone  verifyssn  verifytoken   webview  \\\n",
       "0         -0.238592     0.951953  -0.870185     1.207964 -0.142857   \n",
       "1         -0.238592     0.951953  -0.870185     1.207964 -0.142857   \n",
       "2         -0.238592    -1.050472  -0.870185    -0.827839 -0.142857   \n",
       "3         -0.238592     0.951953   1.149181    -0.827839 -0.142857   \n",
       "4         -0.238592     0.951953   1.149181     1.207964 -0.142857   \n",
       "...             ...          ...        ...          ...       ...   \n",
       "49995     -0.238592     0.951953   1.149181    -0.827839 -0.142857   \n",
       "49996     -0.238592    -1.050472  -0.870185    -0.827839 -0.142857   \n",
       "49997     -0.238592     0.951953  -0.870185     1.207964 -0.142857   \n",
       "49998     -0.238592     0.951953   1.149181     1.207964 -0.142857   \n",
       "49999     -0.238592    -1.050472  -0.870185    -0.827839 -0.142857   \n",
       "\n",
       "       welcomebankverification  yournetwork  \n",
       "0                     -0.09783    -0.065716  \n",
       "1                     -0.09783    -0.065716  \n",
       "2                     -0.09783    -0.065716  \n",
       "3                     -0.09783    -0.065716  \n",
       "4                     -0.09783    -0.065716  \n",
       "...                        ...          ...  \n",
       "49995                 -0.09783    -0.065716  \n",
       "49996                 -0.09783    -0.065716  \n",
       "49997                 -0.09783    -0.065716  \n",
       "49998                 -0.09783    -0.065716  \n",
       "49999                 -0.09783    -0.065716  \n",
       "\n",
       "[50000 rows x 144 columns]"
      ]
     },
     "execution_count": 70,
     "metadata": {},
     "output_type": "execute_result"
    }
   ],
   "source": [
    "scaled_data = pd.DataFrame(scaled_features, columns=features.columns.drop('enrolled'))\n",
    "scaled_data"
   ]
  },
  {
   "cell_type": "code",
   "execution_count": 71,
   "metadata": {},
   "outputs": [
    {
     "data": {
      "text/html": [
       "<div>\n",
       "<style scoped>\n",
       "    .dataframe tbody tr th:only-of-type {\n",
       "        vertical-align: middle;\n",
       "    }\n",
       "\n",
       "    .dataframe tbody tr th {\n",
       "        vertical-align: top;\n",
       "    }\n",
       "\n",
       "    .dataframe thead th {\n",
       "        text-align: right;\n",
       "    }\n",
       "</style>\n",
       "<table border=\"1\" class=\"dataframe\">\n",
       "  <thead>\n",
       "    <tr style=\"text-align: right;\">\n",
       "      <th></th>\n",
       "      <th>enrolled</th>\n",
       "    </tr>\n",
       "  </thead>\n",
       "  <tbody>\n",
       "    <tr>\n",
       "      <th>0</th>\n",
       "      <td>0</td>\n",
       "    </tr>\n",
       "    <tr>\n",
       "      <th>1</th>\n",
       "      <td>0</td>\n",
       "    </tr>\n",
       "    <tr>\n",
       "      <th>2</th>\n",
       "      <td>0</td>\n",
       "    </tr>\n",
       "    <tr>\n",
       "      <th>3</th>\n",
       "      <td>1</td>\n",
       "    </tr>\n",
       "    <tr>\n",
       "      <th>4</th>\n",
       "      <td>1</td>\n",
       "    </tr>\n",
       "    <tr>\n",
       "      <th>...</th>\n",
       "      <td>...</td>\n",
       "    </tr>\n",
       "    <tr>\n",
       "      <th>49995</th>\n",
       "      <td>1</td>\n",
       "    </tr>\n",
       "    <tr>\n",
       "      <th>49996</th>\n",
       "      <td>0</td>\n",
       "    </tr>\n",
       "    <tr>\n",
       "      <th>49997</th>\n",
       "      <td>0</td>\n",
       "    </tr>\n",
       "    <tr>\n",
       "      <th>49998</th>\n",
       "      <td>1</td>\n",
       "    </tr>\n",
       "    <tr>\n",
       "      <th>49999</th>\n",
       "      <td>0</td>\n",
       "    </tr>\n",
       "  </tbody>\n",
       "</table>\n",
       "<p>50000 rows × 1 columns</p>\n",
       "</div>"
      ],
      "text/plain": [
       "       enrolled\n",
       "0             0\n",
       "1             0\n",
       "2             0\n",
       "3             1\n",
       "4             1\n",
       "...         ...\n",
       "49995         1\n",
       "49996         0\n",
       "49997         0\n",
       "49998         1\n",
       "49999         0\n",
       "\n",
       "[50000 rows x 1 columns]"
      ]
     },
     "execution_count": 71,
     "metadata": {},
     "output_type": "execute_result"
    }
   ],
   "source": [
    "target = pd.DataFrame(features['enrolled'])\n",
    "target"
   ]
  },
  {
   "cell_type": "code",
   "execution_count": 72,
   "metadata": {},
   "outputs": [
    {
     "data": {
      "text/html": [
       "<div>\n",
       "<style scoped>\n",
       "    .dataframe tbody tr th:only-of-type {\n",
       "        vertical-align: middle;\n",
       "    }\n",
       "\n",
       "    .dataframe tbody tr th {\n",
       "        vertical-align: top;\n",
       "    }\n",
       "\n",
       "    .dataframe thead th {\n",
       "        text-align: right;\n",
       "    }\n",
       "</style>\n",
       "<table border=\"1\" class=\"dataframe\">\n",
       "  <thead>\n",
       "    <tr style=\"text-align: right;\">\n",
       "      <th></th>\n",
       "      <th>dayofweek</th>\n",
       "      <th>hour</th>\n",
       "      <th>age</th>\n",
       "      <th>numscreens</th>\n",
       "      <th>minigame</th>\n",
       "      <th>used_premium_feature</th>\n",
       "      <th>liked</th>\n",
       "      <th>about</th>\n",
       "      <th>accountview</th>\n",
       "      <th>addproperty</th>\n",
       "      <th>...</th>\n",
       "      <th>verifyhousingamount</th>\n",
       "      <th>verifyincometype</th>\n",
       "      <th>verifymobile</th>\n",
       "      <th>verifyphone</th>\n",
       "      <th>verifyssn</th>\n",
       "      <th>verifytoken</th>\n",
       "      <th>webview</th>\n",
       "      <th>welcomebankverification</th>\n",
       "      <th>yournetwork</th>\n",
       "      <th>enrolled</th>\n",
       "    </tr>\n",
       "  </thead>\n",
       "  <tbody>\n",
       "    <tr>\n",
       "      <th>0</th>\n",
       "      <td>-0.014695</td>\n",
       "      <td>-1.419363</td>\n",
       "      <td>-0.807572</td>\n",
       "      <td>-0.387567</td>\n",
       "      <td>-0.347635</td>\n",
       "      <td>-0.455805</td>\n",
       "      <td>-0.444528</td>\n",
       "      <td>-0.105753</td>\n",
       "      <td>-0.164091</td>\n",
       "      <td>-0.008945</td>\n",
       "      <td>...</td>\n",
       "      <td>-0.20787</td>\n",
       "      <td>-0.158013</td>\n",
       "      <td>-0.238592</td>\n",
       "      <td>0.951953</td>\n",
       "      <td>-0.870185</td>\n",
       "      <td>1.207964</td>\n",
       "      <td>-0.142857</td>\n",
       "      <td>-0.09783</td>\n",
       "      <td>-0.065716</td>\n",
       "      <td>0</td>\n",
       "    </tr>\n",
       "    <tr>\n",
       "      <th>1</th>\n",
       "      <td>1.461700</td>\n",
       "      <td>-1.553808</td>\n",
       "      <td>-0.715007</td>\n",
       "      <td>-0.514723</td>\n",
       "      <td>-0.347635</td>\n",
       "      <td>-0.455805</td>\n",
       "      <td>-0.444528</td>\n",
       "      <td>-0.105753</td>\n",
       "      <td>-0.164091</td>\n",
       "      <td>-0.008945</td>\n",
       "      <td>...</td>\n",
       "      <td>-0.20787</td>\n",
       "      <td>-0.158013</td>\n",
       "      <td>-0.238592</td>\n",
       "      <td>0.951953</td>\n",
       "      <td>-0.870185</td>\n",
       "      <td>1.207964</td>\n",
       "      <td>-0.142857</td>\n",
       "      <td>-0.09783</td>\n",
       "      <td>-0.065716</td>\n",
       "      <td>0</td>\n",
       "    </tr>\n",
       "    <tr>\n",
       "      <th>2</th>\n",
       "      <td>-0.998958</td>\n",
       "      <td>0.866198</td>\n",
       "      <td>-0.807572</td>\n",
       "      <td>-1.150505</td>\n",
       "      <td>-0.347635</td>\n",
       "      <td>2.193918</td>\n",
       "      <td>2.249579</td>\n",
       "      <td>-0.105753</td>\n",
       "      <td>-0.164091</td>\n",
       "      <td>-0.008945</td>\n",
       "      <td>...</td>\n",
       "      <td>-0.20787</td>\n",
       "      <td>-0.158013</td>\n",
       "      <td>-0.238592</td>\n",
       "      <td>-1.050472</td>\n",
       "      <td>-0.870185</td>\n",
       "      <td>-0.827839</td>\n",
       "      <td>-0.142857</td>\n",
       "      <td>-0.09783</td>\n",
       "      <td>-0.065716</td>\n",
       "      <td>0</td>\n",
       "    </tr>\n",
       "    <tr>\n",
       "      <th>3</th>\n",
       "      <td>0.477437</td>\n",
       "      <td>0.462864</td>\n",
       "      <td>-0.344746</td>\n",
       "      <td>1.201889</td>\n",
       "      <td>-0.347635</td>\n",
       "      <td>-0.455805</td>\n",
       "      <td>-0.444528</td>\n",
       "      <td>-0.105753</td>\n",
       "      <td>-0.164091</td>\n",
       "      <td>-0.008945</td>\n",
       "      <td>...</td>\n",
       "      <td>-0.20787</td>\n",
       "      <td>-0.158013</td>\n",
       "      <td>-0.238592</td>\n",
       "      <td>0.951953</td>\n",
       "      <td>1.149181</td>\n",
       "      <td>-0.827839</td>\n",
       "      <td>-0.142857</td>\n",
       "      <td>-0.09783</td>\n",
       "      <td>-0.065716</td>\n",
       "      <td>1</td>\n",
       "    </tr>\n",
       "    <tr>\n",
       "      <th>4</th>\n",
       "      <td>-0.998958</td>\n",
       "      <td>0.731753</td>\n",
       "      <td>-0.067050</td>\n",
       "      <td>0.693263</td>\n",
       "      <td>-0.347635</td>\n",
       "      <td>-0.455805</td>\n",
       "      <td>2.249579</td>\n",
       "      <td>-0.105753</td>\n",
       "      <td>-0.164091</td>\n",
       "      <td>-0.008945</td>\n",
       "      <td>...</td>\n",
       "      <td>-0.20787</td>\n",
       "      <td>-0.158013</td>\n",
       "      <td>-0.238592</td>\n",
       "      <td>0.951953</td>\n",
       "      <td>1.149181</td>\n",
       "      <td>1.207964</td>\n",
       "      <td>-0.142857</td>\n",
       "      <td>-0.09783</td>\n",
       "      <td>-0.065716</td>\n",
       "      <td>1</td>\n",
       "    </tr>\n",
       "    <tr>\n",
       "      <th>...</th>\n",
       "      <td>...</td>\n",
       "      <td>...</td>\n",
       "      <td>...</td>\n",
       "      <td>...</td>\n",
       "      <td>...</td>\n",
       "      <td>...</td>\n",
       "      <td>...</td>\n",
       "      <td>...</td>\n",
       "      <td>...</td>\n",
       "      <td>...</td>\n",
       "      <td>...</td>\n",
       "      <td>...</td>\n",
       "      <td>...</td>\n",
       "      <td>...</td>\n",
       "      <td>...</td>\n",
       "      <td>...</td>\n",
       "      <td>...</td>\n",
       "      <td>...</td>\n",
       "      <td>...</td>\n",
       "      <td>...</td>\n",
       "      <td>...</td>\n",
       "    </tr>\n",
       "    <tr>\n",
       "      <th>49995</th>\n",
       "      <td>-0.014695</td>\n",
       "      <td>0.059529</td>\n",
       "      <td>0.025515</td>\n",
       "      <td>-0.514723</td>\n",
       "      <td>-0.347635</td>\n",
       "      <td>-0.455805</td>\n",
       "      <td>-0.444528</td>\n",
       "      <td>-0.105753</td>\n",
       "      <td>-0.164091</td>\n",
       "      <td>-0.008945</td>\n",
       "      <td>...</td>\n",
       "      <td>-0.20787</td>\n",
       "      <td>-0.158013</td>\n",
       "      <td>-0.238592</td>\n",
       "      <td>0.951953</td>\n",
       "      <td>1.149181</td>\n",
       "      <td>-0.827839</td>\n",
       "      <td>-0.142857</td>\n",
       "      <td>-0.09783</td>\n",
       "      <td>-0.065716</td>\n",
       "      <td>1</td>\n",
       "    </tr>\n",
       "    <tr>\n",
       "      <th>49996</th>\n",
       "      <td>-0.998958</td>\n",
       "      <td>-1.688253</td>\n",
       "      <td>0.303210</td>\n",
       "      <td>-1.086927</td>\n",
       "      <td>-0.347635</td>\n",
       "      <td>2.193918</td>\n",
       "      <td>-0.444528</td>\n",
       "      <td>-0.105753</td>\n",
       "      <td>-0.164091</td>\n",
       "      <td>-0.008945</td>\n",
       "      <td>...</td>\n",
       "      <td>-0.20787</td>\n",
       "      <td>-0.158013</td>\n",
       "      <td>-0.238592</td>\n",
       "      <td>-1.050472</td>\n",
       "      <td>-0.870185</td>\n",
       "      <td>-0.827839</td>\n",
       "      <td>-0.142857</td>\n",
       "      <td>-0.09783</td>\n",
       "      <td>-0.065716</td>\n",
       "      <td>0</td>\n",
       "    </tr>\n",
       "    <tr>\n",
       "      <th>49997</th>\n",
       "      <td>-0.506827</td>\n",
       "      <td>1.269533</td>\n",
       "      <td>0.673471</td>\n",
       "      <td>0.248216</td>\n",
       "      <td>-0.347635</td>\n",
       "      <td>-0.455805</td>\n",
       "      <td>-0.444528</td>\n",
       "      <td>-0.105753</td>\n",
       "      <td>-0.164091</td>\n",
       "      <td>-0.008945</td>\n",
       "      <td>...</td>\n",
       "      <td>-0.20787</td>\n",
       "      <td>-0.158013</td>\n",
       "      <td>-0.238592</td>\n",
       "      <td>0.951953</td>\n",
       "      <td>-0.870185</td>\n",
       "      <td>1.207964</td>\n",
       "      <td>-0.142857</td>\n",
       "      <td>-0.09783</td>\n",
       "      <td>-0.065716</td>\n",
       "      <td>0</td>\n",
       "    </tr>\n",
       "    <tr>\n",
       "      <th>49998</th>\n",
       "      <td>1.461700</td>\n",
       "      <td>-0.074915</td>\n",
       "      <td>-0.437311</td>\n",
       "      <td>0.311794</td>\n",
       "      <td>-0.347635</td>\n",
       "      <td>-0.455805</td>\n",
       "      <td>-0.444528</td>\n",
       "      <td>-0.105753</td>\n",
       "      <td>-0.164091</td>\n",
       "      <td>-0.008945</td>\n",
       "      <td>...</td>\n",
       "      <td>-0.20787</td>\n",
       "      <td>-0.158013</td>\n",
       "      <td>-0.238592</td>\n",
       "      <td>0.951953</td>\n",
       "      <td>1.149181</td>\n",
       "      <td>1.207964</td>\n",
       "      <td>-0.142857</td>\n",
       "      <td>-0.09783</td>\n",
       "      <td>-0.065716</td>\n",
       "      <td>1</td>\n",
       "    </tr>\n",
       "    <tr>\n",
       "      <th>49999</th>\n",
       "      <td>0.477437</td>\n",
       "      <td>-1.553808</td>\n",
       "      <td>-0.622441</td>\n",
       "      <td>0.311794</td>\n",
       "      <td>-0.347635</td>\n",
       "      <td>-0.455805</td>\n",
       "      <td>2.249579</td>\n",
       "      <td>-0.105753</td>\n",
       "      <td>-0.164091</td>\n",
       "      <td>-0.008945</td>\n",
       "      <td>...</td>\n",
       "      <td>-0.20787</td>\n",
       "      <td>-0.158013</td>\n",
       "      <td>-0.238592</td>\n",
       "      <td>-1.050472</td>\n",
       "      <td>-0.870185</td>\n",
       "      <td>-0.827839</td>\n",
       "      <td>-0.142857</td>\n",
       "      <td>-0.09783</td>\n",
       "      <td>-0.065716</td>\n",
       "      <td>0</td>\n",
       "    </tr>\n",
       "  </tbody>\n",
       "</table>\n",
       "<p>50000 rows × 145 columns</p>\n",
       "</div>"
      ],
      "text/plain": [
       "       dayofweek      hour       age  numscreens  minigame  \\\n",
       "0      -0.014695 -1.419363 -0.807572   -0.387567 -0.347635   \n",
       "1       1.461700 -1.553808 -0.715007   -0.514723 -0.347635   \n",
       "2      -0.998958  0.866198 -0.807572   -1.150505 -0.347635   \n",
       "3       0.477437  0.462864 -0.344746    1.201889 -0.347635   \n",
       "4      -0.998958  0.731753 -0.067050    0.693263 -0.347635   \n",
       "...          ...       ...       ...         ...       ...   \n",
       "49995  -0.014695  0.059529  0.025515   -0.514723 -0.347635   \n",
       "49996  -0.998958 -1.688253  0.303210   -1.086927 -0.347635   \n",
       "49997  -0.506827  1.269533  0.673471    0.248216 -0.347635   \n",
       "49998   1.461700 -0.074915 -0.437311    0.311794 -0.347635   \n",
       "49999   0.477437 -1.553808 -0.622441    0.311794 -0.347635   \n",
       "\n",
       "       used_premium_feature     liked     about  accountview  addproperty  \\\n",
       "0                 -0.455805 -0.444528 -0.105753    -0.164091    -0.008945   \n",
       "1                 -0.455805 -0.444528 -0.105753    -0.164091    -0.008945   \n",
       "2                  2.193918  2.249579 -0.105753    -0.164091    -0.008945   \n",
       "3                 -0.455805 -0.444528 -0.105753    -0.164091    -0.008945   \n",
       "4                 -0.455805  2.249579 -0.105753    -0.164091    -0.008945   \n",
       "...                     ...       ...       ...          ...          ...   \n",
       "49995             -0.455805 -0.444528 -0.105753    -0.164091    -0.008945   \n",
       "49996              2.193918 -0.444528 -0.105753    -0.164091    -0.008945   \n",
       "49997             -0.455805 -0.444528 -0.105753    -0.164091    -0.008945   \n",
       "49998             -0.455805 -0.444528 -0.105753    -0.164091    -0.008945   \n",
       "49999             -0.455805  2.249579 -0.105753    -0.164091    -0.008945   \n",
       "\n",
       "       ...  verifyhousingamount  verifyincometype  verifymobile  verifyphone  \\\n",
       "0      ...             -0.20787         -0.158013     -0.238592     0.951953   \n",
       "1      ...             -0.20787         -0.158013     -0.238592     0.951953   \n",
       "2      ...             -0.20787         -0.158013     -0.238592    -1.050472   \n",
       "3      ...             -0.20787         -0.158013     -0.238592     0.951953   \n",
       "4      ...             -0.20787         -0.158013     -0.238592     0.951953   \n",
       "...    ...                  ...               ...           ...          ...   \n",
       "49995  ...             -0.20787         -0.158013     -0.238592     0.951953   \n",
       "49996  ...             -0.20787         -0.158013     -0.238592    -1.050472   \n",
       "49997  ...             -0.20787         -0.158013     -0.238592     0.951953   \n",
       "49998  ...             -0.20787         -0.158013     -0.238592     0.951953   \n",
       "49999  ...             -0.20787         -0.158013     -0.238592    -1.050472   \n",
       "\n",
       "       verifyssn  verifytoken   webview  welcomebankverification  yournetwork  \\\n",
       "0      -0.870185     1.207964 -0.142857                 -0.09783    -0.065716   \n",
       "1      -0.870185     1.207964 -0.142857                 -0.09783    -0.065716   \n",
       "2      -0.870185    -0.827839 -0.142857                 -0.09783    -0.065716   \n",
       "3       1.149181    -0.827839 -0.142857                 -0.09783    -0.065716   \n",
       "4       1.149181     1.207964 -0.142857                 -0.09783    -0.065716   \n",
       "...          ...          ...       ...                      ...          ...   \n",
       "49995   1.149181    -0.827839 -0.142857                 -0.09783    -0.065716   \n",
       "49996  -0.870185    -0.827839 -0.142857                 -0.09783    -0.065716   \n",
       "49997  -0.870185     1.207964 -0.142857                 -0.09783    -0.065716   \n",
       "49998   1.149181     1.207964 -0.142857                 -0.09783    -0.065716   \n",
       "49999  -0.870185    -0.827839 -0.142857                 -0.09783    -0.065716   \n",
       "\n",
       "       enrolled  \n",
       "0             0  \n",
       "1             0  \n",
       "2             0  \n",
       "3             1  \n",
       "4             1  \n",
       "...         ...  \n",
       "49995         1  \n",
       "49996         0  \n",
       "49997         0  \n",
       "49998         1  \n",
       "49999         0  \n",
       "\n",
       "[50000 rows x 145 columns]"
      ]
     },
     "execution_count": 72,
     "metadata": {},
     "output_type": "execute_result"
    }
   ],
   "source": [
    "scaled_data = pd.concat([scaled_data, target],axis=1)\n",
    "scaled_data"
   ]
  },
  {
   "cell_type": "markdown",
   "metadata": {},
   "source": [
    "## Train Test Split Scaled Data"
   ]
  },
  {
   "cell_type": "code",
   "execution_count": 73,
   "metadata": {},
   "outputs": [],
   "source": [
    "Xsc = scaled_data.drop('enrolled',axis=1)\n",
    "ysc = scaled_data['enrolled']"
   ]
  },
  {
   "cell_type": "code",
   "execution_count": 74,
   "metadata": {},
   "outputs": [],
   "source": [
    "Xsc_train, Xsc_test, ysc_train, ysc_test = train_test_split(Xsc, ysc, test_size=.3, random_state=42)"
   ]
  },
  {
   "cell_type": "code",
   "execution_count": 75,
   "metadata": {},
   "outputs": [
    {
     "data": {
      "text/plain": [
       "1    21859\n",
       "0    13141\n",
       "Name: enrolled, dtype: int64"
      ]
     },
     "execution_count": 75,
     "metadata": {},
     "output_type": "execute_result"
    }
   ],
   "source": [
    "ysc_train.value_counts()"
   ]
  },
  {
   "cell_type": "code",
   "execution_count": 76,
   "metadata": {},
   "outputs": [
    {
     "data": {
      "image/png": "[encoded data removed]",
      "text/plain": [
       "<Figure size 432x288 with 1 Axes>"
      ]
     },
     "metadata": {},
     "output_type": "display_data"
    }
   ],
   "source": [
    "sizes_sc = [len(ysc_train[ysc_train==0]), len(ysc_train[ysc_train==1])]\n",
    "labels_sc = ['not_enroled', 'enrolled']\n",
    "\n",
    "\n",
    "plt.title('Train Data - Standardize/Scaled')\n",
    "plt.pie(sizes_sc, labels=labels_sc, autopct='%2.2f%%', startangle=90)\n",
    "\n",
    "plt.show()"
   ]
  },
  {
   "cell_type": "code",
   "execution_count": null,
   "metadata": {},
   "outputs": [],
   "source": []
  },
  {
   "cell_type": "markdown",
   "metadata": {},
   "source": [
    "## Modelling Scaled Data"
   ]
  },
  {
   "cell_type": "markdown",
   "metadata": {},
   "source": [
    "### Random Forest Classifier"
   ]
  },
  {
   "cell_type": "code",
   "execution_count": 77,
   "metadata": {},
   "outputs": [],
   "source": [
    "rfc_sc = RandomForestClassifier()"
   ]
  },
  {
   "cell_type": "code",
   "execution_count": 78,
   "metadata": {},
   "outputs": [
    {
     "data": {
      "text/plain": [
       "RandomForestClassifier(bootstrap=True, ccp_alpha=0.0, class_weight=None,\n",
       "                       criterion='gini', max_depth=None, max_features='auto',\n",
       "                       max_leaf_nodes=None, max_samples=None,\n",
       "                       min_impurity_decrease=0.0, min_impurity_split=None,\n",
       "                       min_samples_leaf=1, min_samples_split=2,\n",
       "                       min_weight_fraction_leaf=0.0, n_estimators=100,\n",
       "                       n_jobs=None, oob_score=False, random_state=None,\n",
       "                       verbose=0, warm_start=False)"
      ]
     },
     "execution_count": 78,
     "metadata": {},
     "output_type": "execute_result"
    }
   ],
   "source": [
    "rfc_sc.fit(Xsc_train, ysc_train)"
   ]
  },
  {
   "cell_type": "code",
   "execution_count": 79,
   "metadata": {},
   "outputs": [],
   "source": [
    "pred_rfc_sc = rfc_sc.predict(Xsc_test)\n",
    "proba_rfc_sc = rfc_sc.predict_proba(Xsc_test)"
   ]
  },
  {
   "cell_type": "code",
   "execution_count": 80,
   "metadata": {},
   "outputs": [
    {
     "name": "stdout",
     "output_type": "stream",
     "text": [
      "Scaled\n",
      "[[5078  707]\n",
      " [1451 7764]]\n",
      "\n",
      "No Scaled\n",
      "[[5067  718]\n",
      " [1443 7772]]\n"
     ]
    }
   ],
   "source": [
    "print('Scaled')\n",
    "print(confusion_matrix(ysc_test, pred_rfc_sc))\n",
    "print()\n",
    "print('No Scaled')\n",
    "print(confusion_matrix(y_test, pred_rfc))"
   ]
  },
  {
   "cell_type": "code",
   "execution_count": 81,
   "metadata": {},
   "outputs": [
    {
     "name": "stdout",
     "output_type": "stream",
     "text": [
      "Scaled\n",
      "              precision    recall  f1-score   support\n",
      "\n",
      "           0       0.78      0.88      0.82      5785\n",
      "           1       0.92      0.84      0.88      9215\n",
      "\n",
      "    accuracy                           0.86     15000\n",
      "   macro avg       0.85      0.86      0.85     15000\n",
      "weighted avg       0.86      0.86      0.86     15000\n",
      "\n",
      "\n",
      "No Scaled\n",
      "              precision    recall  f1-score   support\n",
      "\n",
      "           0       0.78      0.88      0.82      5785\n",
      "           1       0.92      0.84      0.88      9215\n",
      "\n",
      "    accuracy                           0.86     15000\n",
      "   macro avg       0.85      0.86      0.85     15000\n",
      "weighted avg       0.86      0.86      0.86     15000\n",
      "\n"
     ]
    }
   ],
   "source": [
    "print('Scaled')\n",
    "print(classification_report(ysc_test, pred_rfc_sc))\n",
    "print()\n",
    "print('No Scaled')\n",
    "print(classification_report(y_test, pred_rfc))"
   ]
  },
  {
   "cell_type": "markdown",
   "metadata": {},
   "source": [
    "### Gradient Boosting Classifier"
   ]
  },
  {
   "cell_type": "code",
   "execution_count": 82,
   "metadata": {},
   "outputs": [],
   "source": [
    "gradient_sc = GradientBoostingClassifier()"
   ]
  },
  {
   "cell_type": "code",
   "execution_count": 83,
   "metadata": {},
   "outputs": [
    {
     "data": {
      "text/plain": [
       "GradientBoostingClassifier(ccp_alpha=0.0, criterion='friedman_mse', init=None,\n",
       "                           learning_rate=0.1, loss='deviance', max_depth=3,\n",
       "                           max_features=None, max_leaf_nodes=None,\n",
       "                           min_impurity_decrease=0.0, min_impurity_split=None,\n",
       "                           min_samples_leaf=1, min_samples_split=2,\n",
       "                           min_weight_fraction_leaf=0.0, n_estimators=100,\n",
       "                           n_iter_no_change=None, presort='deprecated',\n",
       "                           random_state=None, subsample=1.0, tol=0.0001,\n",
       "                           validation_fraction=0.1, verbose=0,\n",
       "                           warm_start=False)"
      ]
     },
     "execution_count": 83,
     "metadata": {},
     "output_type": "execute_result"
    }
   ],
   "source": [
    "gradient_sc.fit(Xsc_train,ysc_train)"
   ]
  },
  {
   "cell_type": "code",
   "execution_count": 84,
   "metadata": {},
   "outputs": [],
   "source": [
    "pred_gradient_sc = gradient_sc.predict(Xsc_test)\n",
    "proba_gradient_sc = gradient_sc.predict_proba(Xsc_test)"
   ]
  },
  {
   "cell_type": "code",
   "execution_count": 85,
   "metadata": {},
   "outputs": [
    {
     "name": "stdout",
     "output_type": "stream",
     "text": [
      "Scaled\n",
      "[[5192  593]\n",
      " [1577 7638]]\n",
      "\n",
      "No Scaled\n",
      "[[5192  593]\n",
      " [1577 7638]]\n"
     ]
    }
   ],
   "source": [
    "print('Scaled')\n",
    "print(confusion_matrix(ysc_test, pred_gradient_sc))\n",
    "print()\n",
    "print('No Scaled')\n",
    "print(confusion_matrix(y_test, pred_gradient))"
   ]
  },
  {
   "cell_type": "code",
   "execution_count": 86,
   "metadata": {},
   "outputs": [
    {
     "name": "stdout",
     "output_type": "stream",
     "text": [
      "Scaled\n",
      "              precision    recall  f1-score   support\n",
      "\n",
      "           0       0.77      0.90      0.83      5785\n",
      "           1       0.93      0.83      0.88      9215\n",
      "\n",
      "    accuracy                           0.86     15000\n",
      "   macro avg       0.85      0.86      0.85     15000\n",
      "weighted avg       0.87      0.86      0.86     15000\n",
      "\n",
      "\n",
      "No Scaled\n",
      "              precision    recall  f1-score   support\n",
      "\n",
      "           0       0.77      0.90      0.83      5785\n",
      "           1       0.93      0.83      0.88      9215\n",
      "\n",
      "    accuracy                           0.86     15000\n",
      "   macro avg       0.85      0.86      0.85     15000\n",
      "weighted avg       0.87      0.86      0.86     15000\n",
      "\n"
     ]
    }
   ],
   "source": [
    "print('Scaled')\n",
    "print(classification_report(ysc_test, pred_gradient_sc))\n",
    "print()\n",
    "print('No Scaled')\n",
    "print(classification_report(y_test, pred_gradient))"
   ]
  },
  {
   "cell_type": "markdown",
   "metadata": {},
   "source": [
    "### Logistic Regression"
   ]
  },
  {
   "cell_type": "code",
   "execution_count": 87,
   "metadata": {},
   "outputs": [],
   "source": [
    "logreg_sc = LogisticRegression()"
   ]
  },
  {
   "cell_type": "code",
   "execution_count": 88,
   "metadata": {},
   "outputs": [
    {
     "data": {
      "text/plain": [
       "LogisticRegression(C=1.0, class_weight=None, dual=False, fit_intercept=True,\n",
       "                   intercept_scaling=1, l1_ratio=None, max_iter=100,\n",
       "                   multi_class='auto', n_jobs=None, penalty='l2',\n",
       "                   random_state=None, solver='lbfgs', tol=0.0001, verbose=0,\n",
       "                   warm_start=False)"
      ]
     },
     "execution_count": 88,
     "metadata": {},
     "output_type": "execute_result"
    }
   ],
   "source": [
    "logreg_sc.fit(Xsc_train, ysc_train)"
   ]
  },
  {
   "cell_type": "code",
   "execution_count": 89,
   "metadata": {},
   "outputs": [],
   "source": [
    "pred_logreg_sc = logreg_sc.predict(Xsc_test)\n",
    "proba_logreg_sc = logreg_sc.predict_proba(Xsc_test)"
   ]
  },
  {
   "cell_type": "code",
   "execution_count": 90,
   "metadata": {},
   "outputs": [
    {
     "name": "stdout",
     "output_type": "stream",
     "text": [
      "Scaled\n",
      "[[5097  688]\n",
      " [1582 7633]]\n",
      "\n",
      "No Scaled\n",
      "[[5111  674]\n",
      " [1592 7623]]\n"
     ]
    }
   ],
   "source": [
    "print('Scaled')\n",
    "print(confusion_matrix(ysc_test, pred_logreg_sc))\n",
    "print()\n",
    "print('No Scaled')\n",
    "print(confusion_matrix(y_test, pred_logreg))"
   ]
  },
  {
   "cell_type": "code",
   "execution_count": 91,
   "metadata": {},
   "outputs": [
    {
     "name": "stdout",
     "output_type": "stream",
     "text": [
      "Scaled\n",
      "              precision    recall  f1-score   support\n",
      "\n",
      "           0       0.76      0.88      0.82      5785\n",
      "           1       0.92      0.83      0.87      9215\n",
      "\n",
      "    accuracy                           0.85     15000\n",
      "   macro avg       0.84      0.85      0.84     15000\n",
      "weighted avg       0.86      0.85      0.85     15000\n",
      "\n",
      "\n",
      "No Scaled\n",
      "              precision    recall  f1-score   support\n",
      "\n",
      "           0       0.76      0.88      0.82      5785\n",
      "           1       0.92      0.83      0.87      9215\n",
      "\n",
      "    accuracy                           0.85     15000\n",
      "   macro avg       0.84      0.86      0.84     15000\n",
      "weighted avg       0.86      0.85      0.85     15000\n",
      "\n"
     ]
    }
   ],
   "source": [
    "print('Scaled')\n",
    "print(classification_report(ysc_test, pred_logreg_sc))\n",
    "print()\n",
    "print('No Scaled')\n",
    "print(classification_report(y_test, pred_logreg))"
   ]
  },
  {
   "cell_type": "code",
   "execution_count": 92,
   "metadata": {},
   "outputs": [
    {
     "name": "stdout",
     "output_type": "stream",
     "text": [
      "[87.8, 87.56, 87.06]\n",
      "[91.65, 92.8, 91.73]\n",
      "[84.25, 82.89, 82.83]\n"
     ]
    }
   ],
   "source": [
    "pred_model_sc = [pred_rfc_sc, pred_gradient_sc, pred_logreg_sc]\n",
    "f1_sc = []\n",
    "prec_sc = []\n",
    "rec_sc = []\n",
    "\n",
    "for mod_sc in pred_model_sc:\n",
    "    f1_sc.append(round(f1_score(y_test, mod_sc)*100,2))\n",
    "    prec_sc.append(round(precision_score(y_test, mod_sc)*100,2))\n",
    "    rec_sc.append(round(recall_score(y_test, mod_sc)*100,2))\n",
    "    \n",
    "print(f1_sc)\n",
    "print(prec_sc)\n",
    "print(rec_sc)"
   ]
  },
  {
   "cell_type": "code",
   "execution_count": 93,
   "metadata": {},
   "outputs": [
    {
     "data": {
      "text/html": [
       "<div>\n",
       "<style scoped>\n",
       "    .dataframe tbody tr th:only-of-type {\n",
       "        vertical-align: middle;\n",
       "    }\n",
       "\n",
       "    .dataframe tbody tr th {\n",
       "        vertical-align: top;\n",
       "    }\n",
       "\n",
       "    .dataframe thead th {\n",
       "        text-align: right;\n",
       "    }\n",
       "</style>\n",
       "<table border=\"1\" class=\"dataframe\">\n",
       "  <thead>\n",
       "    <tr style=\"text-align: right;\">\n",
       "      <th></th>\n",
       "      <th>f1_score</th>\n",
       "      <th>precision_score</th>\n",
       "      <th>recall_score</th>\n",
       "    </tr>\n",
       "  </thead>\n",
       "  <tbody>\n",
       "    <tr>\n",
       "      <th>rfc</th>\n",
       "      <td>87.80</td>\n",
       "      <td>91.65</td>\n",
       "      <td>84.25</td>\n",
       "    </tr>\n",
       "    <tr>\n",
       "      <th>gradient_boost</th>\n",
       "      <td>87.56</td>\n",
       "      <td>92.80</td>\n",
       "      <td>82.89</td>\n",
       "    </tr>\n",
       "    <tr>\n",
       "      <th>logistic_reg</th>\n",
       "      <td>87.06</td>\n",
       "      <td>91.73</td>\n",
       "      <td>82.83</td>\n",
       "    </tr>\n",
       "  </tbody>\n",
       "</table>\n",
       "</div>"
      ],
      "text/plain": [
       "                f1_score  precision_score  recall_score\n",
       "rfc                87.80            91.65         84.25\n",
       "gradient_boost     87.56            92.80         82.89\n",
       "logistic_reg       87.06            91.73         82.83"
      ]
     },
     "execution_count": 93,
     "metadata": {},
     "output_type": "execute_result"
    }
   ],
   "source": [
    "mtrc_sc_summary = pd.DataFrame([f1_sc,prec_sc,rec_sc], index=['f1_score', 'precision_score', 'recall_score'],\n",
    "                           columns=['rfc','gradient_boost','logistic_reg'])\n",
    "mtrc_sc_summary =mtrc_sc_summary.T\n",
    "mtrc_sc_summary"
   ]
  },
  {
   "cell_type": "markdown",
   "metadata": {},
   "source": [
    "## ROC AUC Standardize - No SMOTE"
   ]
  },
  {
   "cell_type": "code",
   "execution_count": 94,
   "metadata": {},
   "outputs": [],
   "source": [
    "prob_rfc_sc = proba_rfc_sc[:,1]\n",
    "fpr_rfc_sc, tpr_rfc_sc, threshold_rfc_sc = roc_curve(y_test, prob_rfc_sc)\n",
    "roc_auc_rfc_sc = auc(fpr_rfc_sc, tpr_rfc_sc)\n",
    "\n",
    "prob_gradient_sc = proba_gradient_sc[:,1]\n",
    "fpr_gradient_sc, tpr_gradient_sc, threshold_gradient_sc = roc_curve(y_test, prob_gradient_sc)\n",
    "roc_auc_gradient_sc = auc(fpr_gradient_sc, tpr_gradient_sc)\n",
    "\n",
    "prob_logreg_sc = proba_logreg_sc[:,1]\n",
    "fpr_logreg_sc, tpr_logreg_sc, threshold_logreg_sc = roc_curve(y_test, prob_logreg_sc)\n",
    "roc_auc_logreg_sc = auc(fpr_logreg_sc, tpr_logreg_sc)"
   ]
  },
  {
   "cell_type": "code",
   "execution_count": 95,
   "metadata": {},
   "outputs": [
    {
     "data": {
      "image/png": "[encoded data removed]",
      "text/plain": [
       "<Figure size 1440x504 with 3 Axes>"
      ]
     },
     "metadata": {
      "needs_background": "light"
     },
     "output_type": "display_data"
    }
   ],
   "source": [
    "plt.figure(figsize=(20,7))\n",
    "plt.suptitle('ROC AUC with Standardized data')\n",
    "\n",
    "plt.subplot(131)\n",
    "plt.title('ROC AUC Random Forest Classifier (Standardize)')\n",
    "plt.plot(fpr_rfc_sc, tpr_rfc_sc, 'green', label='AUC RFC Standardize = {}'.format(round(roc_auc_rfc_sc,2)))\n",
    "plt.plot([0,1],[0,1], 'r--')\n",
    "plt.xlim([0,1])\n",
    "plt.ylim([0,1])\n",
    "plt.xlabel('False Positive Rate')\n",
    "plt.ylabel('True Positive Rate')\n",
    "plt.fill_between(fpr_rfc_sc,tpr_rfc_sc, 0, facecolor='azure', alpha=0.5)\n",
    "plt.legend(loc = 'lower right')\n",
    "\n",
    "plt.subplot(132)\n",
    "plt.title('ROC AUC Gradient (Standardize)')\n",
    "plt.plot(fpr_gradient_sc, tpr_gradient_sc, 'green', label='AUC Gradient Standardize = {}'.format(round(roc_auc_gradient_sc,2)))\n",
    "plt.plot([0,1],[0,1], 'r--')\n",
    "plt.xlim([0,1])\n",
    "plt.ylim([0,1])\n",
    "plt.xlabel('False Positive Rate')\n",
    "plt.ylabel('True Positive Rate')\n",
    "plt.fill_between(fpr_gradient_sc,tpr_gradient_sc, 0, facecolor='azure', alpha=0.5)\n",
    "plt.legend(loc = 'lower right')\n",
    "\n",
    "plt.subplot(133)\n",
    "plt.title('ROC AUC Logistic Regression (Standardize)')\n",
    "plt.plot(fpr_logreg_sc, tpr_logreg_sc, 'green', label='AUC Logistic Standardize = {}'.format(round(roc_auc_logreg_sc,2)))\n",
    "plt.plot([0,1],[0,1], 'r--')\n",
    "plt.xlim([0,1])\n",
    "plt.ylim([0,1])\n",
    "plt.xlabel('False Positive Rate')\n",
    "plt.ylabel('True Positive Rate')\n",
    "plt.fill_between(fpr_logreg_sc,tpr_logreg_sc, 0, facecolor='azure', alpha=0.5)\n",
    "plt.legend(loc = 'lower right')\n",
    "\n",
    "plt.show()"
   ]
  },
  {
   "cell_type": "code",
   "execution_count": 96,
   "metadata": {},
   "outputs": [
    {
     "name": "stdout",
     "output_type": "stream",
     "text": [
      "0.93\n",
      "0.93\n",
      "0.93\n"
     ]
    }
   ],
   "source": [
    "print(round(auc(fpr_rfc_sc, tpr_rfc_sc),2))\n",
    "print(round(auc(fpr_gradient_sc, tpr_gradient_sc),2))\n",
    "print(round(auc(fpr_logreg_sc, tpr_logreg_sc),2))"
   ]
  },
  {
   "cell_type": "markdown",
   "metadata": {},
   "source": [
    "## Eval Metrics Summary (scale vs no scale)"
   ]
  },
  {
   "cell_type": "code",
   "execution_count": 97,
   "metadata": {},
   "outputs": [],
   "source": [
    "mtrc_sc_summary = mtrc_sc_summary.reset_index()\n",
    "mtrc_sc_summary.rename(columns={'index':'model'},inplace=True)"
   ]
  },
  {
   "cell_type": "code",
   "execution_count": 98,
   "metadata": {},
   "outputs": [],
   "source": [
    "mtrc_sc_summary['scale'] = 'yes'"
   ]
  },
  {
   "cell_type": "code",
   "execution_count": 99,
   "metadata": {},
   "outputs": [
    {
     "data": {
      "text/html": [
       "<div>\n",
       "<style scoped>\n",
       "    .dataframe tbody tr th:only-of-type {\n",
       "        vertical-align: middle;\n",
       "    }\n",
       "\n",
       "    .dataframe tbody tr th {\n",
       "        vertical-align: top;\n",
       "    }\n",
       "\n",
       "    .dataframe thead th {\n",
       "        text-align: right;\n",
       "    }\n",
       "</style>\n",
       "<table border=\"1\" class=\"dataframe\">\n",
       "  <thead>\n",
       "    <tr style=\"text-align: right;\">\n",
       "      <th></th>\n",
       "      <th>model</th>\n",
       "      <th>f1_score</th>\n",
       "      <th>precision_score</th>\n",
       "      <th>recall_score</th>\n",
       "      <th>scale</th>\n",
       "    </tr>\n",
       "  </thead>\n",
       "  <tbody>\n",
       "    <tr>\n",
       "      <th>0</th>\n",
       "      <td>rfc</td>\n",
       "      <td>87.80</td>\n",
       "      <td>91.65</td>\n",
       "      <td>84.25</td>\n",
       "      <td>yes</td>\n",
       "    </tr>\n",
       "    <tr>\n",
       "      <th>1</th>\n",
       "      <td>gradient_boost</td>\n",
       "      <td>87.56</td>\n",
       "      <td>92.80</td>\n",
       "      <td>82.89</td>\n",
       "      <td>yes</td>\n",
       "    </tr>\n",
       "    <tr>\n",
       "      <th>2</th>\n",
       "      <td>logistic_reg</td>\n",
       "      <td>87.06</td>\n",
       "      <td>91.73</td>\n",
       "      <td>82.83</td>\n",
       "      <td>yes</td>\n",
       "    </tr>\n",
       "  </tbody>\n",
       "</table>\n",
       "</div>"
      ],
      "text/plain": [
       "            model  f1_score  precision_score  recall_score scale\n",
       "0             rfc     87.80            91.65         84.25   yes\n",
       "1  gradient_boost     87.56            92.80         82.89   yes\n",
       "2    logistic_reg     87.06            91.73         82.83   yes"
      ]
     },
     "execution_count": 99,
     "metadata": {},
     "output_type": "execute_result"
    }
   ],
   "source": [
    "mtrc_sc_summary"
   ]
  },
  {
   "cell_type": "code",
   "execution_count": 100,
   "metadata": {},
   "outputs": [],
   "source": [
    "#top 3 f1 score model not scaled_data\n",
    "model_not_sc = mtrc_summary.sort_values('f1_score',ascending=False).iloc[:3,:]"
   ]
  },
  {
   "cell_type": "code",
   "execution_count": 101,
   "metadata": {},
   "outputs": [],
   "source": [
    "model_not_sc = model_not_sc.reset_index()\n",
    "model_not_sc.rename(columns={'index':'model'},inplace=True)"
   ]
  },
  {
   "cell_type": "code",
   "execution_count": 102,
   "metadata": {},
   "outputs": [],
   "source": [
    "model_not_sc['scale'] = 'no'"
   ]
  },
  {
   "cell_type": "code",
   "execution_count": 103,
   "metadata": {},
   "outputs": [
    {
     "data": {
      "text/html": [
       "<div>\n",
       "<style scoped>\n",
       "    .dataframe tbody tr th:only-of-type {\n",
       "        vertical-align: middle;\n",
       "    }\n",
       "\n",
       "    .dataframe tbody tr th {\n",
       "        vertical-align: top;\n",
       "    }\n",
       "\n",
       "    .dataframe thead th {\n",
       "        text-align: right;\n",
       "    }\n",
       "</style>\n",
       "<table border=\"1\" class=\"dataframe\">\n",
       "  <thead>\n",
       "    <tr style=\"text-align: right;\">\n",
       "      <th></th>\n",
       "      <th>model</th>\n",
       "      <th>f1_score</th>\n",
       "      <th>precision_score</th>\n",
       "      <th>recall_score</th>\n",
       "      <th>scale</th>\n",
       "    </tr>\n",
       "  </thead>\n",
       "  <tbody>\n",
       "    <tr>\n",
       "      <th>0</th>\n",
       "      <td>rfc</td>\n",
       "      <td>87.79</td>\n",
       "      <td>91.54</td>\n",
       "      <td>84.34</td>\n",
       "      <td>no</td>\n",
       "    </tr>\n",
       "    <tr>\n",
       "      <th>1</th>\n",
       "      <td>gradient_boost</td>\n",
       "      <td>87.56</td>\n",
       "      <td>92.80</td>\n",
       "      <td>82.89</td>\n",
       "      <td>no</td>\n",
       "    </tr>\n",
       "    <tr>\n",
       "      <th>2</th>\n",
       "      <td>logistic_reg</td>\n",
       "      <td>87.06</td>\n",
       "      <td>91.88</td>\n",
       "      <td>82.72</td>\n",
       "      <td>no</td>\n",
       "    </tr>\n",
       "  </tbody>\n",
       "</table>\n",
       "</div>"
      ],
      "text/plain": [
       "            model  f1_score  precision_score  recall_score scale\n",
       "0             rfc     87.79            91.54         84.34    no\n",
       "1  gradient_boost     87.56            92.80         82.89    no\n",
       "2    logistic_reg     87.06            91.88         82.72    no"
      ]
     },
     "execution_count": 103,
     "metadata": {},
     "output_type": "execute_result"
    }
   ],
   "source": [
    "model_not_sc"
   ]
  },
  {
   "cell_type": "code",
   "execution_count": 104,
   "metadata": {},
   "outputs": [],
   "source": [
    "# ALL Model\n",
    "eval_all = pd.concat([model_not_sc,mtrc_sc_summary],axis=0)\n",
    "eval_all = eval_all.reset_index()\n",
    "eval_all.drop('index',axis=1, inplace=True)"
   ]
  },
  {
   "cell_type": "code",
   "execution_count": 105,
   "metadata": {},
   "outputs": [
    {
     "data": {
      "text/html": [
       "<div>\n",
       "<style scoped>\n",
       "    .dataframe tbody tr th:only-of-type {\n",
       "        vertical-align: middle;\n",
       "    }\n",
       "\n",
       "    .dataframe tbody tr th {\n",
       "        vertical-align: top;\n",
       "    }\n",
       "\n",
       "    .dataframe thead th {\n",
       "        text-align: right;\n",
       "    }\n",
       "</style>\n",
       "<table border=\"1\" class=\"dataframe\">\n",
       "  <thead>\n",
       "    <tr style=\"text-align: right;\">\n",
       "      <th></th>\n",
       "      <th>model</th>\n",
       "      <th>f1_score</th>\n",
       "      <th>precision_score</th>\n",
       "      <th>recall_score</th>\n",
       "      <th>scale</th>\n",
       "    </tr>\n",
       "  </thead>\n",
       "  <tbody>\n",
       "    <tr>\n",
       "      <th>0</th>\n",
       "      <td>rfc</td>\n",
       "      <td>87.79</td>\n",
       "      <td>91.54</td>\n",
       "      <td>84.34</td>\n",
       "      <td>no</td>\n",
       "    </tr>\n",
       "    <tr>\n",
       "      <th>1</th>\n",
       "      <td>gradient_boost</td>\n",
       "      <td>87.56</td>\n",
       "      <td>92.80</td>\n",
       "      <td>82.89</td>\n",
       "      <td>no</td>\n",
       "    </tr>\n",
       "    <tr>\n",
       "      <th>2</th>\n",
       "      <td>logistic_reg</td>\n",
       "      <td>87.06</td>\n",
       "      <td>91.88</td>\n",
       "      <td>82.72</td>\n",
       "      <td>no</td>\n",
       "    </tr>\n",
       "    <tr>\n",
       "      <th>3</th>\n",
       "      <td>rfc</td>\n",
       "      <td>87.80</td>\n",
       "      <td>91.65</td>\n",
       "      <td>84.25</td>\n",
       "      <td>yes</td>\n",
       "    </tr>\n",
       "    <tr>\n",
       "      <th>4</th>\n",
       "      <td>gradient_boost</td>\n",
       "      <td>87.56</td>\n",
       "      <td>92.80</td>\n",
       "      <td>82.89</td>\n",
       "      <td>yes</td>\n",
       "    </tr>\n",
       "    <tr>\n",
       "      <th>5</th>\n",
       "      <td>logistic_reg</td>\n",
       "      <td>87.06</td>\n",
       "      <td>91.73</td>\n",
       "      <td>82.83</td>\n",
       "      <td>yes</td>\n",
       "    </tr>\n",
       "  </tbody>\n",
       "</table>\n",
       "</div>"
      ],
      "text/plain": [
       "            model  f1_score  precision_score  recall_score scale\n",
       "0             rfc     87.79            91.54         84.34    no\n",
       "1  gradient_boost     87.56            92.80         82.89    no\n",
       "2    logistic_reg     87.06            91.88         82.72    no\n",
       "3             rfc     87.80            91.65         84.25   yes\n",
       "4  gradient_boost     87.56            92.80         82.89   yes\n",
       "5    logistic_reg     87.06            91.73         82.83   yes"
      ]
     },
     "execution_count": 105,
     "metadata": {},
     "output_type": "execute_result"
    }
   ],
   "source": [
    "eval_all"
   ]
  },
  {
   "cell_type": "code",
   "execution_count": 106,
   "metadata": {},
   "outputs": [
    {
     "data": {
      "text/html": [
       "<div>\n",
       "<style scoped>\n",
       "    .dataframe tbody tr th:only-of-type {\n",
       "        vertical-align: middle;\n",
       "    }\n",
       "\n",
       "    .dataframe tbody tr th {\n",
       "        vertical-align: top;\n",
       "    }\n",
       "\n",
       "    .dataframe thead th {\n",
       "        text-align: right;\n",
       "    }\n",
       "</style>\n",
       "<table border=\"1\" class=\"dataframe\">\n",
       "  <thead>\n",
       "    <tr style=\"text-align: right;\">\n",
       "      <th></th>\n",
       "      <th></th>\n",
       "      <th>f1_score</th>\n",
       "      <th>precision_score</th>\n",
       "      <th>recall_score</th>\n",
       "    </tr>\n",
       "    <tr>\n",
       "      <th>scale</th>\n",
       "      <th>model</th>\n",
       "      <th></th>\n",
       "      <th></th>\n",
       "      <th></th>\n",
       "    </tr>\n",
       "  </thead>\n",
       "  <tbody>\n",
       "    <tr>\n",
       "      <th rowspan=\"3\" valign=\"top\">no</th>\n",
       "      <th>gradient_boost</th>\n",
       "      <td>87.56</td>\n",
       "      <td>92.80</td>\n",
       "      <td>82.89</td>\n",
       "    </tr>\n",
       "    <tr>\n",
       "      <th>logistic_reg</th>\n",
       "      <td>87.06</td>\n",
       "      <td>91.88</td>\n",
       "      <td>82.72</td>\n",
       "    </tr>\n",
       "    <tr>\n",
       "      <th>rfc</th>\n",
       "      <td>87.79</td>\n",
       "      <td>91.54</td>\n",
       "      <td>84.34</td>\n",
       "    </tr>\n",
       "    <tr>\n",
       "      <th rowspan=\"3\" valign=\"top\">yes</th>\n",
       "      <th>gradient_boost</th>\n",
       "      <td>87.56</td>\n",
       "      <td>92.80</td>\n",
       "      <td>82.89</td>\n",
       "    </tr>\n",
       "    <tr>\n",
       "      <th>logistic_reg</th>\n",
       "      <td>87.06</td>\n",
       "      <td>91.73</td>\n",
       "      <td>82.83</td>\n",
       "    </tr>\n",
       "    <tr>\n",
       "      <th>rfc</th>\n",
       "      <td>87.80</td>\n",
       "      <td>91.65</td>\n",
       "      <td>84.25</td>\n",
       "    </tr>\n",
       "  </tbody>\n",
       "</table>\n",
       "</div>"
      ],
      "text/plain": [
       "                      f1_score  precision_score  recall_score\n",
       "scale model                                                  \n",
       "no    gradient_boost     87.56            92.80         82.89\n",
       "      logistic_reg       87.06            91.88         82.72\n",
       "      rfc                87.79            91.54         84.34\n",
       "yes   gradient_boost     87.56            92.80         82.89\n",
       "      logistic_reg       87.06            91.73         82.83\n",
       "      rfc                87.80            91.65         84.25"
      ]
     },
     "execution_count": 106,
     "metadata": {},
     "output_type": "execute_result"
    }
   ],
   "source": [
    "by_scale = eval_all.groupby(['scale','model']).sum()\n",
    "by_scale"
   ]
  },
  {
   "cell_type": "code",
   "execution_count": 107,
   "metadata": {},
   "outputs": [
    {
     "data": {
      "text/plain": [
       "<matplotlib.legend.Legend at 0x2570afcf748>"
      ]
     },
     "execution_count": 107,
     "metadata": {},
     "output_type": "execute_result"
    },
    {
     "data": {
      "image/png": "[encoded data removed]",
      "text/plain": [
       "<Figure size 576x432 with 1 Axes>"
      ]
     },
     "metadata": {
      "needs_background": "light"
     },
     "output_type": "display_data"
    }
   ],
   "source": [
    "plt.figure(figsize=(8,6))\n",
    "\n",
    "\n",
    "plt.title('F1 Score')\n",
    "sns.barplot('model', 'f1_score', hue='scale', data=eval_all)\n",
    "plt.legend(loc='lower right')"
   ]
  },
  {
   "cell_type": "markdown",
   "metadata": {},
   "source": [
    "Setelah dilakakukan Scaling. ternyata skorny F1 satu tidak berubah semasekali. skor f1 terbaik dimiliki oleh model Random Forest\n",
    "#### Kesimpulannya untuk Proses tahap selanjutnya tidak perlu menggunakan Standardize / StandardScaler\n",
    "#### No-Scale WIN"
   ]
  },
  {
   "cell_type": "code",
   "execution_count": null,
   "metadata": {},
   "outputs": [],
   "source": []
  },
  {
   "cell_type": "markdown",
   "metadata": {},
   "source": [
    "## SMOTE"
   ]
  },
  {
   "cell_type": "code",
   "execution_count": 108,
   "metadata": {},
   "outputs": [],
   "source": [
    "# We will use scaled data. coz SMOTE has n_neighbors wich is an KNN algorithm. so we will use scaled train dataset"
   ]
  },
  {
   "cell_type": "code",
   "execution_count": 109,
   "metadata": {},
   "outputs": [
    {
     "data": {
      "text/plain": [
       "SMOTE(k_neighbors=5, n_jobs=None, random_state=42, sampling_strategy=1.0)"
      ]
     },
     "execution_count": 109,
     "metadata": {},
     "output_type": "execute_result"
    }
   ],
   "source": [
    "sm = SMOTE(random_state=42, sampling_strategy=1.0, k_neighbors=5)\n",
    "sm"
   ]
  },
  {
   "cell_type": "code",
   "execution_count": 110,
   "metadata": {},
   "outputs": [],
   "source": [
    "Xsmot_train, ysmot_train = sm.fit_sample(Xsc_train, ysc_train)"
   ]
  },
  {
   "cell_type": "code",
   "execution_count": 111,
   "metadata": {},
   "outputs": [
    {
     "data": {
      "text/plain": [
       "1    21859\n",
       "0    21859\n",
       "Name: enrolled, dtype: int64"
      ]
     },
     "execution_count": 111,
     "metadata": {},
     "output_type": "execute_result"
    }
   ],
   "source": [
    "ysmot_train.value_counts()"
   ]
  },
  {
   "cell_type": "code",
   "execution_count": 112,
   "metadata": {},
   "outputs": [
    {
     "data": {
      "image/png": "[encoded data removed]",
      "text/plain": [
       "<Figure size 432x288 with 1 Axes>"
      ]
     },
     "metadata": {},
     "output_type": "display_data"
    }
   ],
   "source": [
    "sizes_smot = [len(ysmot_train[ysmot_train==0]), len(ysmot_train[ysmot_train==1])]\n",
    "labels_smot = ['not_enroled', 'enrolled']\n",
    "\n",
    "\n",
    "plt.title('Train Data - SMOTE')\n",
    "plt.pie(sizes_smot, labels=labels_smot, autopct='%2.2f%%', startangle=90)\n",
    "\n",
    "plt.show()"
   ]
  },
  {
   "cell_type": "markdown",
   "metadata": {},
   "source": [
    "### Modelling using SMOTE train dataset"
   ]
  },
  {
   "cell_type": "markdown",
   "metadata": {},
   "source": [
    "### Random Forest Classifier - SMOTE"
   ]
  },
  {
   "cell_type": "code",
   "execution_count": 113,
   "metadata": {},
   "outputs": [],
   "source": [
    "rfc_smot = RandomForestClassifier()"
   ]
  },
  {
   "cell_type": "code",
   "execution_count": 114,
   "metadata": {},
   "outputs": [
    {
     "data": {
      "text/plain": [
       "RandomForestClassifier(bootstrap=True, ccp_alpha=0.0, class_weight=None,\n",
       "                       criterion='gini', max_depth=None, max_features='auto',\n",
       "                       max_leaf_nodes=None, max_samples=None,\n",
       "                       min_impurity_decrease=0.0, min_impurity_split=None,\n",
       "                       min_samples_leaf=1, min_samples_split=2,\n",
       "                       min_weight_fraction_leaf=0.0, n_estimators=100,\n",
       "                       n_jobs=None, oob_score=False, random_state=None,\n",
       "                       verbose=0, warm_start=False)"
      ]
     },
     "execution_count": 114,
     "metadata": {},
     "output_type": "execute_result"
    }
   ],
   "source": [
    "rfc_smot.fit(Xsmot_train, ysmot_train)"
   ]
  },
  {
   "cell_type": "code",
   "execution_count": 115,
   "metadata": {},
   "outputs": [],
   "source": [
    "pred_rfc_smot = rfc_smot.predict(X_test)\n",
    "proba_rfc_smot = rfc_smot.predict_proba(X_test)"
   ]
  },
  {
   "cell_type": "code",
   "execution_count": 116,
   "metadata": {},
   "outputs": [
    {
     "name": "stdout",
     "output_type": "stream",
     "text": [
      "SMOTE\n",
      "[[5785    0]\n",
      " [4222 4993]]\n",
      "\n",
      "No SMOTE\n",
      "[[5067  718]\n",
      " [1443 7772]]\n"
     ]
    }
   ],
   "source": [
    "print('SMOTE')\n",
    "print(confusion_matrix(y_test, pred_rfc_smot))\n",
    "print()\n",
    "print('No SMOTE')\n",
    "print(confusion_matrix(y_test, pred_rfc))"
   ]
  },
  {
   "cell_type": "code",
   "execution_count": 117,
   "metadata": {},
   "outputs": [
    {
     "name": "stdout",
     "output_type": "stream",
     "text": [
      "SMOTE\n",
      "              precision    recall  f1-score   support\n",
      "\n",
      "           0       0.58      1.00      0.73      5785\n",
      "           1       1.00      0.54      0.70      9215\n",
      "\n",
      "    accuracy                           0.72     15000\n",
      "   macro avg       0.79      0.77      0.72     15000\n",
      "weighted avg       0.84      0.72      0.71     15000\n",
      "\n",
      "\n",
      "No SMOTE\n",
      "              precision    recall  f1-score   support\n",
      "\n",
      "           0       0.78      0.88      0.82      5785\n",
      "           1       0.92      0.84      0.88      9215\n",
      "\n",
      "    accuracy                           0.86     15000\n",
      "   macro avg       0.85      0.86      0.85     15000\n",
      "weighted avg       0.86      0.86      0.86     15000\n",
      "\n"
     ]
    }
   ],
   "source": [
    "print('SMOTE')\n",
    "print(classification_report(y_test, pred_rfc_smot))\n",
    "print()\n",
    "print('No SMOTE')\n",
    "print(classification_report(y_test, pred_rfc))"
   ]
  },
  {
   "cell_type": "markdown",
   "metadata": {},
   "source": [
    "### Gradient Boosting Classifier - SMOTE"
   ]
  },
  {
   "cell_type": "code",
   "execution_count": 118,
   "metadata": {},
   "outputs": [],
   "source": [
    "gradient_smot = GradientBoostingClassifier()"
   ]
  },
  {
   "cell_type": "code",
   "execution_count": 119,
   "metadata": {},
   "outputs": [
    {
     "data": {
      "text/plain": [
       "GradientBoostingClassifier(ccp_alpha=0.0, criterion='friedman_mse', init=None,\n",
       "                           learning_rate=0.1, loss='deviance', max_depth=3,\n",
       "                           max_features=None, max_leaf_nodes=None,\n",
       "                           min_impurity_decrease=0.0, min_impurity_split=None,\n",
       "                           min_samples_leaf=1, min_samples_split=2,\n",
       "                           min_weight_fraction_leaf=0.0, n_estimators=100,\n",
       "                           n_iter_no_change=None, presort='deprecated',\n",
       "                           random_state=None, subsample=1.0, tol=0.0001,\n",
       "                           validation_fraction=0.1, verbose=0,\n",
       "                           warm_start=False)"
      ]
     },
     "execution_count": 119,
     "metadata": {},
     "output_type": "execute_result"
    }
   ],
   "source": [
    "gradient_smot.fit(Xsmot_train,ysmot_train)"
   ]
  },
  {
   "cell_type": "code",
   "execution_count": 120,
   "metadata": {},
   "outputs": [],
   "source": [
    "pred_gradient_smot = gradient_smot.predict(X_test)\n",
    "proba_gradient_smot = gradient_smot.predict_proba(X_test)"
   ]
  },
  {
   "cell_type": "code",
   "execution_count": 121,
   "metadata": {},
   "outputs": [
    {
     "name": "stdout",
     "output_type": "stream",
     "text": [
      "SMOTE\n",
      "[[5785    0]\n",
      " [2814 6401]]\n",
      "\n",
      "No SMOTE\n",
      "[[5192  593]\n",
      " [1577 7638]]\n"
     ]
    }
   ],
   "source": [
    "print('SMOTE')\n",
    "print(confusion_matrix(y_test, pred_gradient_smot))\n",
    "print()\n",
    "print('No SMOTE')\n",
    "print(confusion_matrix(y_test, pred_gradient))"
   ]
  },
  {
   "cell_type": "code",
   "execution_count": 122,
   "metadata": {},
   "outputs": [
    {
     "name": "stdout",
     "output_type": "stream",
     "text": [
      "SMOTE\n",
      "              precision    recall  f1-score   support\n",
      "\n",
      "           0       0.67      1.00      0.80      5785\n",
      "           1       1.00      0.69      0.82      9215\n",
      "\n",
      "    accuracy                           0.81     15000\n",
      "   macro avg       0.84      0.85      0.81     15000\n",
      "weighted avg       0.87      0.81      0.81     15000\n",
      "\n",
      "\n",
      "No SMOTE\n",
      "              precision    recall  f1-score   support\n",
      "\n",
      "           0       0.77      0.90      0.83      5785\n",
      "           1       0.93      0.83      0.88      9215\n",
      "\n",
      "    accuracy                           0.86     15000\n",
      "   macro avg       0.85      0.86      0.85     15000\n",
      "weighted avg       0.87      0.86      0.86     15000\n",
      "\n"
     ]
    }
   ],
   "source": [
    "print('SMOTE')\n",
    "print(classification_report(y_test, pred_gradient_smot))\n",
    "print()\n",
    "print('No SMOTE')\n",
    "print(classification_report(y_test, pred_gradient))"
   ]
  },
  {
   "cell_type": "markdown",
   "metadata": {},
   "source": [
    "### Logistic Regression - SMOTE"
   ]
  },
  {
   "cell_type": "code",
   "execution_count": 123,
   "metadata": {},
   "outputs": [],
   "source": [
    "logreg_smot = LogisticRegression()"
   ]
  },
  {
   "cell_type": "code",
   "execution_count": 124,
   "metadata": {},
   "outputs": [
    {
     "name": "stderr",
     "output_type": "stream",
     "text": [
      "C:\\Users\\Admin\\Anaconda3\\lib\\site-packages\\sklearn\\linear_model\\_logistic.py:940: ConvergenceWarning: lbfgs failed to converge (status=1):\n",
      "STOP: TOTAL NO. of ITERATIONS REACHED LIMIT.\n",
      "\n",
      "Increase the number of iterations (max_iter) or scale the data as shown in:\n",
      "    https://scikit-learn.org/stable/modules/preprocessing.html\n",
      "Please also refer to the documentation for alternative solver options:\n",
      "    https://scikit-learn.org/stable/modules/linear_model.html#logistic-regression\n",
      "  extra_warning_msg=_LOGISTIC_SOLVER_CONVERGENCE_MSG)\n"
     ]
    },
    {
     "data": {
      "text/plain": [
       "LogisticRegression(C=1.0, class_weight=None, dual=False, fit_intercept=True,\n",
       "                   intercept_scaling=1, l1_ratio=None, max_iter=100,\n",
       "                   multi_class='auto', n_jobs=None, penalty='l2',\n",
       "                   random_state=None, solver='lbfgs', tol=0.0001, verbose=0,\n",
       "                   warm_start=False)"
      ]
     },
     "execution_count": 124,
     "metadata": {},
     "output_type": "execute_result"
    }
   ],
   "source": [
    "logreg_smot.fit(Xsmot_train,ysmot_train)"
   ]
  },
  {
   "cell_type": "code",
   "execution_count": 125,
   "metadata": {},
   "outputs": [],
   "source": [
    "pred_logreg_smot = logreg_smot.predict(X_test)\n",
    "proba_logreg_smot = logreg_smot.predict_proba(X_test)"
   ]
  },
  {
   "cell_type": "code",
   "execution_count": 126,
   "metadata": {},
   "outputs": [
    {
     "name": "stdout",
     "output_type": "stream",
     "text": [
      "SMOTE\n",
      "[[   0 5785]\n",
      " [   0 9215]]\n",
      "\n",
      "No SMOTE\n",
      "[[5111  674]\n",
      " [1592 7623]]\n"
     ]
    }
   ],
   "source": [
    "print('SMOTE')\n",
    "print(confusion_matrix(y_test, pred_logreg_smot))\n",
    "print()\n",
    "print('No SMOTE')\n",
    "print(confusion_matrix(y_test, pred_logreg))"
   ]
  },
  {
   "cell_type": "code",
   "execution_count": 127,
   "metadata": {},
   "outputs": [
    {
     "name": "stderr",
     "output_type": "stream",
     "text": [
      "C:\\Users\\Admin\\Anaconda3\\lib\\site-packages\\sklearn\\metrics\\_classification.py:1272: UndefinedMetricWarning: Precision and F-score are ill-defined and being set to 0.0 in labels with no predicted samples. Use `zero_division` parameter to control this behavior.\n",
      "  _warn_prf(average, modifier, msg_start, len(result))\n"
     ]
    },
    {
     "name": "stdout",
     "output_type": "stream",
     "text": [
      "SMOTE\n",
      "              precision    recall  f1-score   support\n",
      "\n",
      "           0       0.00      0.00      0.00      5785\n",
      "           1       0.61      1.00      0.76      9215\n",
      "\n",
      "    accuracy                           0.61     15000\n",
      "   macro avg       0.31      0.50      0.38     15000\n",
      "weighted avg       0.38      0.61      0.47     15000\n",
      "\n",
      "\n",
      "No SMOTE\n",
      "              precision    recall  f1-score   support\n",
      "\n",
      "           0       0.76      0.88      0.82      5785\n",
      "           1       0.92      0.83      0.87      9215\n",
      "\n",
      "    accuracy                           0.85     15000\n",
      "   macro avg       0.84      0.86      0.84     15000\n",
      "weighted avg       0.86      0.85      0.85     15000\n",
      "\n"
     ]
    }
   ],
   "source": [
    "print('SMOTE')\n",
    "print(classification_report(y_test, pred_logreg_smot))\n",
    "print()\n",
    "print('No SMOTE')\n",
    "print(classification_report(y_test, pred_logreg))"
   ]
  },
  {
   "cell_type": "markdown",
   "metadata": {},
   "source": [
    "## Eval Metrics Summary (SMOTE vs No SMOTE)"
   ]
  },
  {
   "cell_type": "code",
   "execution_count": 128,
   "metadata": {},
   "outputs": [
    {
     "name": "stdout",
     "output_type": "stream",
     "text": [
      "[70.28, 81.98, 76.11]\n",
      "[100.0, 100.0, 61.43]\n",
      "[54.18, 69.46, 100.0]\n"
     ]
    }
   ],
   "source": [
    "# Summary SMOTE\n",
    "pred_model_smot = [pred_rfc_smot, pred_gradient_smot, pred_logreg_smot]\n",
    "f1_smot = []\n",
    "prec_smot = []\n",
    "rec_smot = []\n",
    "\n",
    "for mod_smot in pred_model_smot:\n",
    "    f1_smot.append(round(f1_score(y_test, mod_smot)*100,2))\n",
    "    prec_smot.append(round(precision_score(y_test, mod_smot)*100,2))\n",
    "    rec_smot.append(round(recall_score(y_test, mod_smot)*100,2))\n",
    "    \n",
    "print(f1_smot)\n",
    "print(prec_smot)\n",
    "print(rec_smot)"
   ]
  },
  {
   "cell_type": "code",
   "execution_count": 129,
   "metadata": {},
   "outputs": [
    {
     "data": {
      "text/html": [
       "<div>\n",
       "<style scoped>\n",
       "    .dataframe tbody tr th:only-of-type {\n",
       "        vertical-align: middle;\n",
       "    }\n",
       "\n",
       "    .dataframe tbody tr th {\n",
       "        vertical-align: top;\n",
       "    }\n",
       "\n",
       "    .dataframe thead th {\n",
       "        text-align: right;\n",
       "    }\n",
       "</style>\n",
       "<table border=\"1\" class=\"dataframe\">\n",
       "  <thead>\n",
       "    <tr style=\"text-align: right;\">\n",
       "      <th></th>\n",
       "      <th>f1_score</th>\n",
       "      <th>precision_score</th>\n",
       "      <th>recall_score</th>\n",
       "    </tr>\n",
       "  </thead>\n",
       "  <tbody>\n",
       "    <tr>\n",
       "      <th>rfc</th>\n",
       "      <td>70.28</td>\n",
       "      <td>100.00</td>\n",
       "      <td>54.18</td>\n",
       "    </tr>\n",
       "    <tr>\n",
       "      <th>gradient_boost</th>\n",
       "      <td>81.98</td>\n",
       "      <td>100.00</td>\n",
       "      <td>69.46</td>\n",
       "    </tr>\n",
       "    <tr>\n",
       "      <th>logistic_reg</th>\n",
       "      <td>76.11</td>\n",
       "      <td>61.43</td>\n",
       "      <td>100.00</td>\n",
       "    </tr>\n",
       "  </tbody>\n",
       "</table>\n",
       "</div>"
      ],
      "text/plain": [
       "                f1_score  precision_score  recall_score\n",
       "rfc                70.28           100.00         54.18\n",
       "gradient_boost     81.98           100.00         69.46\n",
       "logistic_reg       76.11            61.43        100.00"
      ]
     },
     "execution_count": 129,
     "metadata": {},
     "output_type": "execute_result"
    }
   ],
   "source": [
    "mtrc_smot_summary = pd.DataFrame([f1_smot,prec_smot,rec_smot], index=['f1_score', 'precision_score', 'recall_score'],\n",
    "                           columns=['rfc','gradient_boost','logistic_reg'])\n",
    "mtrc_smot_summary =mtrc_smot_summary.T\n",
    "mtrc_smot_summary"
   ]
  },
  {
   "cell_type": "code",
   "execution_count": 130,
   "metadata": {},
   "outputs": [],
   "source": [
    "mtrc_smot_summary = mtrc_smot_summary.reset_index()\n",
    "mtrc_smot_summary.rename(columns={'index':'model'},inplace=True)"
   ]
  },
  {
   "cell_type": "code",
   "execution_count": 131,
   "metadata": {},
   "outputs": [],
   "source": [
    "mtrc_smot_summary['smote'] = 'yes'"
   ]
  },
  {
   "cell_type": "code",
   "execution_count": 132,
   "metadata": {},
   "outputs": [
    {
     "data": {
      "text/html": [
       "<div>\n",
       "<style scoped>\n",
       "    .dataframe tbody tr th:only-of-type {\n",
       "        vertical-align: middle;\n",
       "    }\n",
       "\n",
       "    .dataframe tbody tr th {\n",
       "        vertical-align: top;\n",
       "    }\n",
       "\n",
       "    .dataframe thead th {\n",
       "        text-align: right;\n",
       "    }\n",
       "</style>\n",
       "<table border=\"1\" class=\"dataframe\">\n",
       "  <thead>\n",
       "    <tr style=\"text-align: right;\">\n",
       "      <th></th>\n",
       "      <th>model</th>\n",
       "      <th>f1_score</th>\n",
       "      <th>precision_score</th>\n",
       "      <th>recall_score</th>\n",
       "      <th>smote</th>\n",
       "    </tr>\n",
       "  </thead>\n",
       "  <tbody>\n",
       "    <tr>\n",
       "      <th>0</th>\n",
       "      <td>rfc</td>\n",
       "      <td>70.28</td>\n",
       "      <td>100.00</td>\n",
       "      <td>54.18</td>\n",
       "      <td>yes</td>\n",
       "    </tr>\n",
       "    <tr>\n",
       "      <th>1</th>\n",
       "      <td>gradient_boost</td>\n",
       "      <td>81.98</td>\n",
       "      <td>100.00</td>\n",
       "      <td>69.46</td>\n",
       "      <td>yes</td>\n",
       "    </tr>\n",
       "    <tr>\n",
       "      <th>2</th>\n",
       "      <td>logistic_reg</td>\n",
       "      <td>76.11</td>\n",
       "      <td>61.43</td>\n",
       "      <td>100.00</td>\n",
       "      <td>yes</td>\n",
       "    </tr>\n",
       "  </tbody>\n",
       "</table>\n",
       "</div>"
      ],
      "text/plain": [
       "            model  f1_score  precision_score  recall_score smote\n",
       "0             rfc     70.28           100.00         54.18   yes\n",
       "1  gradient_boost     81.98           100.00         69.46   yes\n",
       "2    logistic_reg     76.11            61.43        100.00   yes"
      ]
     },
     "execution_count": 132,
     "metadata": {},
     "output_type": "execute_result"
    }
   ],
   "source": [
    "mtrc_smot_summary"
   ]
  },
  {
   "cell_type": "code",
   "execution_count": 133,
   "metadata": {},
   "outputs": [],
   "source": [
    "model_not_smot = mtrc_summary.sort_values('f1_score',ascending=False).iloc[:3,:]\n",
    "model_not_smot = model_not_smot.reset_index()\n",
    "model_not_smot.rename(columns={'index':'model'},inplace=True)"
   ]
  },
  {
   "cell_type": "code",
   "execution_count": 134,
   "metadata": {},
   "outputs": [],
   "source": [
    "model_not_smot['smote'] = 'no'"
   ]
  },
  {
   "cell_type": "code",
   "execution_count": 135,
   "metadata": {},
   "outputs": [
    {
     "data": {
      "text/html": [
       "<div>\n",
       "<style scoped>\n",
       "    .dataframe tbody tr th:only-of-type {\n",
       "        vertical-align: middle;\n",
       "    }\n",
       "\n",
       "    .dataframe tbody tr th {\n",
       "        vertical-align: top;\n",
       "    }\n",
       "\n",
       "    .dataframe thead th {\n",
       "        text-align: right;\n",
       "    }\n",
       "</style>\n",
       "<table border=\"1\" class=\"dataframe\">\n",
       "  <thead>\n",
       "    <tr style=\"text-align: right;\">\n",
       "      <th></th>\n",
       "      <th>model</th>\n",
       "      <th>f1_score</th>\n",
       "      <th>precision_score</th>\n",
       "      <th>recall_score</th>\n",
       "      <th>smote</th>\n",
       "    </tr>\n",
       "  </thead>\n",
       "  <tbody>\n",
       "    <tr>\n",
       "      <th>0</th>\n",
       "      <td>rfc</td>\n",
       "      <td>87.79</td>\n",
       "      <td>91.54</td>\n",
       "      <td>84.34</td>\n",
       "      <td>no</td>\n",
       "    </tr>\n",
       "    <tr>\n",
       "      <th>1</th>\n",
       "      <td>gradient_boost</td>\n",
       "      <td>87.56</td>\n",
       "      <td>92.80</td>\n",
       "      <td>82.89</td>\n",
       "      <td>no</td>\n",
       "    </tr>\n",
       "    <tr>\n",
       "      <th>2</th>\n",
       "      <td>logistic_reg</td>\n",
       "      <td>87.06</td>\n",
       "      <td>91.88</td>\n",
       "      <td>82.72</td>\n",
       "      <td>no</td>\n",
       "    </tr>\n",
       "  </tbody>\n",
       "</table>\n",
       "</div>"
      ],
      "text/plain": [
       "            model  f1_score  precision_score  recall_score smote\n",
       "0             rfc     87.79            91.54         84.34    no\n",
       "1  gradient_boost     87.56            92.80         82.89    no\n",
       "2    logistic_reg     87.06            91.88         82.72    no"
      ]
     },
     "execution_count": 135,
     "metadata": {},
     "output_type": "execute_result"
    }
   ],
   "source": [
    "model_not_smot"
   ]
  },
  {
   "cell_type": "code",
   "execution_count": 136,
   "metadata": {},
   "outputs": [],
   "source": [
    "# Concat to see Comparasion\n",
    "eval_all_smot = pd.concat([model_not_smot,mtrc_smot_summary],axis=0)\n",
    "eval_all_smot = eval_all_smot.reset_index()\n",
    "eval_all_smot.drop('index',axis=1, inplace=True)"
   ]
  },
  {
   "cell_type": "code",
   "execution_count": 137,
   "metadata": {},
   "outputs": [
    {
     "data": {
      "text/html": [
       "<div>\n",
       "<style scoped>\n",
       "    .dataframe tbody tr th:only-of-type {\n",
       "        vertical-align: middle;\n",
       "    }\n",
       "\n",
       "    .dataframe tbody tr th {\n",
       "        vertical-align: top;\n",
       "    }\n",
       "\n",
       "    .dataframe thead th {\n",
       "        text-align: right;\n",
       "    }\n",
       "</style>\n",
       "<table border=\"1\" class=\"dataframe\">\n",
       "  <thead>\n",
       "    <tr style=\"text-align: right;\">\n",
       "      <th></th>\n",
       "      <th>model</th>\n",
       "      <th>f1_score</th>\n",
       "      <th>precision_score</th>\n",
       "      <th>recall_score</th>\n",
       "      <th>smote</th>\n",
       "    </tr>\n",
       "  </thead>\n",
       "  <tbody>\n",
       "    <tr>\n",
       "      <th>0</th>\n",
       "      <td>rfc</td>\n",
       "      <td>87.79</td>\n",
       "      <td>91.54</td>\n",
       "      <td>84.34</td>\n",
       "      <td>no</td>\n",
       "    </tr>\n",
       "    <tr>\n",
       "      <th>1</th>\n",
       "      <td>gradient_boost</td>\n",
       "      <td>87.56</td>\n",
       "      <td>92.80</td>\n",
       "      <td>82.89</td>\n",
       "      <td>no</td>\n",
       "    </tr>\n",
       "    <tr>\n",
       "      <th>2</th>\n",
       "      <td>logistic_reg</td>\n",
       "      <td>87.06</td>\n",
       "      <td>91.88</td>\n",
       "      <td>82.72</td>\n",
       "      <td>no</td>\n",
       "    </tr>\n",
       "    <tr>\n",
       "      <th>3</th>\n",
       "      <td>rfc</td>\n",
       "      <td>70.28</td>\n",
       "      <td>100.00</td>\n",
       "      <td>54.18</td>\n",
       "      <td>yes</td>\n",
       "    </tr>\n",
       "    <tr>\n",
       "      <th>4</th>\n",
       "      <td>gradient_boost</td>\n",
       "      <td>81.98</td>\n",
       "      <td>100.00</td>\n",
       "      <td>69.46</td>\n",
       "      <td>yes</td>\n",
       "    </tr>\n",
       "    <tr>\n",
       "      <th>5</th>\n",
       "      <td>logistic_reg</td>\n",
       "      <td>76.11</td>\n",
       "      <td>61.43</td>\n",
       "      <td>100.00</td>\n",
       "      <td>yes</td>\n",
       "    </tr>\n",
       "  </tbody>\n",
       "</table>\n",
       "</div>"
      ],
      "text/plain": [
       "            model  f1_score  precision_score  recall_score smote\n",
       "0             rfc     87.79            91.54         84.34    no\n",
       "1  gradient_boost     87.56            92.80         82.89    no\n",
       "2    logistic_reg     87.06            91.88         82.72    no\n",
       "3             rfc     70.28           100.00         54.18   yes\n",
       "4  gradient_boost     81.98           100.00         69.46   yes\n",
       "5    logistic_reg     76.11            61.43        100.00   yes"
      ]
     },
     "execution_count": 137,
     "metadata": {},
     "output_type": "execute_result"
    }
   ],
   "source": [
    "eval_all_smot"
   ]
  },
  {
   "cell_type": "code",
   "execution_count": 138,
   "metadata": {},
   "outputs": [
    {
     "data": {
      "text/html": [
       "<div>\n",
       "<style scoped>\n",
       "    .dataframe tbody tr th:only-of-type {\n",
       "        vertical-align: middle;\n",
       "    }\n",
       "\n",
       "    .dataframe tbody tr th {\n",
       "        vertical-align: top;\n",
       "    }\n",
       "\n",
       "    .dataframe thead th {\n",
       "        text-align: right;\n",
       "    }\n",
       "</style>\n",
       "<table border=\"1\" class=\"dataframe\">\n",
       "  <thead>\n",
       "    <tr style=\"text-align: right;\">\n",
       "      <th></th>\n",
       "      <th></th>\n",
       "      <th>f1_score</th>\n",
       "      <th>precision_score</th>\n",
       "      <th>recall_score</th>\n",
       "    </tr>\n",
       "    <tr>\n",
       "      <th>smote</th>\n",
       "      <th>model</th>\n",
       "      <th></th>\n",
       "      <th></th>\n",
       "      <th></th>\n",
       "    </tr>\n",
       "  </thead>\n",
       "  <tbody>\n",
       "    <tr>\n",
       "      <th rowspan=\"3\" valign=\"top\">no</th>\n",
       "      <th>gradient_boost</th>\n",
       "      <td>87.56</td>\n",
       "      <td>92.80</td>\n",
       "      <td>82.89</td>\n",
       "    </tr>\n",
       "    <tr>\n",
       "      <th>logistic_reg</th>\n",
       "      <td>87.06</td>\n",
       "      <td>91.88</td>\n",
       "      <td>82.72</td>\n",
       "    </tr>\n",
       "    <tr>\n",
       "      <th>rfc</th>\n",
       "      <td>87.79</td>\n",
       "      <td>91.54</td>\n",
       "      <td>84.34</td>\n",
       "    </tr>\n",
       "    <tr>\n",
       "      <th rowspan=\"3\" valign=\"top\">yes</th>\n",
       "      <th>gradient_boost</th>\n",
       "      <td>81.98</td>\n",
       "      <td>100.00</td>\n",
       "      <td>69.46</td>\n",
       "    </tr>\n",
       "    <tr>\n",
       "      <th>logistic_reg</th>\n",
       "      <td>76.11</td>\n",
       "      <td>61.43</td>\n",
       "      <td>100.00</td>\n",
       "    </tr>\n",
       "    <tr>\n",
       "      <th>rfc</th>\n",
       "      <td>70.28</td>\n",
       "      <td>100.00</td>\n",
       "      <td>54.18</td>\n",
       "    </tr>\n",
       "  </tbody>\n",
       "</table>\n",
       "</div>"
      ],
      "text/plain": [
       "                      f1_score  precision_score  recall_score\n",
       "smote model                                                  \n",
       "no    gradient_boost     87.56            92.80         82.89\n",
       "      logistic_reg       87.06            91.88         82.72\n",
       "      rfc                87.79            91.54         84.34\n",
       "yes   gradient_boost     81.98           100.00         69.46\n",
       "      logistic_reg       76.11            61.43        100.00\n",
       "      rfc                70.28           100.00         54.18"
      ]
     },
     "execution_count": 138,
     "metadata": {},
     "output_type": "execute_result"
    }
   ],
   "source": [
    "by_smot = eval_all_smot.groupby(['smote','model']).sum()\n",
    "by_smot"
   ]
  },
  {
   "cell_type": "code",
   "execution_count": 139,
   "metadata": {},
   "outputs": [
    {
     "data": {
      "text/plain": [
       "<matplotlib.legend.Legend at 0x2570c5b7688>"
      ]
     },
     "execution_count": 139,
     "metadata": {},
     "output_type": "execute_result"
    },
    {
     "data": {
      "image/png": "[encoded data removed]",
      "text/plain": [
       "<Figure size 576x432 with 1 Axes>"
      ]
     },
     "metadata": {
      "needs_background": "light"
     },
     "output_type": "display_data"
    }
   ],
   "source": [
    "plt.figure(figsize=(8,6))\n",
    "\n",
    "\n",
    "plt.title('F1 Score')\n",
    "sns.barplot('model', 'f1_score', hue='smote', data=eval_all_smot)\n",
    "plt.legend(loc='lower right')"
   ]
  },
  {
   "cell_type": "markdown",
   "metadata": {},
   "source": [
    "Setelah dilakakukan SMOTE. ternyata skorny F1 SMOTE mengalami penurunan jika dibanding dengan tidak di SMOTE. Random Forest Non SMOTE punya f1 score terbaik, yaitu 87.81\n",
    "#### Kesimpulannya untuk Proses tahap selanjutnya tidak perlu menggunakan SMOTE"
   ]
  },
  {
   "cell_type": "markdown",
   "metadata": {},
   "source": [
    "## Hyperparameter Tuning - RandomizedSearchCV"
   ]
  },
  {
   "cell_type": "markdown",
   "metadata": {},
   "source": [
    "For Hyper Parameter Tuning we'll use training set data (without standardized & SMOTE) instead of using scaled_data & SMOTE. coz eval metrics for data (without standardized) shows better result compared to scaled_data & SMOTE"
   ]
  },
  {
   "cell_type": "markdown",
   "metadata": {},
   "source": [
    "### Random Forest Classifier - Tuning"
   ]
  },
  {
   "cell_type": "code",
   "execution_count": 140,
   "metadata": {},
   "outputs": [
    {
     "data": {
      "text/plain": [
       "RandomForestClassifier(bootstrap=True, ccp_alpha=0.0, class_weight=None,\n",
       "                       criterion='gini', max_depth=None, max_features='auto',\n",
       "                       max_leaf_nodes=None, max_samples=None,\n",
       "                       min_impurity_decrease=0.0, min_impurity_split=None,\n",
       "                       min_samples_leaf=1, min_samples_split=2,\n",
       "                       min_weight_fraction_leaf=0.0, n_estimators=100,\n",
       "                       n_jobs=None, oob_score=False, random_state=None,\n",
       "                       verbose=0, warm_start=False)"
      ]
     },
     "execution_count": 140,
     "metadata": {},
     "output_type": "execute_result"
    }
   ],
   "source": [
    "rfc_cv = RandomForestClassifier()\n",
    "rfc_cv"
   ]
  },
  {
   "cell_type": "code",
   "execution_count": 141,
   "metadata": {},
   "outputs": [],
   "source": [
    "param_rfc_cv = {\n",
    "    'bootstrap': [True, False],\n",
    "    'criterion' : ['gini', 'entropy'],\n",
    "    'max_depth' : [int(x) for x in np.arange(10,120,20)],\n",
    "    'min_samples_split' : [int(x) for x in np.arange(2,32,2)],\n",
    "    'n_estimators' : [int(x) for x in np.linspace(start=100, stop=1000, num=10)]\n",
    "}\n",
    "\n",
    "rfc_cv_random = RandomizedSearchCV(estimator= rfc_cv,\n",
    "                              param_distributions= param_rfc_cv,\n",
    "                              n_iter=10, cv=5, n_jobs=-1, scoring='f1')"
   ]
  },
  {
   "cell_type": "code",
   "execution_count": 142,
   "metadata": {},
   "outputs": [
    {
     "data": {
      "text/plain": [
       "RandomizedSearchCV(cv=5, error_score=nan,\n",
       "                   estimator=RandomForestClassifier(bootstrap=True,\n",
       "                                                    ccp_alpha=0.0,\n",
       "                                                    class_weight=None,\n",
       "                                                    criterion='gini',\n",
       "                                                    max_depth=None,\n",
       "                                                    max_features='auto',\n",
       "                                                    max_leaf_nodes=None,\n",
       "                                                    max_samples=None,\n",
       "                                                    min_impurity_decrease=0.0,\n",
       "                                                    min_impurity_split=None,\n",
       "                                                    min_samples_leaf=1,\n",
       "                                                    min_samples_split=2,\n",
       "                                                    min_weight_fraction_leaf=0.0,\n",
       "                                                    n_estimators=100,\n",
       "                                                    n_jobs...\n",
       "                   iid='deprecated', n_iter=10, n_jobs=-1,\n",
       "                   param_distributions={'bootstrap': [True, False],\n",
       "                                        'criterion': ['gini', 'entropy'],\n",
       "                                        'max_depth': [10, 30, 50, 70, 90, 110],\n",
       "                                        'min_samples_split': [2, 4, 6, 8, 10,\n",
       "                                                              12, 14, 16, 18,\n",
       "                                                              20, 22, 24, 26,\n",
       "                                                              28, 30],\n",
       "                                        'n_estimators': [100, 200, 300, 400,\n",
       "                                                         500, 600, 700, 800,\n",
       "                                                         900, 1000]},\n",
       "                   pre_dispatch='2*n_jobs', random_state=None, refit=True,\n",
       "                   return_train_score=False, scoring='f1', verbose=0)"
      ]
     },
     "execution_count": 142,
     "metadata": {},
     "output_type": "execute_result"
    }
   ],
   "source": [
    "rfc_cv_random.fit(X_train, y_train)"
   ]
  },
  {
   "cell_type": "code",
   "execution_count": 143,
   "metadata": {},
   "outputs": [
    {
     "data": {
      "text/plain": [
       "{'n_estimators': 600,\n",
       " 'min_samples_split': 10,\n",
       " 'max_depth': 110,\n",
       " 'criterion': 'entropy',\n",
       " 'bootstrap': True}"
      ]
     },
     "execution_count": 143,
     "metadata": {},
     "output_type": "execute_result"
    }
   ],
   "source": [
    "rfc_cv_random.best_params_"
   ]
  },
  {
   "cell_type": "code",
   "execution_count": 144,
   "metadata": {},
   "outputs": [
    {
     "data": {
      "text/plain": [
       "0.9495142857142858"
      ]
     },
     "execution_count": 144,
     "metadata": {},
     "output_type": "execute_result"
    }
   ],
   "source": [
    "rfc_cv_random.best_estimator_.score(X_train, y_train)"
   ]
  },
  {
   "cell_type": "code",
   "execution_count": 145,
   "metadata": {},
   "outputs": [
    {
     "data": {
      "text/plain": [
       "RandomForestClassifier(bootstrap=True, ccp_alpha=0.0, class_weight=None,\n",
       "                       criterion='entropy', max_depth=110, max_features='auto',\n",
       "                       max_leaf_nodes=None, max_samples=None,\n",
       "                       min_impurity_decrease=0.0, min_impurity_split=None,\n",
       "                       min_samples_leaf=1, min_samples_split=10,\n",
       "                       min_weight_fraction_leaf=0.0, n_estimators=600,\n",
       "                       n_jobs=None, oob_score=False, random_state=None,\n",
       "                       verbose=0, warm_start=False)"
      ]
     },
     "execution_count": 145,
     "metadata": {},
     "output_type": "execute_result"
    }
   ],
   "source": [
    "rfc_cv_rand = rfc_cv_random.best_estimator_\n",
    "rfc_cv_rand"
   ]
  },
  {
   "cell_type": "code",
   "execution_count": 146,
   "metadata": {},
   "outputs": [],
   "source": [
    "pred_rfc_cv = rfc_cv_rand.predict(X_test)\n",
    "proba_rfc_cv = rfc_cv_rand.predict_proba(X_test)"
   ]
  },
  {
   "cell_type": "code",
   "execution_count": 147,
   "metadata": {},
   "outputs": [
    {
     "name": "stdout",
     "output_type": "stream",
     "text": [
      "Tuning\n",
      "[[5126  659]\n",
      " [1429 7786]]\n",
      "\n",
      "No Tuning\n",
      "[[5067  718]\n",
      " [1443 7772]]\n"
     ]
    }
   ],
   "source": [
    "print('Tuning')\n",
    "print(confusion_matrix(y_test, pred_rfc_cv))\n",
    "print()\n",
    "print('No Tuning')\n",
    "print(confusion_matrix(y_test, pred_rfc))"
   ]
  },
  {
   "cell_type": "code",
   "execution_count": 148,
   "metadata": {},
   "outputs": [
    {
     "name": "stdout",
     "output_type": "stream",
     "text": [
      "Tuning\n",
      "              precision    recall  f1-score   support\n",
      "\n",
      "           0       0.78      0.89      0.83      5785\n",
      "           1       0.92      0.84      0.88      9215\n",
      "\n",
      "    accuracy                           0.86     15000\n",
      "   macro avg       0.85      0.87      0.86     15000\n",
      "weighted avg       0.87      0.86      0.86     15000\n",
      "\n",
      "\n",
      "No Tuning\n",
      "              precision    recall  f1-score   support\n",
      "\n",
      "           0       0.78      0.88      0.82      5785\n",
      "           1       0.92      0.84      0.88      9215\n",
      "\n",
      "    accuracy                           0.86     15000\n",
      "   macro avg       0.85      0.86      0.85     15000\n",
      "weighted avg       0.86      0.86      0.86     15000\n",
      "\n"
     ]
    }
   ],
   "source": [
    "print('Tuning')\n",
    "print(classification_report(y_test, pred_rfc_cv))\n",
    "print()\n",
    "print('No Tuning')\n",
    "print(classification_report(y_test, pred_rfc))"
   ]
  },
  {
   "cell_type": "code",
   "execution_count": null,
   "metadata": {},
   "outputs": [],
   "source": []
  },
  {
   "cell_type": "markdown",
   "metadata": {},
   "source": [
    "### Gradient Boosting Classifier - Tuning"
   ]
  },
  {
   "cell_type": "code",
   "execution_count": 149,
   "metadata": {},
   "outputs": [
    {
     "data": {
      "text/plain": [
       "GradientBoostingClassifier(ccp_alpha=0.0, criterion='friedman_mse', init=None,\n",
       "                           learning_rate=0.1, loss='deviance', max_depth=3,\n",
       "                           max_features=None, max_leaf_nodes=None,\n",
       "                           min_impurity_decrease=0.0, min_impurity_split=None,\n",
       "                           min_samples_leaf=1, min_samples_split=2,\n",
       "                           min_weight_fraction_leaf=0.0, n_estimators=100,\n",
       "                           n_iter_no_change=None, presort='deprecated',\n",
       "                           random_state=None, subsample=1.0, tol=0.0001,\n",
       "                           validation_fraction=0.1, verbose=0,\n",
       "                           warm_start=False)"
      ]
     },
     "execution_count": 149,
     "metadata": {},
     "output_type": "execute_result"
    }
   ],
   "source": [
    "gradient_cv = GradientBoostingClassifier()\n",
    "gradient_cv"
   ]
  },
  {
   "cell_type": "code",
   "execution_count": 150,
   "metadata": {},
   "outputs": [],
   "source": [
    "param_gradient_cv = {\n",
    "    'learning_rate': [1, 0.5, 0.25, 0.1, 0.05, 0.01],\n",
    "    'n_estimators' : [1, 2, 4, 8, 16, 32, 64, 100, 200],\n",
    "    'max_depth' : [int(x) for x in np.arange(10,120,20)],\n",
    "    'min_samples_split' : [int(x) for x in np.arange(2,32,2)]    \n",
    "}\n",
    "\n",
    "gradient_cv_random = RandomizedSearchCV(estimator= gradient_cv,\n",
    "                              param_distributions= param_gradient_cv,\n",
    "                              n_iter=10, cv=5, n_jobs=-1, scoring='f1')"
   ]
  },
  {
   "cell_type": "code",
   "execution_count": 151,
   "metadata": {},
   "outputs": [
    {
     "data": {
      "text/plain": [
       "RandomizedSearchCV(cv=5, error_score=nan,\n",
       "                   estimator=GradientBoostingClassifier(ccp_alpha=0.0,\n",
       "                                                        criterion='friedman_mse',\n",
       "                                                        init=None,\n",
       "                                                        learning_rate=0.1,\n",
       "                                                        loss='deviance',\n",
       "                                                        max_depth=3,\n",
       "                                                        max_features=None,\n",
       "                                                        max_leaf_nodes=None,\n",
       "                                                        min_impurity_decrease=0.0,\n",
       "                                                        min_impurity_split=None,\n",
       "                                                        min_samples_leaf=1,\n",
       "                                                        min_samples_split=2,\n",
       "                                                        min_weight_fraction_leaf=0.0,\n",
       "                                                        n_estimators=100,\n",
       "                                                        n_ite...\n",
       "                                                        warm_start=False),\n",
       "                   iid='deprecated', n_iter=10, n_jobs=-1,\n",
       "                   param_distributions={'learning_rate': [1, 0.5, 0.25, 0.1,\n",
       "                                                          0.05, 0.01],\n",
       "                                        'max_depth': [10, 30, 50, 70, 90, 110],\n",
       "                                        'min_samples_split': [2, 4, 6, 8, 10,\n",
       "                                                              12, 14, 16, 18,\n",
       "                                                              20, 22, 24, 26,\n",
       "                                                              28, 30],\n",
       "                                        'n_estimators': [1, 2, 4, 8, 16, 32, 64,\n",
       "                                                         100, 200]},\n",
       "                   pre_dispatch='2*n_jobs', random_state=None, refit=True,\n",
       "                   return_train_score=False, scoring='f1', verbose=0)"
      ]
     },
     "execution_count": 151,
     "metadata": {},
     "output_type": "execute_result"
    }
   ],
   "source": [
    "gradient_cv_random.fit(X_train, y_train)"
   ]
  },
  {
   "cell_type": "code",
   "execution_count": 152,
   "metadata": {},
   "outputs": [
    {
     "data": {
      "text/plain": [
       "{'n_estimators': 64,\n",
       " 'min_samples_split': 20,\n",
       " 'max_depth': 10,\n",
       " 'learning_rate': 0.05}"
      ]
     },
     "execution_count": 152,
     "metadata": {},
     "output_type": "execute_result"
    }
   ],
   "source": [
    "gradient_cv_random.best_params_"
   ]
  },
  {
   "cell_type": "code",
   "execution_count": 153,
   "metadata": {},
   "outputs": [
    {
     "data": {
      "text/plain": [
       "0.8853142857142857"
      ]
     },
     "execution_count": 153,
     "metadata": {},
     "output_type": "execute_result"
    }
   ],
   "source": [
    "gradient_cv_random.best_estimator_.score(X_train, y_train)"
   ]
  },
  {
   "cell_type": "code",
   "execution_count": 154,
   "metadata": {},
   "outputs": [
    {
     "data": {
      "text/plain": [
       "GradientBoostingClassifier(ccp_alpha=0.0, criterion='friedman_mse', init=None,\n",
       "                           learning_rate=0.05, loss='deviance', max_depth=10,\n",
       "                           max_features=None, max_leaf_nodes=None,\n",
       "                           min_impurity_decrease=0.0, min_impurity_split=None,\n",
       "                           min_samples_leaf=1, min_samples_split=20,\n",
       "                           min_weight_fraction_leaf=0.0, n_estimators=64,\n",
       "                           n_iter_no_change=None, presort='deprecated',\n",
       "                           random_state=None, subsample=1.0, tol=0.0001,\n",
       "                           validation_fraction=0.1, verbose=0,\n",
       "                           warm_start=False)"
      ]
     },
     "execution_count": 154,
     "metadata": {},
     "output_type": "execute_result"
    }
   ],
   "source": [
    "gradient_cv_rand = gradient_cv_random.best_estimator_\n",
    "gradient_cv_rand"
   ]
  },
  {
   "cell_type": "code",
   "execution_count": 155,
   "metadata": {},
   "outputs": [],
   "source": [
    "pred_gradient_cv = gradient_cv_rand.predict(X_test)\n",
    "proba_gradient_cv = gradient_cv_rand.predict_proba(X_test)"
   ]
  },
  {
   "cell_type": "code",
   "execution_count": 156,
   "metadata": {},
   "outputs": [
    {
     "name": "stdout",
     "output_type": "stream",
     "text": [
      "Tuning\n",
      "[[5145  640]\n",
      " [1456 7759]]\n",
      "\n",
      "No Tuning\n",
      "[[5192  593]\n",
      " [1577 7638]]\n"
     ]
    }
   ],
   "source": [
    "print('Tuning')\n",
    "print(confusion_matrix(y_test, pred_gradient_cv))\n",
    "print()\n",
    "print('No Tuning')\n",
    "print(confusion_matrix(y_test, pred_gradient))"
   ]
  },
  {
   "cell_type": "code",
   "execution_count": 157,
   "metadata": {},
   "outputs": [
    {
     "name": "stdout",
     "output_type": "stream",
     "text": [
      "Tuning\n",
      "              precision    recall  f1-score   support\n",
      "\n",
      "           0       0.78      0.89      0.83      5785\n",
      "           1       0.92      0.84      0.88      9215\n",
      "\n",
      "    accuracy                           0.86     15000\n",
      "   macro avg       0.85      0.87      0.86     15000\n",
      "weighted avg       0.87      0.86      0.86     15000\n",
      "\n",
      "\n",
      "No Tuning\n",
      "              precision    recall  f1-score   support\n",
      "\n",
      "           0       0.78      0.89      0.83      5785\n",
      "           1       0.92      0.84      0.88      9215\n",
      "\n",
      "    accuracy                           0.86     15000\n",
      "   macro avg       0.85      0.87      0.86     15000\n",
      "weighted avg       0.87      0.86      0.86     15000\n",
      "\n"
     ]
    }
   ],
   "source": [
    "print('Tuning')\n",
    "print(classification_report(y_test, pred_gradient_cv))\n",
    "print()\n",
    "print('No Tuning')\n",
    "print(classification_report(y_test, pred_gradient_cv))"
   ]
  },
  {
   "cell_type": "code",
   "execution_count": null,
   "metadata": {},
   "outputs": [],
   "source": []
  },
  {
   "cell_type": "markdown",
   "metadata": {},
   "source": [
    "### Logistic Regression - Tuning"
   ]
  },
  {
   "cell_type": "code",
   "execution_count": 158,
   "metadata": {},
   "outputs": [
    {
     "data": {
      "text/plain": [
       "LogisticRegression(C=1.0, class_weight=None, dual=False, fit_intercept=True,\n",
       "                   intercept_scaling=1, l1_ratio=None, max_iter=100,\n",
       "                   multi_class='auto', n_jobs=None, penalty='l2',\n",
       "                   random_state=None, solver='lbfgs', tol=0.0001, verbose=0,\n",
       "                   warm_start=False)"
      ]
     },
     "execution_count": 158,
     "metadata": {},
     "output_type": "execute_result"
    }
   ],
   "source": [
    "logreg_cv = LogisticRegression()\n",
    "logreg_cv"
   ]
  },
  {
   "cell_type": "code",
   "execution_count": 159,
   "metadata": {},
   "outputs": [],
   "source": [
    "param_logreg_cv = {\n",
    "    'C': [0.1, 0.5, 0.9, 1, 2, 5],\n",
    "    'penalty':['l1','l2']\n",
    "} \n",
    "\n",
    "logreg_cv_random = RandomizedSearchCV(estimator= logreg_cv,\n",
    "                              param_distributions= param_logreg_cv,\n",
    "                              n_iter=10, cv=5, n_jobs=-1, scoring='f1')"
   ]
  },
  {
   "cell_type": "code",
   "execution_count": 160,
   "metadata": {},
   "outputs": [
    {
     "name": "stderr",
     "output_type": "stream",
     "text": [
      "C:\\Users\\Admin\\Anaconda3\\lib\\site-packages\\sklearn\\linear_model\\_logistic.py:940: ConvergenceWarning: lbfgs failed to converge (status=1):\n",
      "STOP: TOTAL NO. of ITERATIONS REACHED LIMIT.\n",
      "\n",
      "Increase the number of iterations (max_iter) or scale the data as shown in:\n",
      "    https://scikit-learn.org/stable/modules/preprocessing.html\n",
      "Please also refer to the documentation for alternative solver options:\n",
      "    https://scikit-learn.org/stable/modules/linear_model.html#logistic-regression\n",
      "  extra_warning_msg=_LOGISTIC_SOLVER_CONVERGENCE_MSG)\n"
     ]
    },
    {
     "data": {
      "text/plain": [
       "RandomizedSearchCV(cv=5, error_score=nan,\n",
       "                   estimator=LogisticRegression(C=1.0, class_weight=None,\n",
       "                                                dual=False, fit_intercept=True,\n",
       "                                                intercept_scaling=1,\n",
       "                                                l1_ratio=None, max_iter=100,\n",
       "                                                multi_class='auto', n_jobs=None,\n",
       "                                                penalty='l2', random_state=None,\n",
       "                                                solver='lbfgs', tol=0.0001,\n",
       "                                                verbose=0, warm_start=False),\n",
       "                   iid='deprecated', n_iter=10, n_jobs=-1,\n",
       "                   param_distributions={'C': [0.1, 0.5, 0.9, 1, 2, 5],\n",
       "                                        'penalty': ['l1', 'l2']},\n",
       "                   pre_dispatch='2*n_jobs', random_state=None, refit=True,\n",
       "                   return_train_score=False, scoring='f1', verbose=0)"
      ]
     },
     "execution_count": 160,
     "metadata": {},
     "output_type": "execute_result"
    }
   ],
   "source": [
    "logreg_cv_random.fit(X_train, y_train)"
   ]
  },
  {
   "cell_type": "code",
   "execution_count": 161,
   "metadata": {},
   "outputs": [
    {
     "data": {
      "text/plain": [
       "{'penalty': 'l2', 'C': 2}"
      ]
     },
     "execution_count": 161,
     "metadata": {},
     "output_type": "execute_result"
    }
   ],
   "source": [
    "logreg_cv_random.best_params_"
   ]
  },
  {
   "cell_type": "code",
   "execution_count": 162,
   "metadata": {},
   "outputs": [
    {
     "data": {
      "text/plain": [
       "0.8438857142857142"
      ]
     },
     "execution_count": 162,
     "metadata": {},
     "output_type": "execute_result"
    }
   ],
   "source": [
    "logreg_cv_random.best_estimator_.score(X_train, y_train)"
   ]
  },
  {
   "cell_type": "code",
   "execution_count": 163,
   "metadata": {},
   "outputs": [
    {
     "data": {
      "text/plain": [
       "LogisticRegression(C=2, class_weight=None, dual=False, fit_intercept=True,\n",
       "                   intercept_scaling=1, l1_ratio=None, max_iter=100,\n",
       "                   multi_class='auto', n_jobs=None, penalty='l2',\n",
       "                   random_state=None, solver='lbfgs', tol=0.0001, verbose=0,\n",
       "                   warm_start=False)"
      ]
     },
     "execution_count": 163,
     "metadata": {},
     "output_type": "execute_result"
    }
   ],
   "source": [
    "logreg_cv_rand = logreg_cv_random.best_estimator_\n",
    "logreg_cv_rand"
   ]
  },
  {
   "cell_type": "code",
   "execution_count": 164,
   "metadata": {},
   "outputs": [],
   "source": [
    "pred_logreg_cv = logreg_cv_rand.predict(X_test)\n",
    "proba_logreg_cv = logreg_cv_rand.predict_proba(X_test)"
   ]
  },
  {
   "cell_type": "code",
   "execution_count": 165,
   "metadata": {},
   "outputs": [
    {
     "name": "stdout",
     "output_type": "stream",
     "text": [
      "Tuning\n",
      "[[5024  761]\n",
      " [1555 7660]]\n",
      "\n",
      "No Tuning\n",
      "[[5111  674]\n",
      " [1592 7623]]\n"
     ]
    }
   ],
   "source": [
    "print('Tuning')\n",
    "print(confusion_matrix(y_test, pred_logreg_cv))\n",
    "print()\n",
    "print('No Tuning')\n",
    "print(confusion_matrix(y_test, pred_logreg))"
   ]
  },
  {
   "cell_type": "code",
   "execution_count": 166,
   "metadata": {},
   "outputs": [
    {
     "name": "stdout",
     "output_type": "stream",
     "text": [
      "Tuning\n",
      "              precision    recall  f1-score   support\n",
      "\n",
      "           0       0.76      0.87      0.81      5785\n",
      "           1       0.91      0.83      0.87      9215\n",
      "\n",
      "    accuracy                           0.85     15000\n",
      "   macro avg       0.84      0.85      0.84     15000\n",
      "weighted avg       0.85      0.85      0.85     15000\n",
      "\n",
      "\n",
      "No Tuning\n",
      "              precision    recall  f1-score   support\n",
      "\n",
      "           0       0.76      0.87      0.81      5785\n",
      "           1       0.91      0.83      0.87      9215\n",
      "\n",
      "    accuracy                           0.85     15000\n",
      "   macro avg       0.84      0.85      0.84     15000\n",
      "weighted avg       0.85      0.85      0.85     15000\n",
      "\n"
     ]
    }
   ],
   "source": [
    "print('Tuning')\n",
    "print(classification_report(y_test, pred_logreg_cv))\n",
    "print()\n",
    "print('No Tuning')\n",
    "print(classification_report(y_test, pred_logreg_cv))"
   ]
  },
  {
   "cell_type": "code",
   "execution_count": 167,
   "metadata": {},
   "outputs": [
    {
     "name": "stdout",
     "output_type": "stream",
     "text": [
      "[87.8, 87.56, 87.06]\n",
      "[91.65, 92.8, 91.73]\n",
      "[84.25, 82.89, 82.83]\n"
     ]
    }
   ],
   "source": [
    "pred_model_cv = [pred_rfc_cv, pred_gradient_cv, pred_logreg_cv]\n",
    "f1_cv = []\n",
    "prec_cv = []\n",
    "rec_cv = []\n",
    "\n",
    "for mod_cv in pred_model_sc:\n",
    "    f1_cv.append(round(f1_score(y_test, mod_cv)*100,2))\n",
    "    prec_cv.append(round(precision_score(y_test, mod_cv)*100,2))\n",
    "    rec_cv.append(round(recall_score(y_test, mod_cv)*100,2))\n",
    "\n",
    "print(f1_cv)\n",
    "print(prec_cv)\n",
    "print(rec_cv)"
   ]
  },
  {
   "cell_type": "code",
   "execution_count": 168,
   "metadata": {},
   "outputs": [
    {
     "data": {
      "text/html": [
       "<div>\n",
       "<style scoped>\n",
       "    .dataframe tbody tr th:only-of-type {\n",
       "        vertical-align: middle;\n",
       "    }\n",
       "\n",
       "    .dataframe tbody tr th {\n",
       "        vertical-align: top;\n",
       "    }\n",
       "\n",
       "    .dataframe thead th {\n",
       "        text-align: right;\n",
       "    }\n",
       "</style>\n",
       "<table border=\"1\" class=\"dataframe\">\n",
       "  <thead>\n",
       "    <tr style=\"text-align: right;\">\n",
       "      <th></th>\n",
       "      <th>f1_score</th>\n",
       "      <th>precision_score</th>\n",
       "      <th>recall_score</th>\n",
       "    </tr>\n",
       "  </thead>\n",
       "  <tbody>\n",
       "    <tr>\n",
       "      <th>rfc</th>\n",
       "      <td>87.80</td>\n",
       "      <td>91.65</td>\n",
       "      <td>84.25</td>\n",
       "    </tr>\n",
       "    <tr>\n",
       "      <th>gradient_boost</th>\n",
       "      <td>87.56</td>\n",
       "      <td>92.80</td>\n",
       "      <td>82.89</td>\n",
       "    </tr>\n",
       "    <tr>\n",
       "      <th>logistic_reg</th>\n",
       "      <td>87.06</td>\n",
       "      <td>91.73</td>\n",
       "      <td>82.83</td>\n",
       "    </tr>\n",
       "  </tbody>\n",
       "</table>\n",
       "</div>"
      ],
      "text/plain": [
       "                f1_score  precision_score  recall_score\n",
       "rfc                87.80            91.65         84.25\n",
       "gradient_boost     87.56            92.80         82.89\n",
       "logistic_reg       87.06            91.73         82.83"
      ]
     },
     "execution_count": 168,
     "metadata": {},
     "output_type": "execute_result"
    }
   ],
   "source": [
    "mtrc_cv_summary = pd.DataFrame([f1_cv,prec_cv,rec_cv], index=['f1_score', 'precision_score', 'recall_score'],\n",
    "                           columns=['rfc','gradient_boost','logistic_reg'])\n",
    "mtrc_cv_summary = mtrc_cv_summary.T\n",
    "mtrc_cv_summary"
   ]
  },
  {
   "cell_type": "code",
   "execution_count": 169,
   "metadata": {},
   "outputs": [],
   "source": [
    "mtrc_cv_summary = mtrc_cv_summary.reset_index()\n",
    "mtrc_cv_summary.rename(columns={'index':'model'},inplace=True)"
   ]
  },
  {
   "cell_type": "code",
   "execution_count": 170,
   "metadata": {},
   "outputs": [],
   "source": [
    "mtrc_cv_summary['tuning'] = 'yes'"
   ]
  },
  {
   "cell_type": "code",
   "execution_count": 171,
   "metadata": {},
   "outputs": [
    {
     "data": {
      "text/html": [
       "<div>\n",
       "<style scoped>\n",
       "    .dataframe tbody tr th:only-of-type {\n",
       "        vertical-align: middle;\n",
       "    }\n",
       "\n",
       "    .dataframe tbody tr th {\n",
       "        vertical-align: top;\n",
       "    }\n",
       "\n",
       "    .dataframe thead th {\n",
       "        text-align: right;\n",
       "    }\n",
       "</style>\n",
       "<table border=\"1\" class=\"dataframe\">\n",
       "  <thead>\n",
       "    <tr style=\"text-align: right;\">\n",
       "      <th></th>\n",
       "      <th>model</th>\n",
       "      <th>f1_score</th>\n",
       "      <th>precision_score</th>\n",
       "      <th>recall_score</th>\n",
       "      <th>tuning</th>\n",
       "    </tr>\n",
       "  </thead>\n",
       "  <tbody>\n",
       "    <tr>\n",
       "      <th>0</th>\n",
       "      <td>rfc</td>\n",
       "      <td>87.80</td>\n",
       "      <td>91.65</td>\n",
       "      <td>84.25</td>\n",
       "      <td>yes</td>\n",
       "    </tr>\n",
       "    <tr>\n",
       "      <th>1</th>\n",
       "      <td>gradient_boost</td>\n",
       "      <td>87.56</td>\n",
       "      <td>92.80</td>\n",
       "      <td>82.89</td>\n",
       "      <td>yes</td>\n",
       "    </tr>\n",
       "    <tr>\n",
       "      <th>2</th>\n",
       "      <td>logistic_reg</td>\n",
       "      <td>87.06</td>\n",
       "      <td>91.73</td>\n",
       "      <td>82.83</td>\n",
       "      <td>yes</td>\n",
       "    </tr>\n",
       "  </tbody>\n",
       "</table>\n",
       "</div>"
      ],
      "text/plain": [
       "            model  f1_score  precision_score  recall_score tuning\n",
       "0             rfc     87.80            91.65         84.25    yes\n",
       "1  gradient_boost     87.56            92.80         82.89    yes\n",
       "2    logistic_reg     87.06            91.73         82.83    yes"
      ]
     },
     "execution_count": 171,
     "metadata": {},
     "output_type": "execute_result"
    }
   ],
   "source": [
    "mtrc_cv_summary"
   ]
  },
  {
   "cell_type": "code",
   "execution_count": 172,
   "metadata": {},
   "outputs": [
    {
     "data": {
      "text/html": [
       "<div>\n",
       "<style scoped>\n",
       "    .dataframe tbody tr th:only-of-type {\n",
       "        vertical-align: middle;\n",
       "    }\n",
       "\n",
       "    .dataframe tbody tr th {\n",
       "        vertical-align: top;\n",
       "    }\n",
       "\n",
       "    .dataframe thead th {\n",
       "        text-align: right;\n",
       "    }\n",
       "</style>\n",
       "<table border=\"1\" class=\"dataframe\">\n",
       "  <thead>\n",
       "    <tr style=\"text-align: right;\">\n",
       "      <th></th>\n",
       "      <th>model</th>\n",
       "      <th>f1_score</th>\n",
       "      <th>precision_score</th>\n",
       "      <th>recall_score</th>\n",
       "      <th>scale</th>\n",
       "    </tr>\n",
       "  </thead>\n",
       "  <tbody>\n",
       "    <tr>\n",
       "      <th>0</th>\n",
       "      <td>rfc</td>\n",
       "      <td>87.79</td>\n",
       "      <td>91.54</td>\n",
       "      <td>84.34</td>\n",
       "      <td>no</td>\n",
       "    </tr>\n",
       "    <tr>\n",
       "      <th>1</th>\n",
       "      <td>gradient_boost</td>\n",
       "      <td>87.56</td>\n",
       "      <td>92.80</td>\n",
       "      <td>82.89</td>\n",
       "      <td>no</td>\n",
       "    </tr>\n",
       "    <tr>\n",
       "      <th>2</th>\n",
       "      <td>logistic_reg</td>\n",
       "      <td>87.06</td>\n",
       "      <td>91.88</td>\n",
       "      <td>82.72</td>\n",
       "      <td>no</td>\n",
       "    </tr>\n",
       "  </tbody>\n",
       "</table>\n",
       "</div>"
      ],
      "text/plain": [
       "            model  f1_score  precision_score  recall_score scale\n",
       "0             rfc     87.79            91.54         84.34    no\n",
       "1  gradient_boost     87.56            92.80         82.89    no\n",
       "2    logistic_reg     87.06            91.88         82.72    no"
      ]
     },
     "execution_count": 172,
     "metadata": {},
     "output_type": "execute_result"
    }
   ],
   "source": [
    "# Model with no starndardize & no also no tuning\n",
    "model_not_sc"
   ]
  },
  {
   "cell_type": "code",
   "execution_count": 173,
   "metadata": {},
   "outputs": [],
   "source": [
    "# replace scale to tuning. coz in this model we didnt do hyperparameter tuning\n",
    "model_not_sc.rename(columns={'scale':'tuning'},inplace=True)"
   ]
  },
  {
   "cell_type": "code",
   "execution_count": 174,
   "metadata": {},
   "outputs": [
    {
     "data": {
      "text/html": [
       "<div>\n",
       "<style scoped>\n",
       "    .dataframe tbody tr th:only-of-type {\n",
       "        vertical-align: middle;\n",
       "    }\n",
       "\n",
       "    .dataframe tbody tr th {\n",
       "        vertical-align: top;\n",
       "    }\n",
       "\n",
       "    .dataframe thead th {\n",
       "        text-align: right;\n",
       "    }\n",
       "</style>\n",
       "<table border=\"1\" class=\"dataframe\">\n",
       "  <thead>\n",
       "    <tr style=\"text-align: right;\">\n",
       "      <th></th>\n",
       "      <th>model</th>\n",
       "      <th>f1_score</th>\n",
       "      <th>precision_score</th>\n",
       "      <th>recall_score</th>\n",
       "      <th>tuning</th>\n",
       "    </tr>\n",
       "  </thead>\n",
       "  <tbody>\n",
       "    <tr>\n",
       "      <th>0</th>\n",
       "      <td>rfc</td>\n",
       "      <td>87.79</td>\n",
       "      <td>91.54</td>\n",
       "      <td>84.34</td>\n",
       "      <td>no</td>\n",
       "    </tr>\n",
       "    <tr>\n",
       "      <th>1</th>\n",
       "      <td>gradient_boost</td>\n",
       "      <td>87.56</td>\n",
       "      <td>92.80</td>\n",
       "      <td>82.89</td>\n",
       "      <td>no</td>\n",
       "    </tr>\n",
       "    <tr>\n",
       "      <th>2</th>\n",
       "      <td>logistic_reg</td>\n",
       "      <td>87.06</td>\n",
       "      <td>91.88</td>\n",
       "      <td>82.72</td>\n",
       "      <td>no</td>\n",
       "    </tr>\n",
       "  </tbody>\n",
       "</table>\n",
       "</div>"
      ],
      "text/plain": [
       "            model  f1_score  precision_score  recall_score tuning\n",
       "0             rfc     87.79            91.54         84.34     no\n",
       "1  gradient_boost     87.56            92.80         82.89     no\n",
       "2    logistic_reg     87.06            91.88         82.72     no"
      ]
     },
     "execution_count": 174,
     "metadata": {},
     "output_type": "execute_result"
    }
   ],
   "source": [
    "model_not_sc"
   ]
  },
  {
   "cell_type": "markdown",
   "metadata": {},
   "source": [
    "### Eval Metric Summary (tuning - no tuning)"
   ]
  },
  {
   "cell_type": "code",
   "execution_count": 175,
   "metadata": {},
   "outputs": [],
   "source": [
    "eval_all_tuning = pd.concat([model_not_sc,mtrc_cv_summary],axis=0)\n",
    "eval_all_tuning = eval_all_tuning.reset_index()\n",
    "eval_all_tuning.drop('index',axis=1, inplace=True)"
   ]
  },
  {
   "cell_type": "code",
   "execution_count": 176,
   "metadata": {},
   "outputs": [
    {
     "data": {
      "text/html": [
       "<div>\n",
       "<style scoped>\n",
       "    .dataframe tbody tr th:only-of-type {\n",
       "        vertical-align: middle;\n",
       "    }\n",
       "\n",
       "    .dataframe tbody tr th {\n",
       "        vertical-align: top;\n",
       "    }\n",
       "\n",
       "    .dataframe thead th {\n",
       "        text-align: right;\n",
       "    }\n",
       "</style>\n",
       "<table border=\"1\" class=\"dataframe\">\n",
       "  <thead>\n",
       "    <tr style=\"text-align: right;\">\n",
       "      <th></th>\n",
       "      <th>model</th>\n",
       "      <th>f1_score</th>\n",
       "      <th>precision_score</th>\n",
       "      <th>recall_score</th>\n",
       "      <th>tuning</th>\n",
       "    </tr>\n",
       "  </thead>\n",
       "  <tbody>\n",
       "    <tr>\n",
       "      <th>0</th>\n",
       "      <td>rfc</td>\n",
       "      <td>87.79</td>\n",
       "      <td>91.54</td>\n",
       "      <td>84.34</td>\n",
       "      <td>no</td>\n",
       "    </tr>\n",
       "    <tr>\n",
       "      <th>1</th>\n",
       "      <td>gradient_boost</td>\n",
       "      <td>87.56</td>\n",
       "      <td>92.80</td>\n",
       "      <td>82.89</td>\n",
       "      <td>no</td>\n",
       "    </tr>\n",
       "    <tr>\n",
       "      <th>2</th>\n",
       "      <td>logistic_reg</td>\n",
       "      <td>87.06</td>\n",
       "      <td>91.88</td>\n",
       "      <td>82.72</td>\n",
       "      <td>no</td>\n",
       "    </tr>\n",
       "    <tr>\n",
       "      <th>3</th>\n",
       "      <td>rfc</td>\n",
       "      <td>87.80</td>\n",
       "      <td>91.65</td>\n",
       "      <td>84.25</td>\n",
       "      <td>yes</td>\n",
       "    </tr>\n",
       "    <tr>\n",
       "      <th>4</th>\n",
       "      <td>gradient_boost</td>\n",
       "      <td>87.56</td>\n",
       "      <td>92.80</td>\n",
       "      <td>82.89</td>\n",
       "      <td>yes</td>\n",
       "    </tr>\n",
       "    <tr>\n",
       "      <th>5</th>\n",
       "      <td>logistic_reg</td>\n",
       "      <td>87.06</td>\n",
       "      <td>91.73</td>\n",
       "      <td>82.83</td>\n",
       "      <td>yes</td>\n",
       "    </tr>\n",
       "  </tbody>\n",
       "</table>\n",
       "</div>"
      ],
      "text/plain": [
       "            model  f1_score  precision_score  recall_score tuning\n",
       "0             rfc     87.79            91.54         84.34     no\n",
       "1  gradient_boost     87.56            92.80         82.89     no\n",
       "2    logistic_reg     87.06            91.88         82.72     no\n",
       "3             rfc     87.80            91.65         84.25    yes\n",
       "4  gradient_boost     87.56            92.80         82.89    yes\n",
       "5    logistic_reg     87.06            91.73         82.83    yes"
      ]
     },
     "execution_count": 176,
     "metadata": {},
     "output_type": "execute_result"
    }
   ],
   "source": [
    "eval_all_tuning"
   ]
  },
  {
   "cell_type": "code",
   "execution_count": 177,
   "metadata": {},
   "outputs": [
    {
     "data": {
      "text/html": [
       "<div>\n",
       "<style scoped>\n",
       "    .dataframe tbody tr th:only-of-type {\n",
       "        vertical-align: middle;\n",
       "    }\n",
       "\n",
       "    .dataframe tbody tr th {\n",
       "        vertical-align: top;\n",
       "    }\n",
       "\n",
       "    .dataframe thead th {\n",
       "        text-align: right;\n",
       "    }\n",
       "</style>\n",
       "<table border=\"1\" class=\"dataframe\">\n",
       "  <thead>\n",
       "    <tr style=\"text-align: right;\">\n",
       "      <th></th>\n",
       "      <th></th>\n",
       "      <th>f1_score</th>\n",
       "      <th>precision_score</th>\n",
       "      <th>recall_score</th>\n",
       "    </tr>\n",
       "    <tr>\n",
       "      <th>tuning</th>\n",
       "      <th>model</th>\n",
       "      <th></th>\n",
       "      <th></th>\n",
       "      <th></th>\n",
       "    </tr>\n",
       "  </thead>\n",
       "  <tbody>\n",
       "    <tr>\n",
       "      <th rowspan=\"3\" valign=\"top\">no</th>\n",
       "      <th>gradient_boost</th>\n",
       "      <td>87.56</td>\n",
       "      <td>92.80</td>\n",
       "      <td>82.89</td>\n",
       "    </tr>\n",
       "    <tr>\n",
       "      <th>logistic_reg</th>\n",
       "      <td>87.06</td>\n",
       "      <td>91.88</td>\n",
       "      <td>82.72</td>\n",
       "    </tr>\n",
       "    <tr>\n",
       "      <th>rfc</th>\n",
       "      <td>87.79</td>\n",
       "      <td>91.54</td>\n",
       "      <td>84.34</td>\n",
       "    </tr>\n",
       "    <tr>\n",
       "      <th rowspan=\"3\" valign=\"top\">yes</th>\n",
       "      <th>gradient_boost</th>\n",
       "      <td>87.56</td>\n",
       "      <td>92.80</td>\n",
       "      <td>82.89</td>\n",
       "    </tr>\n",
       "    <tr>\n",
       "      <th>logistic_reg</th>\n",
       "      <td>87.06</td>\n",
       "      <td>91.73</td>\n",
       "      <td>82.83</td>\n",
       "    </tr>\n",
       "    <tr>\n",
       "      <th>rfc</th>\n",
       "      <td>87.80</td>\n",
       "      <td>91.65</td>\n",
       "      <td>84.25</td>\n",
       "    </tr>\n",
       "  </tbody>\n",
       "</table>\n",
       "</div>"
      ],
      "text/plain": [
       "                       f1_score  precision_score  recall_score\n",
       "tuning model                                                  \n",
       "no     gradient_boost     87.56            92.80         82.89\n",
       "       logistic_reg       87.06            91.88         82.72\n",
       "       rfc                87.79            91.54         84.34\n",
       "yes    gradient_boost     87.56            92.80         82.89\n",
       "       logistic_reg       87.06            91.73         82.83\n",
       "       rfc                87.80            91.65         84.25"
      ]
     },
     "execution_count": 177,
     "metadata": {},
     "output_type": "execute_result"
    }
   ],
   "source": [
    "by_tuning = eval_all_tuning.groupby(['tuning','model']).sum()\n",
    "by_tuning"
   ]
  },
  {
   "cell_type": "code",
   "execution_count": 178,
   "metadata": {},
   "outputs": [
    {
     "data": {
      "text/plain": [
       "<matplotlib.legend.Legend at 0x2570ae7d688>"
      ]
     },
     "execution_count": 178,
     "metadata": {},
     "output_type": "execute_result"
    },
    {
     "data": {
      "image/png": "[encoded data removed]",
      "text/plain": [
       "<Figure size 576x432 with 1 Axes>"
      ]
     },
     "metadata": {
      "needs_background": "light"
     },
     "output_type": "display_data"
    }
   ],
   "source": [
    "plt.figure(figsize=(8,6))\n",
    "\n",
    "\n",
    "plt.title('F1 Score')\n",
    "sns.barplot('model', 'f1_score', hue='tuning', data=eval_all_tuning)\n",
    "plt.legend(loc='lower right')"
   ]
  },
  {
   "cell_type": "markdown",
   "metadata": {},
   "source": [
    "Setelah dilakakukan Hyper Parameter Tuning. ternyata skorny F1 satu tidak berubah semasekali. skor f1 terbaik dimiliki oleh model Random Forest\n",
    "#### Kesimpulannya Tidak perlu menggunakan  Hyper Parameter Tuning"
   ]
  },
  {
   "cell_type": "markdown",
   "metadata": {},
   "source": [
    "# Kesimpulan Akhir : Tidak perlu menggunakan tools standardize/scaler, SMOTE dan Hyperparameter Tuning"
   ]
  },
  {
   "cell_type": "code",
   "execution_count": null,
   "metadata": {},
   "outputs": [],
   "source": []
  },
  {
   "cell_type": "code",
   "execution_count": null,
   "metadata": {},
   "outputs": [],
   "source": []
  }
 ],
 "metadata": {
  "kernelspec": {
   "display_name": "Python 3",
   "language": "python",
   "name": "python3"
  },
  "language_info": {
   "codemirror_mode": {
    "name": "ipython",
    "version": 3
   },
   "file_extension": ".py",
   "mimetype": "text/x-python",
   "name": "python",
   "nbconvert_exporter": "python",
   "pygments_lexer": "ipython3",
   "version": "3.7.7"
  }
 },
 "nbformat": 4,
 "nbformat_minor": 4
}
